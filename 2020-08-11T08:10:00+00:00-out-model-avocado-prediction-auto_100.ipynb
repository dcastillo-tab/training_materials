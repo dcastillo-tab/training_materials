{
 "cells": [
  {
   "cell_type": "code",
   "execution_count": 1,
   "metadata": {
    "_cell_guid": "79c7e3d0-c299-4dcb-8224-4455121ee9b0",
    "_uuid": "d629ff2d2480ee46fbb7e2d37f6b5fab8052498a",
    "execution": {
     "iopub.execute_input": "2020-08-11T08:22:23.975418Z",
     "iopub.status.busy": "2020-08-11T08:22:23.972665Z",
     "iopub.status.idle": "2020-08-11T08:22:26.480112Z",
     "shell.execute_reply": "2020-08-11T08:22:26.477139Z"
    },
    "jupyter": {
     "source_hidden": true
    },
    "papermill": {
     "duration": 2.590702,
     "end_time": "2020-08-11T08:22:26.481069",
     "exception": false,
     "start_time": "2020-08-11T08:22:23.890367",
     "status": "completed"
    },
    "tags": []
   },
   "outputs": [],
   "source": [
    "import pandas as pd\n",
    "import numpy as np\n",
    "from sqlalchemy import create_engine\n",
    "from datetime import date\n",
    "from sklearn.metrics import mean_squared_error"
   ]
  },
  {
   "cell_type": "code",
   "execution_count": 2,
   "metadata": {
    "execution": {
     "iopub.execute_input": "2020-08-11T08:22:26.575145Z",
     "iopub.status.busy": "2020-08-11T08:22:26.572376Z",
     "iopub.status.idle": "2020-08-11T08:22:26.689086Z",
     "shell.execute_reply": "2020-08-11T08:22:26.686817Z"
    },
    "jupyter": {
     "source_hidden": true
    },
    "papermill": {
     "duration": 0.170669,
     "end_time": "2020-08-11T08:22:26.690020",
     "exception": false,
     "start_time": "2020-08-11T08:22:26.519351",
     "status": "completed"
    },
    "tags": []
   },
   "outputs": [],
   "source": [
    "# THIS IS PURELY FOR TEST PURPOSE NEVER DO THAT IN PRODUCTION\n",
    "POSTGRES_ADDRESS='postgres'\n",
    "POSTGRES_PORT='5432'\n",
    "POSTGRES_USERNAME='postgres'\n",
    "POSTGRES_PASSWORD='postgres'\n",
    "\n",
    "postgres_conn = 'postgresql://{0}:{1}@{2}:{3}/'.format(POSTGRES_USERNAME, POSTGRES_PASSWORD, POSTGRES_ADDRESS, POSTGRES_PORT)\n",
    "\n",
    "# Create the connection\n",
    "cnx = create_engine(postgres_conn)\n"
   ]
  },
  {
   "cell_type": "markdown",
   "metadata": {
    "_uuid": "1998755ef10683262b29765345cff1c1c7d10b15",
    "papermill": {
     "duration": 0.042018,
     "end_time": "2020-08-11T08:22:26.779055",
     "exception": false,
     "start_time": "2020-08-11T08:22:26.737037",
     "status": "completed"
    },
    "tags": []
   },
   "source": [
    "Read in the Avocado Prices csv file as a DataFrame called df"
   ]
  },
  {
   "cell_type": "code",
   "execution_count": 3,
   "metadata": {
    "execution": {
     "iopub.execute_input": "2020-08-11T08:22:26.878226Z",
     "iopub.status.busy": "2020-08-11T08:22:26.875508Z",
     "iopub.status.idle": "2020-08-11T08:22:26.887363Z",
     "shell.execute_reply": "2020-08-11T08:22:26.885426Z"
    },
    "jupyter": {
     "source_hidden": true
    },
    "papermill": {
     "duration": 0.066676,
     "end_time": "2020-08-11T08:22:26.888276",
     "exception": false,
     "start_time": "2020-08-11T08:22:26.821600",
     "status": "completed"
    },
    "tags": [
     "parameters"
    ]
   },
   "outputs": [],
   "source": [
    "# Parameterized\n",
    "\n",
    "filepath='avocado.csv'\n",
    "ml_id='auto_100'\n",
    "ml_date=date.today()\n",
    "n_estimators = 100\n",
    "max_features = 'auto'"
   ]
  },
  {
   "cell_type": "code",
   "execution_count": 4,
   "metadata": {
    "execution": {
     "iopub.execute_input": "2020-08-11T08:22:26.979867Z",
     "iopub.status.busy": "2020-08-11T08:22:26.977141Z",
     "iopub.status.idle": "2020-08-11T08:22:26.992963Z",
     "shell.execute_reply": "2020-08-11T08:22:26.987679Z"
    },
    "jupyter": {
     "source_hidden": true
    },
    "papermill": {
     "duration": 0.067057,
     "end_time": "2020-08-11T08:22:26.993783",
     "exception": false,
     "start_time": "2020-08-11T08:22:26.926726",
     "status": "completed"
    },
    "tags": [
     "injected-parameters"
    ]
   },
   "outputs": [],
   "source": [
    "# Parameters\n",
    "filepath = \"/tmp/avocado.csv\"\n",
    "n_estimators = 100\n",
    "max_features = \"auto\"\n",
    "ml_id = \"auto_100\"\n"
   ]
  },
  {
   "cell_type": "code",
   "execution_count": 5,
   "metadata": {
    "_uuid": "55d0e719eb8b91d763c1eacaf0f51ee0586486fc",
    "execution": {
     "iopub.execute_input": "2020-08-11T08:22:27.100249Z",
     "iopub.status.busy": "2020-08-11T08:22:27.097694Z",
     "iopub.status.idle": "2020-08-11T08:22:27.210204Z",
     "shell.execute_reply": "2020-08-11T08:22:27.212127Z"
    },
    "jupyter": {
     "source_hidden": true
    },
    "papermill": {
     "duration": 0.167456,
     "end_time": "2020-08-11T08:22:27.213133",
     "exception": false,
     "start_time": "2020-08-11T08:22:27.045677",
     "status": "completed"
    },
    "tags": []
   },
   "outputs": [],
   "source": [
    "df= pd.read_csv(filepath)"
   ]
  },
  {
   "cell_type": "markdown",
   "metadata": {
    "_uuid": "434e0457f550e2200424e5ec26162e1aa5904005",
    "papermill": {
     "duration": 0.039191,
     "end_time": "2020-08-11T08:22:27.289598",
     "exception": false,
     "start_time": "2020-08-11T08:22:27.250407",
     "status": "completed"
    },
    "tags": []
   },
   "source": [
    "The Feature \"Unnamed:0\" is just a representation of the indexes, so it's useless to keep it, lets remove it !"
   ]
  },
  {
   "cell_type": "code",
   "execution_count": 6,
   "metadata": {
    "_uuid": "9875398e37728dc3141fed4228be337a4735beb6",
    "execution": {
     "iopub.execute_input": "2020-08-11T08:22:27.398191Z",
     "iopub.status.busy": "2020-08-11T08:22:27.395692Z",
     "iopub.status.idle": "2020-08-11T08:22:27.408147Z",
     "shell.execute_reply": "2020-08-11T08:22:27.406035Z"
    },
    "jupyter": {
     "source_hidden": true
    },
    "papermill": {
     "duration": 0.078606,
     "end_time": "2020-08-11T08:22:27.409064",
     "exception": false,
     "start_time": "2020-08-11T08:22:27.330458",
     "status": "completed"
    },
    "tags": []
   },
   "outputs": [],
   "source": [
    "df.drop('Unnamed: 0',axis=1,inplace=True)"
   ]
  },
  {
   "cell_type": "markdown",
   "metadata": {
    "_uuid": "12e94ad381e4cb8d2c8a9bbe08ce07ab5d49c040",
    "papermill": {
     "duration": 0.043779,
     "end_time": "2020-08-11T08:22:27.492848",
     "exception": false,
     "start_time": "2020-08-11T08:22:27.449069",
     "status": "completed"
    },
    "tags": []
   },
   "source": [
    "well as a first observation we can see that we are lucky, we dont have any missing values (18249 complete data) and 13 columns.\n",
    "Now let's do some Feature Engineering on the Date Feature so we can be able to use the day and the month columns in building our machine learning model later. ( I didn't mention the year because its already there in data frame)"
   ]
  },
  {
   "cell_type": "code",
   "execution_count": 7,
   "metadata": {
    "_uuid": "f031639ce794656e877484d1c9c356df7028177f",
    "execution": {
     "iopub.execute_input": "2020-08-11T08:22:27.671234Z",
     "iopub.status.busy": "2020-08-11T08:22:27.666036Z",
     "iopub.status.idle": "2020-08-11T08:22:28.169010Z",
     "shell.execute_reply": "2020-08-11T08:22:28.173583Z"
    },
    "jupyter": {
     "source_hidden": true
    },
    "papermill": {
     "duration": 0.641307,
     "end_time": "2020-08-11T08:22:28.174400",
     "exception": false,
     "start_time": "2020-08-11T08:22:27.533093",
     "status": "completed"
    },
    "tags": []
   },
   "outputs": [],
   "source": [
    "df['Date']=pd.to_datetime(df['Date'])\n",
    "df['Month']=df['Date'].apply(lambda x:x.month)\n",
    "df['Day']=df['Date'].apply(lambda x:x.day)"
   ]
  },
  {
   "cell_type": "markdown",
   "metadata": {
    "_uuid": "ebdcac9924ce3e366fd3a75170682f7113385b7a",
    "papermill": {
     "duration": 0.054937,
     "end_time": "2020-08-11T08:22:28.278956",
     "exception": false,
     "start_time": "2020-08-11T08:22:28.224019",
     "status": "completed"
    },
    "tags": []
   },
   "source": [
    "as we can see we have 54 regions and 2 unique types, so it's going to be easy to to transform the type feature to dummies, but for the region its going to be a bit complexe so I decided to drop the entire column.\n",
    "I will drop the Date Feature as well because I already have 3 other columns for the Year, Month and Day."
   ]
  },
  {
   "cell_type": "code",
   "execution_count": 8,
   "metadata": {
    "_uuid": "a798682da34327b731ef262985fd50ba68e06460",
    "execution": {
     "iopub.execute_input": "2020-08-11T08:22:28.393865Z",
     "iopub.status.busy": "2020-08-11T08:22:28.390605Z",
     "iopub.status.idle": "2020-08-11T08:22:28.454755Z",
     "shell.execute_reply": "2020-08-11T08:22:28.452593Z"
    },
    "jupyter": {
     "source_hidden": true
    },
    "papermill": {
     "duration": 0.129762,
     "end_time": "2020-08-11T08:22:28.455525",
     "exception": false,
     "start_time": "2020-08-11T08:22:28.325763",
     "status": "completed"
    },
    "tags": []
   },
   "outputs": [],
   "source": [
    "df_final=pd.get_dummies(df.drop(['region','Date'],axis=1),drop_first=True)"
   ]
  },
  {
   "cell_type": "markdown",
   "metadata": {
    "_uuid": "8b74a6b88cb3e9b3e1d1e987e061048f203c7364",
    "papermill": {
     "duration": 0.041968,
     "end_time": "2020-08-11T08:22:28.540956",
     "exception": false,
     "start_time": "2020-08-11T08:22:28.498988",
     "status": "completed"
    },
    "tags": []
   },
   "source": [
    "Now our data are ready! lets apply our model which is going to be the Linear Regression because our Target variable 'AveragePrice'is continuous.\n",
    "Let's now begin to train out regression model! We will need to first split up our data into an X array that contains the features to train on, and a y array with the target variable"
   ]
  },
  {
   "cell_type": "code",
   "execution_count": 9,
   "metadata": {
    "_uuid": "830591f99de9715241e688bf9ce265e979401ff5",
    "execution": {
     "iopub.execute_input": "2020-08-11T08:22:28.657556Z",
     "iopub.status.busy": "2020-08-11T08:22:28.654770Z",
     "iopub.status.idle": "2020-08-11T08:22:28.703989Z",
     "shell.execute_reply": "2020-08-11T08:22:28.701553Z"
    },
    "jupyter": {
     "source_hidden": true
    },
    "papermill": {
     "duration": 0.11891,
     "end_time": "2020-08-11T08:22:28.704926",
     "exception": false,
     "start_time": "2020-08-11T08:22:28.586016",
     "status": "completed"
    },
    "tags": []
   },
   "outputs": [],
   "source": [
    "X=df_final.iloc[:,1:14]\n",
    "y=df_final['AveragePrice']\n",
    "from sklearn.model_selection import train_test_split\n",
    "X_train,X_test,y_train,y_test=train_test_split(X,y,test_size=0.2,random_state=42)"
   ]
  },
  {
   "cell_type": "markdown",
   "metadata": {
    "_uuid": "ea730c77a31cde9de98263079a189accb8b5772b",
    "papermill": {
     "duration": 0.075911,
     "end_time": "2020-08-11T08:22:28.843730",
     "exception": false,
     "start_time": "2020-08-11T08:22:28.767819",
     "status": "completed"
    },
    "tags": []
   },
   "source": [
    "Creating and Training the Model"
   ]
  },
  {
   "cell_type": "code",
   "execution_count": 10,
   "metadata": {
    "_uuid": "eb37015e78974e5fd2ae7e13d065c8ab0a9c6948",
    "execution": {
     "iopub.execute_input": "2020-08-11T08:22:28.973294Z",
     "iopub.status.busy": "2020-08-11T08:22:28.970543Z",
     "iopub.status.idle": "2020-08-11T08:23:03.118475Z",
     "shell.execute_reply": "2020-08-11T08:23:03.114823Z"
    },
    "jupyter": {
     "source_hidden": true
    },
    "papermill": {
     "duration": 34.207507,
     "end_time": "2020-08-11T08:23:03.119222",
     "exception": false,
     "start_time": "2020-08-11T08:22:28.911715",
     "status": "completed"
    },
    "tags": []
   },
   "outputs": [],
   "source": [
    "from sklearn.ensemble import RandomForestRegressor\n",
    "rdr = RandomForestRegressor(\n",
    "    n_estimators=n_estimators,\n",
    "    max_features=max_features\n",
    ")\n",
    "rdr.fit(X_train,y_train)\n",
    "pred=rdr.predict(X_test)"
   ]
  },
  {
   "cell_type": "code",
   "execution_count": 11,
   "metadata": {
    "_uuid": "7ed5b8d4e8abb44a4b548c13ac9fb2d65227d1c5",
    "execution": {
     "iopub.execute_input": "2020-08-11T08:23:03.210080Z",
     "iopub.status.busy": "2020-08-11T08:23:03.207742Z",
     "iopub.status.idle": "2020-08-11T08:23:03.216640Z",
     "shell.execute_reply": "2020-08-11T08:23:03.218347Z"
    },
    "jupyter": {
     "source_hidden": true
    },
    "papermill": {
     "duration": 0.061874,
     "end_time": "2020-08-11T08:23:03.219129",
     "exception": false,
     "start_time": "2020-08-11T08:23:03.157255",
     "status": "completed"
    },
    "tags": []
   },
   "outputs": [],
   "source": [
    "#%%capture cap --no-stderr\n",
    "#print(np.sqrt(mean_squared_error(y_test, pred)))"
   ]
  },
  {
   "cell_type": "code",
   "execution_count": 12,
   "metadata": {
    "execution": {
     "iopub.execute_input": "2020-08-11T08:23:03.306624Z",
     "iopub.status.busy": "2020-08-11T08:23:03.304350Z",
     "iopub.status.idle": "2020-08-11T08:23:03.313699Z",
     "shell.execute_reply": "2020-08-11T08:23:03.315323Z"
    },
    "jupyter": {
     "source_hidden": true
    },
    "papermill": {
     "duration": 0.059518,
     "end_time": "2020-08-11T08:23:03.316079",
     "exception": false,
     "start_time": "2020-08-11T08:23:03.256561",
     "status": "completed"
    },
    "tags": []
   },
   "outputs": [],
   "source": [
    "#with open(output_rmse, 'w') as f:\n",
    "#    f.write(cap.stdout)"
   ]
  },
  {
   "cell_type": "code",
   "execution_count": 13,
   "metadata": {
    "execution": {
     "iopub.execute_input": "2020-08-11T08:23:03.446114Z",
     "iopub.status.busy": "2020-08-11T08:23:03.434580Z",
     "iopub.status.idle": "2020-08-11T08:23:03.545726Z",
     "shell.execute_reply": "2020-08-11T08:23:03.543880Z"
    },
    "jupyter": {
     "source_hidden": true
    },
    "papermill": {
     "duration": 0.176242,
     "end_time": "2020-08-11T08:23:03.546542",
     "exception": false,
     "start_time": "2020-08-11T08:23:03.370300",
     "status": "completed"
    },
    "tags": []
   },
   "outputs": [
    {
     "data": {
      "text/plain": [
       "<sqlalchemy.engine.result.ResultProxy at 0x7f3c4f4dbdd0>"
      ]
     },
     "execution_count": 13,
     "metadata": {},
     "output_type": "execute_result"
    }
   ],
   "source": [
    "cnx.execute(\"\"\"\n",
    "    INSERT INTO ml.accuracies (ml_id, ml_date, accuracy) VALUES ('{0}', '{1}', {2}) \n",
    "    ON CONFLICT (ml_id, ml_date) \n",
    "    DO\n",
    "        UPDATE SET accuracy = {2};\n",
    "    \"\"\".format(ml_id, ml_date, np.sqrt(mean_squared_error(y_test, pred))))"
   ]
  }
 ],
 "metadata": {
  "kernelspec": {
   "display_name": "Python 3",
   "language": "python",
   "name": "python3"
  },
  "language_info": {
   "codemirror_mode": {
    "name": "ipython",
    "version": 3
   },
   "file_extension": ".py",
   "mimetype": "text/x-python",
   "name": "python",
   "nbconvert_exporter": "python",
   "pygments_lexer": "ipython3",
   "version": "3.7.7"
  },
  "papermill": {
   "duration": 45.428136,
   "end_time": "2020-08-11T08:23:05.359025",
   "environment_variables": {},
   "exception": null,
   "input_path": "/usr/local/airflow/include/notebooks/avocado_prediction.ipynb",
   "output_path": "/tmp/out-model-avocado-prediction-auto_100.ipynb",
   "parameters": {
    "filepath": "/tmp/avocado.csv",
    "max_features": "auto",
    "ml_id": "auto_100",
    "n_estimators": 100
   },
   "start_time": "2020-08-11T08:22:19.930889",
   "version": "2.1.2"
  }
 },
 "nbformat": 4,
 "nbformat_minor": 4
}