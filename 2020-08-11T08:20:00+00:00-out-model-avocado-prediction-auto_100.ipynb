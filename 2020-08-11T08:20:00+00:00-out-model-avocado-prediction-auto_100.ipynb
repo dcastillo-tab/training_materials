{
 "cells": [
  {
   "cell_type": "code",
   "execution_count": 1,
   "metadata": {
    "_cell_guid": "79c7e3d0-c299-4dcb-8224-4455121ee9b0",
    "_uuid": "d629ff2d2480ee46fbb7e2d37f6b5fab8052498a",
    "execution": {
     "iopub.execute_input": "2020-08-11T08:41:35.267141Z",
     "iopub.status.busy": "2020-08-11T08:41:35.266486Z",
     "iopub.status.idle": "2020-08-11T08:41:35.837702Z",
     "shell.execute_reply": "2020-08-11T08:41:35.837278Z"
    },
    "jupyter": {
     "source_hidden": true
    },
    "papermill": {
     "duration": 0.58445,
     "end_time": "2020-08-11T08:41:35.837989",
     "exception": false,
     "start_time": "2020-08-11T08:41:35.253539",
     "status": "completed"
    },
    "tags": []
   },
   "outputs": [],
   "source": [
    "import pandas as pd\n",
    "import numpy as np\n",
    "from sqlalchemy import create_engine\n",
    "from datetime import date\n",
    "from sklearn.metrics import mean_squared_error"
   ]
  },
  {
   "cell_type": "code",
   "execution_count": 2,
   "metadata": {
    "execution": {
     "iopub.execute_input": "2020-08-11T08:41:35.860588Z",
     "iopub.status.busy": "2020-08-11T08:41:35.860082Z",
     "iopub.status.idle": "2020-08-11T08:41:35.882652Z",
     "shell.execute_reply": "2020-08-11T08:41:35.882090Z"
    },
    "jupyter": {
     "source_hidden": true
    },
    "papermill": {
     "duration": 0.036696,
     "end_time": "2020-08-11T08:41:35.882931",
     "exception": false,
     "start_time": "2020-08-11T08:41:35.846235",
     "status": "completed"
    },
    "tags": []
   },
   "outputs": [],
   "source": [
    "# THIS IS PURELY FOR TEST PURPOSE NEVER DO THAT IN PRODUCTION\n",
    "POSTGRES_ADDRESS='postgres'\n",
    "POSTGRES_PORT='5432'\n",
    "POSTGRES_USERNAME='postgres'\n",
    "POSTGRES_PASSWORD='postgres'\n",
    "\n",
    "postgres_conn = 'postgresql://{0}:{1}@{2}:{3}/'.format(POSTGRES_USERNAME, POSTGRES_PASSWORD, POSTGRES_ADDRESS, POSTGRES_PORT)\n",
    "\n",
    "# Create the connection\n",
    "cnx = create_engine(postgres_conn)\n"
   ]
  },
  {
   "cell_type": "markdown",
   "metadata": {
    "_uuid": "1998755ef10683262b29765345cff1c1c7d10b15",
    "papermill": {
     "duration": 0.007803,
     "end_time": "2020-08-11T08:41:35.898528",
     "exception": false,
     "start_time": "2020-08-11T08:41:35.890725",
     "status": "completed"
    },
    "tags": []
   },
   "source": [
    "Read in the Avocado Prices csv file as a DataFrame called df"
   ]
  },
  {
   "cell_type": "code",
   "execution_count": 3,
   "metadata": {
    "execution": {
     "iopub.execute_input": "2020-08-11T08:41:35.918348Z",
     "iopub.status.busy": "2020-08-11T08:41:35.917818Z",
     "iopub.status.idle": "2020-08-11T08:41:35.920355Z",
     "shell.execute_reply": "2020-08-11T08:41:35.920799Z"
    },
    "jupyter": {
     "source_hidden": true
    },
    "papermill": {
     "duration": 0.014798,
     "end_time": "2020-08-11T08:41:35.920993",
     "exception": false,
     "start_time": "2020-08-11T08:41:35.906195",
     "status": "completed"
    },
    "tags": [
     "parameters"
    ]
   },
   "outputs": [],
   "source": [
    "# Parameterized\n",
    "\n",
    "filepath='avocado.csv'\n",
    "ml_id='auto_100'\n",
    "ml_date=date.today()\n",
    "n_estimators = 100\n",
    "max_features = 'auto'"
   ]
  },
  {
   "cell_type": "code",
   "execution_count": 4,
   "metadata": {
    "execution": {
     "iopub.execute_input": "2020-08-11T08:41:35.940390Z",
     "iopub.status.busy": "2020-08-11T08:41:35.939882Z",
     "iopub.status.idle": "2020-08-11T08:41:35.942530Z",
     "shell.execute_reply": "2020-08-11T08:41:35.942154Z"
    },
    "jupyter": {
     "source_hidden": true
    },
    "papermill": {
     "duration": 0.013837,
     "end_time": "2020-08-11T08:41:35.942697",
     "exception": false,
     "start_time": "2020-08-11T08:41:35.928860",
     "status": "completed"
    },
    "tags": [
     "injected-parameters"
    ]
   },
   "outputs": [],
   "source": [
    "# Parameters\n",
    "filepath = \"/tmp/avocado.csv\"\n",
    "n_estimators = 100\n",
    "max_features = \"auto\"\n",
    "ml_id = \"auto_100\"\n"
   ]
  },
  {
   "cell_type": "code",
   "execution_count": 5,
   "metadata": {
    "_uuid": "55d0e719eb8b91d763c1eacaf0f51ee0586486fc",
    "execution": {
     "iopub.execute_input": "2020-08-11T08:41:35.962423Z",
     "iopub.status.busy": "2020-08-11T08:41:35.961916Z",
     "iopub.status.idle": "2020-08-11T08:41:35.988140Z",
     "shell.execute_reply": "2020-08-11T08:41:35.987743Z"
    },
    "jupyter": {
     "source_hidden": true
    },
    "papermill": {
     "duration": 0.037858,
     "end_time": "2020-08-11T08:41:35.988329",
     "exception": false,
     "start_time": "2020-08-11T08:41:35.950471",
     "status": "completed"
    },
    "tags": []
   },
   "outputs": [],
   "source": [
    "df= pd.read_csv(filepath)"
   ]
  },
  {
   "cell_type": "markdown",
   "metadata": {
    "_uuid": "434e0457f550e2200424e5ec26162e1aa5904005",
    "papermill": {
     "duration": 0.01127,
     "end_time": "2020-08-11T08:41:36.008209",
     "exception": false,
     "start_time": "2020-08-11T08:41:35.996939",
     "status": "completed"
    },
    "tags": []
   },
   "source": [
    "The Feature \"Unnamed:0\" is just a representation of the indexes, so it's useless to keep it, lets remove it !"
   ]
  },
  {
   "cell_type": "code",
   "execution_count": 6,
   "metadata": {
    "_uuid": "9875398e37728dc3141fed4228be337a4735beb6",
    "execution": {
     "iopub.execute_input": "2020-08-11T08:41:36.030529Z",
     "iopub.status.busy": "2020-08-11T08:41:36.030004Z",
     "iopub.status.idle": "2020-08-11T08:41:36.032857Z",
     "shell.execute_reply": "2020-08-11T08:41:36.033200Z"
    },
    "jupyter": {
     "source_hidden": true
    },
    "papermill": {
     "duration": 0.017248,
     "end_time": "2020-08-11T08:41:36.033396",
     "exception": false,
     "start_time": "2020-08-11T08:41:36.016148",
     "status": "completed"
    },
    "tags": []
   },
   "outputs": [],
   "source": [
    "df.drop('Unnamed: 0',axis=1,inplace=True)"
   ]
  },
  {
   "cell_type": "markdown",
   "metadata": {
    "_uuid": "12e94ad381e4cb8d2c8a9bbe08ce07ab5d49c040",
    "papermill": {
     "duration": 0.00891,
     "end_time": "2020-08-11T08:41:36.052633",
     "exception": false,
     "start_time": "2020-08-11T08:41:36.043723",
     "status": "completed"
    },
    "tags": []
   },
   "source": [
    "well as a first observation we can see that we are lucky, we dont have any missing values (18249 complete data) and 13 columns.\n",
    "Now let's do some Feature Engineering on the Date Feature so we can be able to use the day and the month columns in building our machine learning model later. ( I didn't mention the year because its already there in data frame)"
   ]
  },
  {
   "cell_type": "code",
   "execution_count": 7,
   "metadata": {
    "_uuid": "f031639ce794656e877484d1c9c356df7028177f",
    "execution": {
     "iopub.execute_input": "2020-08-11T08:41:36.105785Z",
     "iopub.status.busy": "2020-08-11T08:41:36.105010Z",
     "iopub.status.idle": "2020-08-11T08:41:36.221470Z",
     "shell.execute_reply": "2020-08-11T08:41:36.220900Z"
    },
    "jupyter": {
     "source_hidden": true
    },
    "papermill": {
     "duration": 0.159346,
     "end_time": "2020-08-11T08:41:36.221648",
     "exception": false,
     "start_time": "2020-08-11T08:41:36.062302",
     "status": "completed"
    },
    "tags": []
   },
   "outputs": [],
   "source": [
    "df['Date']=pd.to_datetime(df['Date'])\n",
    "df['Month']=df['Date'].apply(lambda x:x.month)\n",
    "df['Day']=df['Date'].apply(lambda x:x.day)"
   ]
  },
  {
   "cell_type": "markdown",
   "metadata": {
    "_uuid": "ebdcac9924ce3e366fd3a75170682f7113385b7a",
    "papermill": {
     "duration": 0.00887,
     "end_time": "2020-08-11T08:41:36.238854",
     "exception": false,
     "start_time": "2020-08-11T08:41:36.229984",
     "status": "completed"
    },
    "tags": []
   },
   "source": [
    "as we can see we have 54 regions and 2 unique types, so it's going to be easy to to transform the type feature to dummies, but for the region its going to be a bit complexe so I decided to drop the entire column.\n",
    "I will drop the Date Feature as well because I already have 3 other columns for the Year, Month and Day."
   ]
  },
  {
   "cell_type": "code",
   "execution_count": 8,
   "metadata": {
    "_uuid": "a798682da34327b731ef262985fd50ba68e06460",
    "execution": {
     "iopub.execute_input": "2020-08-11T08:41:36.262421Z",
     "iopub.status.busy": "2020-08-11T08:41:36.261908Z",
     "iopub.status.idle": "2020-08-11T08:41:36.274889Z",
     "shell.execute_reply": "2020-08-11T08:41:36.275255Z"
    },
    "jupyter": {
     "source_hidden": true
    },
    "papermill": {
     "duration": 0.028268,
     "end_time": "2020-08-11T08:41:36.275471",
     "exception": false,
     "start_time": "2020-08-11T08:41:36.247203",
     "status": "completed"
    },
    "tags": []
   },
   "outputs": [],
   "source": [
    "df_final=pd.get_dummies(df.drop(['region','Date'],axis=1),drop_first=True)"
   ]
  },
  {
   "cell_type": "markdown",
   "metadata": {
    "_uuid": "8b74a6b88cb3e9b3e1d1e987e061048f203c7364",
    "papermill": {
     "duration": 0.008238,
     "end_time": "2020-08-11T08:41:36.292513",
     "exception": false,
     "start_time": "2020-08-11T08:41:36.284275",
     "status": "completed"
    },
    "tags": []
   },
   "source": [
    "Now our data are ready! lets apply our model which is going to be the Linear Regression because our Target variable 'AveragePrice'is continuous.\n",
    "Let's now begin to train out regression model! We will need to first split up our data into an X array that contains the features to train on, and a y array with the target variable"
   ]
  },
  {
   "cell_type": "code",
   "execution_count": 9,
   "metadata": {
    "_uuid": "830591f99de9715241e688bf9ce265e979401ff5",
    "execution": {
     "iopub.execute_input": "2020-08-11T08:41:36.316428Z",
     "iopub.status.busy": "2020-08-11T08:41:36.315856Z",
     "iopub.status.idle": "2020-08-11T08:41:36.332984Z",
     "shell.execute_reply": "2020-08-11T08:41:36.332483Z"
    },
    "jupyter": {
     "source_hidden": true
    },
    "papermill": {
     "duration": 0.03183,
     "end_time": "2020-08-11T08:41:36.333173",
     "exception": false,
     "start_time": "2020-08-11T08:41:36.301343",
     "status": "completed"
    },
    "tags": []
   },
   "outputs": [],
   "source": [
    "X=df_final.iloc[:,1:14]\n",
    "y=df_final['AveragePrice']\n",
    "from sklearn.model_selection import train_test_split\n",
    "X_train,X_test,y_train,y_test=train_test_split(X,y,test_size=0.2,random_state=42)"
   ]
  },
  {
   "cell_type": "markdown",
   "metadata": {
    "_uuid": "ea730c77a31cde9de98263079a189accb8b5772b",
    "papermill": {
     "duration": 0.009586,
     "end_time": "2020-08-11T08:41:36.352220",
     "exception": false,
     "start_time": "2020-08-11T08:41:36.342634",
     "status": "completed"
    },
    "tags": []
   },
   "source": [
    "Creating and Training the Model"
   ]
  },
  {
   "cell_type": "code",
   "execution_count": 10,
   "metadata": {
    "_uuid": "eb37015e78974e5fd2ae7e13d065c8ab0a9c6948",
    "execution": {
     "iopub.execute_input": "2020-08-11T08:41:36.376055Z",
     "iopub.status.busy": "2020-08-11T08:41:36.375187Z",
     "iopub.status.idle": "2020-08-11T08:41:44.864743Z",
     "shell.execute_reply": "2020-08-11T08:41:44.864177Z"
    },
    "jupyter": {
     "source_hidden": true
    },
    "papermill": {
     "duration": 8.503515,
     "end_time": "2020-08-11T08:41:44.864962",
     "exception": false,
     "start_time": "2020-08-11T08:41:36.361447",
     "status": "completed"
    },
    "tags": []
   },
   "outputs": [],
   "source": [
    "from sklearn.ensemble import RandomForestRegressor\n",
    "rdr = RandomForestRegressor(\n",
    "    n_estimators=n_estimators,\n",
    "    max_features=max_features\n",
    ")\n",
    "rdr.fit(X_train,y_train)\n",
    "pred=rdr.predict(X_test)"
   ]
  },
  {
   "cell_type": "code",
   "execution_count": 11,
   "metadata": {
    "_uuid": "7ed5b8d4e8abb44a4b548c13ac9fb2d65227d1c5",
    "execution": {
     "iopub.execute_input": "2020-08-11T08:41:44.890235Z",
     "iopub.status.busy": "2020-08-11T08:41:44.889623Z",
     "iopub.status.idle": "2020-08-11T08:41:44.894431Z",
     "shell.execute_reply": "2020-08-11T08:41:44.893331Z"
    },
    "jupyter": {
     "source_hidden": true
    },
    "papermill": {
     "duration": 0.018358,
     "end_time": "2020-08-11T08:41:44.894699",
     "exception": false,
     "start_time": "2020-08-11T08:41:44.876341",
     "status": "completed"
    },
    "tags": []
   },
   "outputs": [],
   "source": [
    "#%%capture cap --no-stderr\n",
    "#print(np.sqrt(mean_squared_error(y_test, pred)))"
   ]
  },
  {
   "cell_type": "code",
   "execution_count": 12,
   "metadata": {
    "execution": {
     "iopub.execute_input": "2020-08-11T08:41:44.918601Z",
     "iopub.status.busy": "2020-08-11T08:41:44.918005Z",
     "iopub.status.idle": "2020-08-11T08:41:44.921731Z",
     "shell.execute_reply": "2020-08-11T08:41:44.921013Z"
    },
    "jupyter": {
     "source_hidden": true
    },
    "papermill": {
     "duration": 0.017065,
     "end_time": "2020-08-11T08:41:44.921984",
     "exception": false,
     "start_time": "2020-08-11T08:41:44.904919",
     "status": "completed"
    },
    "tags": []
   },
   "outputs": [],
   "source": [
    "#with open(output_rmse, 'w') as f:\n",
    "#    f.write(cap.stdout)"
   ]
  },
  {
   "cell_type": "code",
   "execution_count": 13,
   "metadata": {
    "execution": {
     "iopub.execute_input": "2020-08-11T08:41:44.947312Z",
     "iopub.status.busy": "2020-08-11T08:41:44.946416Z",
     "iopub.status.idle": "2020-08-11T08:41:44.966813Z",
     "shell.execute_reply": "2020-08-11T08:41:44.967206Z"
    },
    "jupyter": {
     "source_hidden": true
    },
    "papermill": {
     "duration": 0.035944,
     "end_time": "2020-08-11T08:41:44.967439",
     "exception": false,
     "start_time": "2020-08-11T08:41:44.931495",
     "status": "completed"
    },
    "tags": []
   },
   "outputs": [
    {
     "data": {
      "text/plain": [
       "<sqlalchemy.engine.result.ResultProxy at 0x7fc472e48cd0>"
      ]
     },
     "execution_count": 13,
     "metadata": {},
     "output_type": "execute_result"
    }
   ],
   "source": [
    "cnx.execute(\"\"\"\n",
    "    INSERT INTO ml.accuracies (ml_id, ml_date, accuracy) VALUES ('{0}', '{1}', {2}) \n",
    "    ON CONFLICT (ml_id, ml_date) \n",
    "    DO\n",
    "        UPDATE SET accuracy = {2};\n",
    "    \"\"\".format(ml_id, ml_date, np.sqrt(mean_squared_error(y_test, pred))))"
   ]
  }
 ],
 "metadata": {
  "kernelspec": {
   "display_name": "Python 3",
   "language": "python",
   "name": "python3"
  },
  "language_info": {
   "codemirror_mode": {
    "name": "ipython",
    "version": 3
   },
   "file_extension": ".py",
   "mimetype": "text/x-python",
   "name": "python",
   "nbconvert_exporter": "python",
   "pygments_lexer": "ipython3",
   "version": "3.7.7"
  },
  "papermill": {
   "duration": 11.195125,
   "end_time": "2020-08-11T08:41:45.386625",
   "environment_variables": {},
   "exception": null,
   "input_path": "/usr/local/airflow/include/notebooks/avocado_prediction.ipynb",
   "output_path": "/tmp/out-model-avocado-prediction-auto_100.ipynb",
   "parameters": {
    "filepath": "/tmp/avocado.csv",
    "max_features": "auto",
    "ml_id": "auto_100",
    "n_estimators": 100
   },
   "start_time": "2020-08-11T08:41:34.191500",
   "version": "2.1.2"
  }
 },
 "nbformat": 4,
 "nbformat_minor": 4
}