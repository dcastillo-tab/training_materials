{
 "cells": [
  {
   "cell_type": "code",
   "execution_count": 1,
   "metadata": {
    "_cell_guid": "79c7e3d0-c299-4dcb-8224-4455121ee9b0",
    "_uuid": "d629ff2d2480ee46fbb7e2d37f6b5fab8052498a",
    "execution": {
     "iopub.execute_input": "2020-08-10T12:40:42.424840Z",
     "iopub.status.busy": "2020-08-10T12:40:42.424021Z",
     "iopub.status.idle": "2020-08-10T12:40:43.042607Z",
     "shell.execute_reply": "2020-08-10T12:40:43.042075Z"
    },
    "jupyter": {
     "source_hidden": true
    },
    "papermill": {
     "duration": 0.635355,
     "end_time": "2020-08-10T12:40:43.042802",
     "exception": false,
     "start_time": "2020-08-10T12:40:42.407447",
     "status": "completed"
    },
    "tags": []
   },
   "outputs": [],
   "source": [
    "import pandas as pd\n",
    "import numpy as np\n",
    "from sqlalchemy import create_engine\n",
    "from datetime import date\n",
    "from sklearn.metrics import mean_squared_error"
   ]
  },
  {
   "cell_type": "code",
   "execution_count": 2,
   "metadata": {
    "execution": {
     "iopub.execute_input": "2020-08-10T12:40:43.063657Z",
     "iopub.status.busy": "2020-08-10T12:40:43.062976Z",
     "iopub.status.idle": "2020-08-10T12:40:43.089409Z",
     "shell.execute_reply": "2020-08-10T12:40:43.088961Z"
    },
    "jupyter": {
     "source_hidden": true
    },
    "papermill": {
     "duration": 0.038463,
     "end_time": "2020-08-10T12:40:43.089592",
     "exception": false,
     "start_time": "2020-08-10T12:40:43.051129",
     "status": "completed"
    },
    "tags": []
   },
   "outputs": [],
   "source": [
    "# THIS IS PURELY FOR TEST PURPOSE NEVER DO THAT IN PRODUCTION\n",
    "POSTGRES_ADDRESS='postgres'\n",
    "POSTGRES_PORT='5432'\n",
    "POSTGRES_USERNAME='postgres'\n",
    "POSTGRES_PASSWORD='postgres'\n",
    "\n",
    "postgres_conn = 'postgresql://{0}:{1}@{2}:{3}/'.format(POSTGRES_USERNAME, POSTGRES_PASSWORD, POSTGRES_ADDRESS, POSTGRES_PORT)\n",
    "\n",
    "# Create the connection\n",
    "cnx = create_engine(postgres_conn)\n"
   ]
  },
  {
   "cell_type": "markdown",
   "metadata": {
    "_uuid": "1998755ef10683262b29765345cff1c1c7d10b15",
    "papermill": {
     "duration": 0.008782,
     "end_time": "2020-08-10T12:40:43.106833",
     "exception": false,
     "start_time": "2020-08-10T12:40:43.098051",
     "status": "completed"
    },
    "tags": []
   },
   "source": [
    "Read in the Avocado Prices csv file as a DataFrame called df"
   ]
  },
  {
   "cell_type": "code",
   "execution_count": 3,
   "metadata": {
    "execution": {
     "iopub.execute_input": "2020-08-10T12:40:43.128732Z",
     "iopub.status.busy": "2020-08-10T12:40:43.128149Z",
     "iopub.status.idle": "2020-08-10T12:40:43.131696Z",
     "shell.execute_reply": "2020-08-10T12:40:43.131024Z"
    },
    "jupyter": {
     "source_hidden": true
    },
    "papermill": {
     "duration": 0.016202,
     "end_time": "2020-08-10T12:40:43.131893",
     "exception": false,
     "start_time": "2020-08-10T12:40:43.115691",
     "status": "completed"
    },
    "tags": [
     "parameters"
    ]
   },
   "outputs": [],
   "source": [
    "# Parameterized\n",
    "\n",
    "filepath='avocado.csv'\n",
    "ml_id='auto_100'\n",
    "ml_date=date.today()\n",
    "n_estimators = 100\n",
    "max_features = 'auto'"
   ]
  },
  {
   "cell_type": "code",
   "execution_count": 4,
   "metadata": {
    "execution": {
     "iopub.execute_input": "2020-08-10T12:40:43.152293Z",
     "iopub.status.busy": "2020-08-10T12:40:43.151671Z",
     "iopub.status.idle": "2020-08-10T12:40:43.154881Z",
     "shell.execute_reply": "2020-08-10T12:40:43.154302Z"
    },
    "jupyter": {
     "source_hidden": true
    },
    "papermill": {
     "duration": 0.014828,
     "end_time": "2020-08-10T12:40:43.155050",
     "exception": false,
     "start_time": "2020-08-10T12:40:43.140222",
     "status": "completed"
    },
    "tags": [
     "injected-parameters"
    ]
   },
   "outputs": [],
   "source": [
    "# Parameters\n",
    "filepath = \"/tmp/avocado.csv\"\n",
    "n_estimators = 100\n",
    "max_features = \"auto\"\n",
    "ml_id = \"auto_100\"\n"
   ]
  },
  {
   "cell_type": "code",
   "execution_count": 5,
   "metadata": {
    "_uuid": "55d0e719eb8b91d763c1eacaf0f51ee0586486fc",
    "execution": {
     "iopub.execute_input": "2020-08-10T12:40:43.176087Z",
     "iopub.status.busy": "2020-08-10T12:40:43.175581Z",
     "iopub.status.idle": "2020-08-10T12:40:43.201414Z",
     "shell.execute_reply": "2020-08-10T12:40:43.200879Z"
    },
    "jupyter": {
     "source_hidden": true
    },
    "papermill": {
     "duration": 0.038568,
     "end_time": "2020-08-10T12:40:43.201597",
     "exception": false,
     "start_time": "2020-08-10T12:40:43.163029",
     "status": "completed"
    },
    "tags": []
   },
   "outputs": [],
   "source": [
    "df= pd.read_csv(filepath)"
   ]
  },
  {
   "cell_type": "markdown",
   "metadata": {
    "_uuid": "434e0457f550e2200424e5ec26162e1aa5904005",
    "papermill": {
     "duration": 0.01018,
     "end_time": "2020-08-10T12:40:43.220517",
     "exception": false,
     "start_time": "2020-08-10T12:40:43.210337",
     "status": "completed"
    },
    "tags": []
   },
   "source": [
    "The Feature \"Unnamed:0\" is just a representation of the indexes, so it's useless to keep it, lets remove it !"
   ]
  },
  {
   "cell_type": "code",
   "execution_count": 6,
   "metadata": {
    "_uuid": "9875398e37728dc3141fed4228be337a4735beb6",
    "execution": {
     "iopub.execute_input": "2020-08-10T12:40:43.248310Z",
     "iopub.status.busy": "2020-08-10T12:40:43.247230Z",
     "iopub.status.idle": "2020-08-10T12:40:43.252190Z",
     "shell.execute_reply": "2020-08-10T12:40:43.252644Z"
    },
    "jupyter": {
     "source_hidden": true
    },
    "papermill": {
     "duration": 0.024198,
     "end_time": "2020-08-10T12:40:43.252930",
     "exception": false,
     "start_time": "2020-08-10T12:40:43.228732",
     "status": "completed"
    },
    "tags": []
   },
   "outputs": [],
   "source": [
    "df.drop('Unnamed: 0',axis=1,inplace=True)"
   ]
  },
  {
   "cell_type": "markdown",
   "metadata": {
    "_uuid": "12e94ad381e4cb8d2c8a9bbe08ce07ab5d49c040",
    "papermill": {
     "duration": 0.010508,
     "end_time": "2020-08-10T12:40:43.272597",
     "exception": false,
     "start_time": "2020-08-10T12:40:43.262089",
     "status": "completed"
    },
    "tags": []
   },
   "source": [
    "well as a first observation we can see that we are lucky, we dont have any missing values (18249 complete data) and 13 columns.\n",
    "Now let's do some Feature Engineering on the Date Feature so we can be able to use the day and the month columns in building our machine learning model later. ( I didn't mention the year because its already there in data frame)"
   ]
  },
  {
   "cell_type": "code",
   "execution_count": 7,
   "metadata": {
    "_uuid": "f031639ce794656e877484d1c9c356df7028177f",
    "execution": {
     "iopub.execute_input": "2020-08-10T12:40:43.322899Z",
     "iopub.status.busy": "2020-08-10T12:40:43.322022Z",
     "iopub.status.idle": "2020-08-10T12:40:43.441455Z",
     "shell.execute_reply": "2020-08-10T12:40:43.440792Z"
    },
    "jupyter": {
     "source_hidden": true
    },
    "papermill": {
     "duration": 0.159852,
     "end_time": "2020-08-10T12:40:43.441682",
     "exception": false,
     "start_time": "2020-08-10T12:40:43.281830",
     "status": "completed"
    },
    "tags": []
   },
   "outputs": [],
   "source": [
    "df['Date']=pd.to_datetime(df['Date'])\n",
    "df['Month']=df['Date'].apply(lambda x:x.month)\n",
    "df['Day']=df['Date'].apply(lambda x:x.day)"
   ]
  },
  {
   "cell_type": "markdown",
   "metadata": {
    "_uuid": "ebdcac9924ce3e366fd3a75170682f7113385b7a",
    "papermill": {
     "duration": 0.008158,
     "end_time": "2020-08-10T12:40:43.458214",
     "exception": false,
     "start_time": "2020-08-10T12:40:43.450056",
     "status": "completed"
    },
    "tags": []
   },
   "source": [
    "as we can see we have 54 regions and 2 unique types, so it's going to be easy to to transform the type feature to dummies, but for the region its going to be a bit complexe so I decided to drop the entire column.\n",
    "I will drop the Date Feature as well because I already have 3 other columns for the Year, Month and Day."
   ]
  },
  {
   "cell_type": "code",
   "execution_count": 8,
   "metadata": {
    "_uuid": "a798682da34327b731ef262985fd50ba68e06460",
    "execution": {
     "iopub.execute_input": "2020-08-10T12:40:43.479530Z",
     "iopub.status.busy": "2020-08-10T12:40:43.478895Z",
     "iopub.status.idle": "2020-08-10T12:40:43.492659Z",
     "shell.execute_reply": "2020-08-10T12:40:43.493004Z"
    },
    "jupyter": {
     "source_hidden": true
    },
    "papermill": {
     "duration": 0.026947,
     "end_time": "2020-08-10T12:40:43.493307",
     "exception": false,
     "start_time": "2020-08-10T12:40:43.466360",
     "status": "completed"
    },
    "tags": []
   },
   "outputs": [],
   "source": [
    "df_final=pd.get_dummies(df.drop(['region','Date'],axis=1),drop_first=True)"
   ]
  },
  {
   "cell_type": "markdown",
   "metadata": {
    "_uuid": "8b74a6b88cb3e9b3e1d1e987e061048f203c7364",
    "papermill": {
     "duration": 0.008269,
     "end_time": "2020-08-10T12:40:43.510172",
     "exception": false,
     "start_time": "2020-08-10T12:40:43.501903",
     "status": "completed"
    },
    "tags": []
   },
   "source": [
    "Now our data are ready! lets apply our model which is going to be the Linear Regression because our Target variable 'AveragePrice'is continuous.\n",
    "Let's now begin to train out regression model! We will need to first split up our data into an X array that contains the features to train on, and a y array with the target variable"
   ]
  },
  {
   "cell_type": "code",
   "execution_count": 9,
   "metadata": {
    "_uuid": "830591f99de9715241e688bf9ce265e979401ff5",
    "execution": {
     "iopub.execute_input": "2020-08-10T12:40:43.532559Z",
     "iopub.status.busy": "2020-08-10T12:40:43.531957Z",
     "iopub.status.idle": "2020-08-10T12:40:43.542522Z",
     "shell.execute_reply": "2020-08-10T12:40:43.542003Z"
    },
    "jupyter": {
     "source_hidden": true
    },
    "papermill": {
     "duration": 0.023644,
     "end_time": "2020-08-10T12:40:43.542704",
     "exception": false,
     "start_time": "2020-08-10T12:40:43.519060",
     "status": "completed"
    },
    "tags": []
   },
   "outputs": [],
   "source": [
    "X=df_final.iloc[:,1:14]\n",
    "y=df_final['AveragePrice']\n",
    "from sklearn.model_selection import train_test_split\n",
    "X_train,X_test,y_train,y_test=train_test_split(X,y,test_size=0.2,random_state=42)"
   ]
  },
  {
   "cell_type": "markdown",
   "metadata": {
    "_uuid": "ea730c77a31cde9de98263079a189accb8b5772b",
    "papermill": {
     "duration": 0.008887,
     "end_time": "2020-08-10T12:40:43.559853",
     "exception": false,
     "start_time": "2020-08-10T12:40:43.550966",
     "status": "completed"
    },
    "tags": []
   },
   "source": [
    "Creating and Training the Model"
   ]
  },
  {
   "cell_type": "code",
   "execution_count": 10,
   "metadata": {
    "_uuid": "eb37015e78974e5fd2ae7e13d065c8ab0a9c6948",
    "execution": {
     "iopub.execute_input": "2020-08-10T12:40:43.581046Z",
     "iopub.status.busy": "2020-08-10T12:40:43.580528Z",
     "iopub.status.idle": "2020-08-10T12:40:52.184698Z",
     "shell.execute_reply": "2020-08-10T12:40:52.183943Z"
    },
    "jupyter": {
     "source_hidden": true
    },
    "papermill": {
     "duration": 8.616722,
     "end_time": "2020-08-10T12:40:52.184901",
     "exception": false,
     "start_time": "2020-08-10T12:40:43.568179",
     "status": "completed"
    },
    "tags": []
   },
   "outputs": [],
   "source": [
    "from sklearn.ensemble import RandomForestRegressor\n",
    "rdr = RandomForestRegressor(\n",
    "    n_estimators=n_estimators,\n",
    "    max_features=max_features\n",
    ")\n",
    "rdr.fit(X_train,y_train)\n",
    "pred=rdr.predict(X_test)"
   ]
  },
  {
   "cell_type": "code",
   "execution_count": 11,
   "metadata": {
    "_uuid": "7ed5b8d4e8abb44a4b548c13ac9fb2d65227d1c5",
    "execution": {
     "iopub.execute_input": "2020-08-10T12:40:52.206514Z",
     "iopub.status.busy": "2020-08-10T12:40:52.205897Z",
     "iopub.status.idle": "2020-08-10T12:40:52.208987Z",
     "shell.execute_reply": "2020-08-10T12:40:52.208588Z"
    },
    "jupyter": {
     "source_hidden": true
    },
    "papermill": {
     "duration": 0.014983,
     "end_time": "2020-08-10T12:40:52.209176",
     "exception": false,
     "start_time": "2020-08-10T12:40:52.194193",
     "status": "completed"
    },
    "tags": []
   },
   "outputs": [],
   "source": [
    "#%%capture cap --no-stderr\n",
    "#print(np.sqrt(mean_squared_error(y_test, pred)))"
   ]
  },
  {
   "cell_type": "code",
   "execution_count": 12,
   "metadata": {
    "execution": {
     "iopub.execute_input": "2020-08-10T12:40:52.230630Z",
     "iopub.status.busy": "2020-08-10T12:40:52.229994Z",
     "iopub.status.idle": "2020-08-10T12:40:52.233118Z",
     "shell.execute_reply": "2020-08-10T12:40:52.232567Z"
    },
    "jupyter": {
     "source_hidden": true
    },
    "papermill": {
     "duration": 0.015484,
     "end_time": "2020-08-10T12:40:52.233415",
     "exception": false,
     "start_time": "2020-08-10T12:40:52.217931",
     "status": "completed"
    },
    "tags": []
   },
   "outputs": [],
   "source": [
    "#with open(output_rmse, 'w') as f:\n",
    "#    f.write(cap.stdout)"
   ]
  },
  {
   "cell_type": "code",
   "execution_count": 13,
   "metadata": {
    "execution": {
     "iopub.execute_input": "2020-08-10T12:40:52.259072Z",
     "iopub.status.busy": "2020-08-10T12:40:52.258451Z",
     "iopub.status.idle": "2020-08-10T12:40:52.276049Z",
     "shell.execute_reply": "2020-08-10T12:40:52.276557Z"
    },
    "jupyter": {
     "source_hidden": true
    },
    "papermill": {
     "duration": 0.033261,
     "end_time": "2020-08-10T12:40:52.276796",
     "exception": false,
     "start_time": "2020-08-10T12:40:52.243535",
     "status": "completed"
    },
    "tags": []
   },
   "outputs": [
    {
     "data": {
      "text/plain": [
       "<sqlalchemy.engine.result.ResultProxy at 0x7f8f7e796a50>"
      ]
     },
     "execution_count": 13,
     "metadata": {},
     "output_type": "execute_result"
    }
   ],
   "source": [
    "cnx.execute(\"\"\"\n",
    "    INSERT INTO ml.accuracies (ml_id, ml_date, accuracy) VALUES ('{0}', '{1}', {2}) \n",
    "    ON CONFLICT (ml_id, ml_date) \n",
    "    DO\n",
    "        UPDATE SET accuracy = {2};\n",
    "    \"\"\".format(ml_id, ml_date, np.sqrt(mean_squared_error(y_test, pred))))"
   ]
  }
 ],
 "metadata": {
  "kernelspec": {
   "display_name": "Python 3",
   "language": "python",
   "name": "python3"
  },
  "language_info": {
   "codemirror_mode": {
    "name": "ipython",
    "version": 3
   },
   "file_extension": ".py",
   "mimetype": "text/x-python",
   "name": "python",
   "nbconvert_exporter": "python",
   "pygments_lexer": "ipython3",
   "version": "3.7.7"
  },
  "papermill": {
   "duration": 12.281403,
   "end_time": "2020-08-10T12:40:53.648826",
   "environment_variables": {},
   "exception": null,
   "input_path": "/usr/local/airflow/include/notebooks/avocado_prediction.ipynb",
   "output_path": "/tmp/out-model-avocado-prediction-auto_100.ipynb",
   "parameters": {
    "filepath": "/tmp/avocado.csv",
    "max_features": "auto",
    "ml_id": "auto_100",
    "n_estimators": 100
   },
   "start_time": "2020-08-10T12:40:41.367423",
   "version": "2.1.2"
  }
 },
 "nbformat": 4,
 "nbformat_minor": 4
}