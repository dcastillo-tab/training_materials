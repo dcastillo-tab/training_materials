{
 "cells": [
  {
   "cell_type": "code",
   "execution_count": 1,
   "metadata": {
    "_cell_guid": "79c7e3d0-c299-4dcb-8224-4455121ee9b0",
    "_uuid": "d629ff2d2480ee46fbb7e2d37f6b5fab8052498a",
    "execution": {
     "iopub.execute_input": "2020-08-10T17:04:31.774165Z",
     "iopub.status.busy": "2020-08-10T17:04:31.773392Z",
     "iopub.status.idle": "2020-08-10T17:04:32.460891Z",
     "shell.execute_reply": "2020-08-10T17:04:32.460319Z"
    },
    "jupyter": {
     "source_hidden": true
    },
    "papermill": {
     "duration": 0.702885,
     "end_time": "2020-08-10T17:04:32.461127",
     "exception": false,
     "start_time": "2020-08-10T17:04:31.758242",
     "status": "completed"
    },
    "tags": []
   },
   "outputs": [],
   "source": [
    "import pandas as pd\n",
    "import numpy as np\n",
    "from sqlalchemy import create_engine\n",
    "from datetime import date\n",
    "from sklearn.metrics import mean_squared_error"
   ]
  },
  {
   "cell_type": "code",
   "execution_count": 2,
   "metadata": {
    "execution": {
     "iopub.execute_input": "2020-08-10T17:04:32.485538Z",
     "iopub.status.busy": "2020-08-10T17:04:32.484894Z",
     "iopub.status.idle": "2020-08-10T17:04:32.513018Z",
     "shell.execute_reply": "2020-08-10T17:04:32.512483Z"
    },
    "jupyter": {
     "source_hidden": true
    },
    "papermill": {
     "duration": 0.042435,
     "end_time": "2020-08-10T17:04:32.513230",
     "exception": false,
     "start_time": "2020-08-10T17:04:32.470795",
     "status": "completed"
    },
    "tags": []
   },
   "outputs": [],
   "source": [
    "# THIS IS PURELY FOR TEST PURPOSE NEVER DO THAT IN PRODUCTION\n",
    "POSTGRES_ADDRESS='postgres'\n",
    "POSTGRES_PORT='5432'\n",
    "POSTGRES_USERNAME='postgres'\n",
    "POSTGRES_PASSWORD='postgres'\n",
    "\n",
    "postgres_conn = 'postgresql://{0}:{1}@{2}:{3}/'.format(POSTGRES_USERNAME, POSTGRES_PASSWORD, POSTGRES_ADDRESS, POSTGRES_PORT)\n",
    "\n",
    "# Create the connection\n",
    "cnx = create_engine(postgres_conn)\n"
   ]
  },
  {
   "cell_type": "markdown",
   "metadata": {
    "_uuid": "1998755ef10683262b29765345cff1c1c7d10b15",
    "papermill": {
     "duration": 0.008975,
     "end_time": "2020-08-10T17:04:32.531446",
     "exception": false,
     "start_time": "2020-08-10T17:04:32.522471",
     "status": "completed"
    },
    "tags": []
   },
   "source": [
    "Read in the Avocado Prices csv file as a DataFrame called df"
   ]
  },
  {
   "cell_type": "code",
   "execution_count": 3,
   "metadata": {
    "execution": {
     "iopub.execute_input": "2020-08-10T17:04:32.554196Z",
     "iopub.status.busy": "2020-08-10T17:04:32.553499Z",
     "iopub.status.idle": "2020-08-10T17:04:32.556746Z",
     "shell.execute_reply": "2020-08-10T17:04:32.557199Z"
    },
    "jupyter": {
     "source_hidden": true
    },
    "papermill": {
     "duration": 0.016966,
     "end_time": "2020-08-10T17:04:32.557448",
     "exception": false,
     "start_time": "2020-08-10T17:04:32.540482",
     "status": "completed"
    },
    "tags": [
     "parameters"
    ]
   },
   "outputs": [],
   "source": [
    "# Parameterized\n",
    "\n",
    "filepath='avocado.csv'\n",
    "ml_id='auto_100'\n",
    "ml_date=date.today()\n",
    "n_estimators = 100\n",
    "max_features = 'auto'"
   ]
  },
  {
   "cell_type": "code",
   "execution_count": 4,
   "metadata": {
    "execution": {
     "iopub.execute_input": "2020-08-10T17:04:32.580109Z",
     "iopub.status.busy": "2020-08-10T17:04:32.579496Z",
     "iopub.status.idle": "2020-08-10T17:04:32.582004Z",
     "shell.execute_reply": "2020-08-10T17:04:32.582343Z"
    },
    "jupyter": {
     "source_hidden": true
    },
    "papermill": {
     "duration": 0.015899,
     "end_time": "2020-08-10T17:04:32.582600",
     "exception": false,
     "start_time": "2020-08-10T17:04:32.566701",
     "status": "completed"
    },
    "tags": [
     "injected-parameters"
    ]
   },
   "outputs": [],
   "source": [
    "# Parameters\n",
    "filepath = \"/tmp/avocado.csv\"\n",
    "n_estimators = 150\n",
    "max_features = \"auto\"\n",
    "ml_id = \"auto_150\"\n"
   ]
  },
  {
   "cell_type": "code",
   "execution_count": 5,
   "metadata": {
    "_uuid": "55d0e719eb8b91d763c1eacaf0f51ee0586486fc",
    "execution": {
     "iopub.execute_input": "2020-08-10T17:04:32.605081Z",
     "iopub.status.busy": "2020-08-10T17:04:32.604442Z",
     "iopub.status.idle": "2020-08-10T17:04:32.635105Z",
     "shell.execute_reply": "2020-08-10T17:04:32.634577Z"
    },
    "jupyter": {
     "source_hidden": true
    },
    "papermill": {
     "duration": 0.044035,
     "end_time": "2020-08-10T17:04:32.635316",
     "exception": false,
     "start_time": "2020-08-10T17:04:32.591281",
     "status": "completed"
    },
    "tags": []
   },
   "outputs": [],
   "source": [
    "df= pd.read_csv(filepath)"
   ]
  },
  {
   "cell_type": "markdown",
   "metadata": {
    "_uuid": "434e0457f550e2200424e5ec26162e1aa5904005",
    "papermill": {
     "duration": 0.009011,
     "end_time": "2020-08-10T17:04:32.653363",
     "exception": false,
     "start_time": "2020-08-10T17:04:32.644352",
     "status": "completed"
    },
    "tags": []
   },
   "source": [
    "The Feature \"Unnamed:0\" is just a representation of the indexes, so it's useless to keep it, lets remove it !"
   ]
  },
  {
   "cell_type": "code",
   "execution_count": 6,
   "metadata": {
    "_uuid": "9875398e37728dc3141fed4228be337a4735beb6",
    "execution": {
     "iopub.execute_input": "2020-08-10T17:04:32.679947Z",
     "iopub.status.busy": "2020-08-10T17:04:32.679234Z",
     "iopub.status.idle": "2020-08-10T17:04:32.682369Z",
     "shell.execute_reply": "2020-08-10T17:04:32.681581Z"
    },
    "jupyter": {
     "source_hidden": true
    },
    "papermill": {
     "duration": 0.01927,
     "end_time": "2020-08-10T17:04:32.682624",
     "exception": false,
     "start_time": "2020-08-10T17:04:32.663354",
     "status": "completed"
    },
    "tags": []
   },
   "outputs": [],
   "source": [
    "df.drop('Unnamed: 0',axis=1,inplace=True)"
   ]
  },
  {
   "cell_type": "markdown",
   "metadata": {
    "_uuid": "12e94ad381e4cb8d2c8a9bbe08ce07ab5d49c040",
    "papermill": {
     "duration": 0.009233,
     "end_time": "2020-08-10T17:04:32.701764",
     "exception": false,
     "start_time": "2020-08-10T17:04:32.692531",
     "status": "completed"
    },
    "tags": []
   },
   "source": [
    "well as a first observation we can see that we are lucky, we dont have any missing values (18249 complete data) and 13 columns.\n",
    "Now let's do some Feature Engineering on the Date Feature so we can be able to use the day and the month columns in building our machine learning model later. ( I didn't mention the year because its already there in data frame)"
   ]
  },
  {
   "cell_type": "code",
   "execution_count": 7,
   "metadata": {
    "_uuid": "f031639ce794656e877484d1c9c356df7028177f",
    "execution": {
     "iopub.execute_input": "2020-08-10T17:04:32.767797Z",
     "iopub.status.busy": "2020-08-10T17:04:32.765739Z",
     "iopub.status.idle": "2020-08-10T17:04:32.900855Z",
     "shell.execute_reply": "2020-08-10T17:04:32.901296Z"
    },
    "jupyter": {
     "source_hidden": true
    },
    "papermill": {
     "duration": 0.190334,
     "end_time": "2020-08-10T17:04:32.901549",
     "exception": false,
     "start_time": "2020-08-10T17:04:32.711215",
     "status": "completed"
    },
    "tags": []
   },
   "outputs": [],
   "source": [
    "df['Date']=pd.to_datetime(df['Date'])\n",
    "df['Month']=df['Date'].apply(lambda x:x.month)\n",
    "df['Day']=df['Date'].apply(lambda x:x.day)"
   ]
  },
  {
   "cell_type": "markdown",
   "metadata": {
    "_uuid": "ebdcac9924ce3e366fd3a75170682f7113385b7a",
    "papermill": {
     "duration": 0.010003,
     "end_time": "2020-08-10T17:04:32.921049",
     "exception": false,
     "start_time": "2020-08-10T17:04:32.911046",
     "status": "completed"
    },
    "tags": []
   },
   "source": [
    "as we can see we have 54 regions and 2 unique types, so it's going to be easy to to transform the type feature to dummies, but for the region its going to be a bit complexe so I decided to drop the entire column.\n",
    "I will drop the Date Feature as well because I already have 3 other columns for the Year, Month and Day."
   ]
  },
  {
   "cell_type": "code",
   "execution_count": 8,
   "metadata": {
    "_uuid": "a798682da34327b731ef262985fd50ba68e06460",
    "execution": {
     "iopub.execute_input": "2020-08-10T17:04:32.953162Z",
     "iopub.status.busy": "2020-08-10T17:04:32.944077Z",
     "iopub.status.idle": "2020-08-10T17:04:32.958476Z",
     "shell.execute_reply": "2020-08-10T17:04:32.957842Z"
    },
    "jupyter": {
     "source_hidden": true
    },
    "papermill": {
     "duration": 0.028317,
     "end_time": "2020-08-10T17:04:32.958704",
     "exception": false,
     "start_time": "2020-08-10T17:04:32.930387",
     "status": "completed"
    },
    "tags": []
   },
   "outputs": [],
   "source": [
    "df_final=pd.get_dummies(df.drop(['region','Date'],axis=1),drop_first=True)"
   ]
  },
  {
   "cell_type": "markdown",
   "metadata": {
    "_uuid": "8b74a6b88cb3e9b3e1d1e987e061048f203c7364",
    "papermill": {
     "duration": 0.009519,
     "end_time": "2020-08-10T17:04:32.977452",
     "exception": false,
     "start_time": "2020-08-10T17:04:32.967933",
     "status": "completed"
    },
    "tags": []
   },
   "source": [
    "Now our data are ready! lets apply our model which is going to be the Linear Regression because our Target variable 'AveragePrice'is continuous.\n",
    "Let's now begin to train out regression model! We will need to first split up our data into an X array that contains the features to train on, and a y array with the target variable"
   ]
  },
  {
   "cell_type": "code",
   "execution_count": 9,
   "metadata": {
    "_uuid": "830591f99de9715241e688bf9ce265e979401ff5",
    "execution": {
     "iopub.execute_input": "2020-08-10T17:04:33.002806Z",
     "iopub.status.busy": "2020-08-10T17:04:33.002084Z",
     "iopub.status.idle": "2020-08-10T17:04:33.012512Z",
     "shell.execute_reply": "2020-08-10T17:04:33.011876Z"
    },
    "jupyter": {
     "source_hidden": true
    },
    "papermill": {
     "duration": 0.025704,
     "end_time": "2020-08-10T17:04:33.012757",
     "exception": false,
     "start_time": "2020-08-10T17:04:32.987053",
     "status": "completed"
    },
    "tags": []
   },
   "outputs": [],
   "source": [
    "X=df_final.iloc[:,1:14]\n",
    "y=df_final['AveragePrice']\n",
    "from sklearn.model_selection import train_test_split\n",
    "X_train,X_test,y_train,y_test=train_test_split(X,y,test_size=0.2,random_state=42)"
   ]
  },
  {
   "cell_type": "markdown",
   "metadata": {
    "_uuid": "ea730c77a31cde9de98263079a189accb8b5772b",
    "papermill": {
     "duration": 0.010117,
     "end_time": "2020-08-10T17:04:33.034743",
     "exception": false,
     "start_time": "2020-08-10T17:04:33.024626",
     "status": "completed"
    },
    "tags": []
   },
   "source": [
    "Creating and Training the Model"
   ]
  },
  {
   "cell_type": "code",
   "execution_count": 10,
   "metadata": {
    "_uuid": "eb37015e78974e5fd2ae7e13d065c8ab0a9c6948",
    "execution": {
     "iopub.execute_input": "2020-08-10T17:04:33.061536Z",
     "iopub.status.busy": "2020-08-10T17:04:33.060900Z",
     "iopub.status.idle": "2020-08-10T17:04:47.275859Z",
     "shell.execute_reply": "2020-08-10T17:04:47.275021Z"
    },
    "jupyter": {
     "source_hidden": true
    },
    "papermill": {
     "duration": 14.2304,
     "end_time": "2020-08-10T17:04:47.276066",
     "exception": false,
     "start_time": "2020-08-10T17:04:33.045666",
     "status": "completed"
    },
    "tags": []
   },
   "outputs": [],
   "source": [
    "from sklearn.ensemble import RandomForestRegressor\n",
    "rdr = RandomForestRegressor(\n",
    "    n_estimators=n_estimators,\n",
    "    max_features=max_features\n",
    ")\n",
    "rdr.fit(X_train,y_train)\n",
    "pred=rdr.predict(X_test)"
   ]
  },
  {
   "cell_type": "code",
   "execution_count": 11,
   "metadata": {
    "_uuid": "7ed5b8d4e8abb44a4b548c13ac9fb2d65227d1c5",
    "execution": {
     "iopub.execute_input": "2020-08-10T17:04:47.302246Z",
     "iopub.status.busy": "2020-08-10T17:04:47.300212Z",
     "iopub.status.idle": "2020-08-10T17:04:47.302948Z",
     "shell.execute_reply": "2020-08-10T17:04:47.303373Z"
    },
    "jupyter": {
     "source_hidden": true
    },
    "papermill": {
     "duration": 0.017395,
     "end_time": "2020-08-10T17:04:47.303669",
     "exception": false,
     "start_time": "2020-08-10T17:04:47.286274",
     "status": "completed"
    },
    "tags": []
   },
   "outputs": [],
   "source": [
    "#%%capture cap --no-stderr\n",
    "#print(np.sqrt(mean_squared_error(y_test, pred)))"
   ]
  },
  {
   "cell_type": "code",
   "execution_count": 12,
   "metadata": {
    "execution": {
     "iopub.execute_input": "2020-08-10T17:04:47.329128Z",
     "iopub.status.busy": "2020-08-10T17:04:47.327578Z",
     "iopub.status.idle": "2020-08-10T17:04:47.330265Z",
     "shell.execute_reply": "2020-08-10T17:04:47.329727Z"
    },
    "jupyter": {
     "source_hidden": true
    },
    "papermill": {
     "duration": 0.017162,
     "end_time": "2020-08-10T17:04:47.330510",
     "exception": false,
     "start_time": "2020-08-10T17:04:47.313348",
     "status": "completed"
    },
    "tags": []
   },
   "outputs": [],
   "source": [
    "#with open(output_rmse, 'w') as f:\n",
    "#    f.write(cap.stdout)"
   ]
  },
  {
   "cell_type": "code",
   "execution_count": 13,
   "metadata": {
    "execution": {
     "iopub.execute_input": "2020-08-10T17:04:47.361753Z",
     "iopub.status.busy": "2020-08-10T17:04:47.361081Z",
     "iopub.status.idle": "2020-08-10T17:04:47.380793Z",
     "shell.execute_reply": "2020-08-10T17:04:47.381250Z"
    },
    "jupyter": {
     "source_hidden": true
    },
    "papermill": {
     "duration": 0.040356,
     "end_time": "2020-08-10T17:04:47.381501",
     "exception": false,
     "start_time": "2020-08-10T17:04:47.341145",
     "status": "completed"
    },
    "tags": []
   },
   "outputs": [
    {
     "data": {
      "text/plain": [
       "<sqlalchemy.engine.result.ResultProxy at 0x7f1e344c7b90>"
      ]
     },
     "execution_count": 13,
     "metadata": {},
     "output_type": "execute_result"
    }
   ],
   "source": [
    "cnx.execute(\"\"\"\n",
    "    INSERT INTO ml.accuracies (ml_id, ml_date, accuracy) VALUES ('{0}', '{1}', {2}) \n",
    "    ON CONFLICT (ml_id, ml_date) \n",
    "    DO\n",
    "        UPDATE SET accuracy = {2};\n",
    "    \"\"\".format(ml_id, ml_date, np.sqrt(mean_squared_error(y_test, pred))))"
   ]
  }
 ],
 "metadata": {
  "kernelspec": {
   "display_name": "Python 3",
   "language": "python",
   "name": "python3"
  },
  "language_info": {
   "codemirror_mode": {
    "name": "ipython",
    "version": 3
   },
   "file_extension": ".py",
   "mimetype": "text/x-python",
   "name": "python",
   "nbconvert_exporter": "python",
   "pygments_lexer": "ipython3",
   "version": "3.7.7"
  },
  "papermill": {
   "duration": 17.268241,
   "end_time": "2020-08-10T17:04:47.809352",
   "environment_variables": {},
   "exception": null,
   "input_path": "/usr/local/airflow/include/notebooks/avocado_prediction.ipynb",
   "output_path": "/tmp/out-model-avocado-prediction-auto_150.ipynb",
   "parameters": {
    "filepath": "/tmp/avocado.csv",
    "max_features": "auto",
    "ml_id": "auto_150",
    "n_estimators": 150
   },
   "start_time": "2020-08-10T17:04:30.541111",
   "version": "2.1.2"
  }
 },
 "nbformat": 4,
 "nbformat_minor": 4
}