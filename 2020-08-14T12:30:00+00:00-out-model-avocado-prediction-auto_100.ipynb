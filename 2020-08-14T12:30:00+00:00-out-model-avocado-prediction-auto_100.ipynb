{
 "cells": [
  {
   "cell_type": "code",
   "execution_count": 1,
   "metadata": {
    "_cell_guid": "79c7e3d0-c299-4dcb-8224-4455121ee9b0",
    "_uuid": "d629ff2d2480ee46fbb7e2d37f6b5fab8052498a",
    "execution": {
     "iopub.execute_input": "2020-08-14T12:49:01.125500Z",
     "iopub.status.busy": "2020-08-14T12:49:01.124634Z",
     "iopub.status.idle": "2020-08-14T12:49:02.410759Z",
     "shell.execute_reply": "2020-08-14T12:49:02.409863Z"
    },
    "jupyter": {
     "source_hidden": true
    },
    "papermill": {
     "duration": 1.311697,
     "end_time": "2020-08-14T12:49:02.411303",
     "exception": false,
     "start_time": "2020-08-14T12:49:01.099606",
     "status": "completed"
    },
    "tags": []
   },
   "outputs": [],
   "source": [
    "import pandas as pd\n",
    "import numpy as np\n",
    "from sqlalchemy import create_engine\n",
    "from datetime import date\n",
    "from sklearn.metrics import mean_squared_error"
   ]
  },
  {
   "cell_type": "code",
   "execution_count": 2,
   "metadata": {
    "execution": {
     "iopub.execute_input": "2020-08-14T12:49:02.461638Z",
     "iopub.status.busy": "2020-08-14T12:49:02.455817Z",
     "iopub.status.idle": "2020-08-14T12:49:02.598669Z",
     "shell.execute_reply": "2020-08-14T12:49:02.599642Z"
    },
    "jupyter": {
     "source_hidden": true
    },
    "papermill": {
     "duration": 0.17274,
     "end_time": "2020-08-14T12:49:02.600022",
     "exception": false,
     "start_time": "2020-08-14T12:49:02.427282",
     "status": "completed"
    },
    "tags": []
   },
   "outputs": [],
   "source": [
    "# THIS IS PURELY FOR TEST PURPOSE NEVER DO THAT IN PRODUCTION\n",
    "POSTGRES_ADDRESS='postgres'\n",
    "POSTGRES_PORT='5432'\n",
    "POSTGRES_USERNAME='postgres'\n",
    "POSTGRES_PASSWORD='postgres'\n",
    "\n",
    "postgres_conn = 'postgresql://{0}:{1}@{2}:{3}/'.format(POSTGRES_USERNAME, POSTGRES_PASSWORD, POSTGRES_ADDRESS, POSTGRES_PORT)\n",
    "\n",
    "# Create the connection\n",
    "cnx = create_engine(postgres_conn)\n"
   ]
  },
  {
   "cell_type": "markdown",
   "metadata": {
    "_uuid": "1998755ef10683262b29765345cff1c1c7d10b15",
    "papermill": {
     "duration": 0.015104,
     "end_time": "2020-08-14T12:49:02.627655",
     "exception": false,
     "start_time": "2020-08-14T12:49:02.612551",
     "status": "completed"
    },
    "tags": []
   },
   "source": [
    "Read in the Avocado Prices csv file as a DataFrame called df"
   ]
  },
  {
   "cell_type": "code",
   "execution_count": 3,
   "metadata": {
    "execution": {
     "iopub.execute_input": "2020-08-14T12:49:02.666321Z",
     "iopub.status.busy": "2020-08-14T12:49:02.665392Z",
     "iopub.status.idle": "2020-08-14T12:49:02.669862Z",
     "shell.execute_reply": "2020-08-14T12:49:02.669080Z"
    },
    "jupyter": {
     "source_hidden": true
    },
    "papermill": {
     "duration": 0.027209,
     "end_time": "2020-08-14T12:49:02.670194",
     "exception": false,
     "start_time": "2020-08-14T12:49:02.642985",
     "status": "completed"
    },
    "tags": [
     "parameters"
    ]
   },
   "outputs": [],
   "source": [
    "# Parameterized\n",
    "\n",
    "filepath='avocado.csv'\n",
    "ml_id='auto_100'\n",
    "ml_date=date.today()\n",
    "n_estimators = 100\n",
    "max_features = 'auto'"
   ]
  },
  {
   "cell_type": "code",
   "execution_count": 4,
   "metadata": {
    "execution": {
     "iopub.execute_input": "2020-08-14T12:49:02.707571Z",
     "iopub.status.busy": "2020-08-14T12:49:02.706263Z",
     "iopub.status.idle": "2020-08-14T12:49:02.714466Z",
     "shell.execute_reply": "2020-08-14T12:49:02.715615Z"
    },
    "jupyter": {
     "source_hidden": true
    },
    "papermill": {
     "duration": 0.033552,
     "end_time": "2020-08-14T12:49:02.716025",
     "exception": false,
     "start_time": "2020-08-14T12:49:02.682473",
     "status": "completed"
    },
    "tags": [
     "injected-parameters"
    ]
   },
   "outputs": [],
   "source": [
    "# Parameters\n",
    "filepath = \"/tmp/avocado.csv\"\n",
    "n_estimators = 100\n",
    "max_features = \"auto\"\n",
    "ml_id = \"auto_100\"\n"
   ]
  },
  {
   "cell_type": "code",
   "execution_count": 5,
   "metadata": {
    "_uuid": "55d0e719eb8b91d763c1eacaf0f51ee0586486fc",
    "execution": {
     "iopub.execute_input": "2020-08-14T12:49:02.751553Z",
     "iopub.status.busy": "2020-08-14T12:49:02.750656Z",
     "iopub.status.idle": "2020-08-14T12:49:02.803127Z",
     "shell.execute_reply": "2020-08-14T12:49:02.798704Z"
    },
    "jupyter": {
     "source_hidden": true
    },
    "papermill": {
     "duration": 0.075008,
     "end_time": "2020-08-14T12:49:02.803459",
     "exception": false,
     "start_time": "2020-08-14T12:49:02.728451",
     "status": "completed"
    },
    "tags": []
   },
   "outputs": [],
   "source": [
    "df= pd.read_csv(filepath)"
   ]
  },
  {
   "cell_type": "markdown",
   "metadata": {
    "_uuid": "434e0457f550e2200424e5ec26162e1aa5904005",
    "papermill": {
     "duration": 0.014931,
     "end_time": "2020-08-14T12:49:02.832140",
     "exception": false,
     "start_time": "2020-08-14T12:49:02.817209",
     "status": "completed"
    },
    "tags": []
   },
   "source": [
    "The Feature \"Unnamed:0\" is just a representation of the indexes, so it's useless to keep it, lets remove it !"
   ]
  },
  {
   "cell_type": "code",
   "execution_count": 6,
   "metadata": {
    "_uuid": "9875398e37728dc3141fed4228be337a4735beb6",
    "execution": {
     "iopub.execute_input": "2020-08-14T12:49:02.871358Z",
     "iopub.status.busy": "2020-08-14T12:49:02.870282Z",
     "iopub.status.idle": "2020-08-14T12:49:02.885638Z",
     "shell.execute_reply": "2020-08-14T12:49:02.884114Z"
    },
    "jupyter": {
     "source_hidden": true
    },
    "papermill": {
     "duration": 0.040773,
     "end_time": "2020-08-14T12:49:02.886001",
     "exception": false,
     "start_time": "2020-08-14T12:49:02.845228",
     "status": "completed"
    },
    "tags": []
   },
   "outputs": [],
   "source": [
    "df.drop('Unnamed: 0',axis=1,inplace=True)"
   ]
  },
  {
   "cell_type": "markdown",
   "metadata": {
    "_uuid": "12e94ad381e4cb8d2c8a9bbe08ce07ab5d49c040",
    "papermill": {
     "duration": 0.01851,
     "end_time": "2020-08-14T12:49:02.918716",
     "exception": false,
     "start_time": "2020-08-14T12:49:02.900206",
     "status": "completed"
    },
    "tags": []
   },
   "source": [
    "well as a first observation we can see that we are lucky, we dont have any missing values (18249 complete data) and 13 columns.\n",
    "Now let's do some Feature Engineering on the Date Feature so we can be able to use the day and the month columns in building our machine learning model later. ( I didn't mention the year because its already there in data frame)"
   ]
  },
  {
   "cell_type": "code",
   "execution_count": 7,
   "metadata": {
    "_uuid": "f031639ce794656e877484d1c9c356df7028177f",
    "execution": {
     "iopub.execute_input": "2020-08-14T12:49:02.966287Z",
     "iopub.status.busy": "2020-08-14T12:49:02.965418Z",
     "iopub.status.idle": "2020-08-14T12:49:03.144680Z",
     "shell.execute_reply": "2020-08-14T12:49:03.143510Z"
    },
    "jupyter": {
     "source_hidden": true
    },
    "papermill": {
     "duration": 0.209887,
     "end_time": "2020-08-14T12:49:03.145017",
     "exception": false,
     "start_time": "2020-08-14T12:49:02.935130",
     "status": "completed"
    },
    "tags": []
   },
   "outputs": [],
   "source": [
    "df['Date']=pd.to_datetime(df['Date'])\n",
    "df['Month']=df['Date'].apply(lambda x:x.month)\n",
    "df['Day']=df['Date'].apply(lambda x:x.day)"
   ]
  },
  {
   "cell_type": "markdown",
   "metadata": {
    "_uuid": "ebdcac9924ce3e366fd3a75170682f7113385b7a",
    "papermill": {
     "duration": 0.017176,
     "end_time": "2020-08-14T12:49:03.180688",
     "exception": false,
     "start_time": "2020-08-14T12:49:03.163512",
     "status": "completed"
    },
    "tags": []
   },
   "source": [
    "as we can see we have 54 regions and 2 unique types, so it's going to be easy to to transform the type feature to dummies, but for the region its going to be a bit complexe so I decided to drop the entire column.\n",
    "I will drop the Date Feature as well because I already have 3 other columns for the Year, Month and Day."
   ]
  },
  {
   "cell_type": "code",
   "execution_count": 8,
   "metadata": {
    "_uuid": "a798682da34327b731ef262985fd50ba68e06460",
    "execution": {
     "iopub.execute_input": "2020-08-14T12:49:03.221121Z",
     "iopub.status.busy": "2020-08-14T12:49:03.219330Z",
     "iopub.status.idle": "2020-08-14T12:49:03.245377Z",
     "shell.execute_reply": "2020-08-14T12:49:03.246539Z"
    },
    "jupyter": {
     "source_hidden": true
    },
    "papermill": {
     "duration": 0.054052,
     "end_time": "2020-08-14T12:49:03.247185",
     "exception": false,
     "start_time": "2020-08-14T12:49:03.193133",
     "status": "completed"
    },
    "tags": []
   },
   "outputs": [],
   "source": [
    "df_final=pd.get_dummies(df.drop(['region','Date'],axis=1),drop_first=True)"
   ]
  },
  {
   "cell_type": "markdown",
   "metadata": {
    "_uuid": "8b74a6b88cb3e9b3e1d1e987e061048f203c7364",
    "papermill": {
     "duration": 0.014217,
     "end_time": "2020-08-14T12:49:03.274233",
     "exception": false,
     "start_time": "2020-08-14T12:49:03.260016",
     "status": "completed"
    },
    "tags": []
   },
   "source": [
    "Now our data are ready! lets apply our model which is going to be the Linear Regression because our Target variable 'AveragePrice'is continuous.\n",
    "Let's now begin to train out regression model! We will need to first split up our data into an X array that contains the features to train on, and a y array with the target variable"
   ]
  },
  {
   "cell_type": "code",
   "execution_count": 9,
   "metadata": {
    "_uuid": "830591f99de9715241e688bf9ce265e979401ff5",
    "execution": {
     "iopub.execute_input": "2020-08-14T12:49:03.312310Z",
     "iopub.status.busy": "2020-08-14T12:49:03.310914Z",
     "iopub.status.idle": "2020-08-14T12:49:03.362363Z",
     "shell.execute_reply": "2020-08-14T12:49:03.361056Z"
    },
    "jupyter": {
     "source_hidden": true
    },
    "papermill": {
     "duration": 0.076454,
     "end_time": "2020-08-14T12:49:03.362892",
     "exception": false,
     "start_time": "2020-08-14T12:49:03.286438",
     "status": "completed"
    },
    "tags": []
   },
   "outputs": [],
   "source": [
    "X=df_final.iloc[:,1:14]\n",
    "y=df_final['AveragePrice']\n",
    "from sklearn.model_selection import train_test_split\n",
    "X_train,X_test,y_train,y_test=train_test_split(X,y,test_size=0.2,random_state=42)"
   ]
  },
  {
   "cell_type": "markdown",
   "metadata": {
    "_uuid": "ea730c77a31cde9de98263079a189accb8b5772b",
    "papermill": {
     "duration": 0.01746,
     "end_time": "2020-08-14T12:49:03.400670",
     "exception": false,
     "start_time": "2020-08-14T12:49:03.383210",
     "status": "completed"
    },
    "tags": []
   },
   "source": [
    "Creating and Training the Model"
   ]
  },
  {
   "cell_type": "code",
   "execution_count": 10,
   "metadata": {
    "_uuid": "eb37015e78974e5fd2ae7e13d065c8ab0a9c6948",
    "execution": {
     "iopub.execute_input": "2020-08-14T12:49:03.442619Z",
     "iopub.status.busy": "2020-08-14T12:49:03.441282Z",
     "iopub.status.idle": "2020-08-14T12:49:15.954494Z",
     "shell.execute_reply": "2020-08-14T12:49:15.953817Z"
    },
    "jupyter": {
     "source_hidden": true
    },
    "papermill": {
     "duration": 12.534685,
     "end_time": "2020-08-14T12:49:15.954761",
     "exception": false,
     "start_time": "2020-08-14T12:49:03.420076",
     "status": "completed"
    },
    "tags": []
   },
   "outputs": [],
   "source": [
    "from sklearn.ensemble import RandomForestRegressor\n",
    "rdr = RandomForestRegressor(\n",
    "    n_estimators=n_estimators,\n",
    "    max_features=max_features\n",
    ")\n",
    "rdr.fit(X_train,y_train)\n",
    "pred=rdr.predict(X_test)"
   ]
  },
  {
   "cell_type": "code",
   "execution_count": 11,
   "metadata": {
    "_uuid": "7ed5b8d4e8abb44a4b548c13ac9fb2d65227d1c5",
    "execution": {
     "iopub.execute_input": "2020-08-14T12:49:15.988832Z",
     "iopub.status.busy": "2020-08-14T12:49:15.988118Z",
     "iopub.status.idle": "2020-08-14T12:49:15.994583Z",
     "shell.execute_reply": "2020-08-14T12:49:15.991889Z"
    },
    "jupyter": {
     "source_hidden": true
    },
    "papermill": {
     "duration": 0.023589,
     "end_time": "2020-08-14T12:49:15.994968",
     "exception": false,
     "start_time": "2020-08-14T12:49:15.971379",
     "status": "completed"
    },
    "tags": []
   },
   "outputs": [],
   "source": [
    "#%%capture cap --no-stderr\n",
    "#print(np.sqrt(mean_squared_error(y_test, pred)))"
   ]
  },
  {
   "cell_type": "code",
   "execution_count": 12,
   "metadata": {
    "execution": {
     "iopub.execute_input": "2020-08-14T12:49:16.032012Z",
     "iopub.status.busy": "2020-08-14T12:49:16.031250Z",
     "iopub.status.idle": "2020-08-14T12:49:16.038105Z",
     "shell.execute_reply": "2020-08-14T12:49:16.036262Z"
    },
    "jupyter": {
     "source_hidden": true
    },
    "papermill": {
     "duration": 0.030913,
     "end_time": "2020-08-14T12:49:16.039828",
     "exception": false,
     "start_time": "2020-08-14T12:49:16.008915",
     "status": "completed"
    },
    "tags": []
   },
   "outputs": [],
   "source": [
    "#with open(output_rmse, 'w') as f:\n",
    "#    f.write(cap.stdout)"
   ]
  },
  {
   "cell_type": "code",
   "execution_count": 13,
   "metadata": {
    "execution": {
     "iopub.execute_input": "2020-08-14T12:49:16.100562Z",
     "iopub.status.busy": "2020-08-14T12:49:16.099184Z",
     "iopub.status.idle": "2020-08-14T12:49:16.147788Z",
     "shell.execute_reply": "2020-08-14T12:49:16.146433Z"
    },
    "jupyter": {
     "source_hidden": true
    },
    "papermill": {
     "duration": 0.08735,
     "end_time": "2020-08-14T12:49:16.148344",
     "exception": false,
     "start_time": "2020-08-14T12:49:16.060994",
     "status": "completed"
    },
    "tags": []
   },
   "outputs": [
    {
     "data": {
      "text/plain": [
       "<sqlalchemy.engine.result.ResultProxy at 0x7f6fb97e8c50>"
      ]
     },
     "execution_count": 13,
     "metadata": {},
     "output_type": "execute_result"
    }
   ],
   "source": [
    "cnx.execute(\"\"\"\n",
    "    INSERT INTO ml.accuracies (ml_id, ml_date, accuracy) VALUES ('{0}', '{1}', {2}) \n",
    "    ON CONFLICT (ml_id, ml_date) \n",
    "    DO\n",
    "        UPDATE SET accuracy = {2};\n",
    "    \"\"\".format(ml_id, ml_date, np.sqrt(mean_squared_error(y_test, pred))))"
   ]
  }
 ],
 "metadata": {
  "kernelspec": {
   "display_name": "Python 3",
   "language": "python",
   "name": "python3"
  },
  "language_info": {
   "codemirror_mode": {
    "name": "ipython",
    "version": 3
   },
   "file_extension": ".py",
   "mimetype": "text/x-python",
   "name": "python",
   "nbconvert_exporter": "python",
   "pygments_lexer": "ipython3",
   "version": "3.7.8"
  },
  "papermill": {
   "duration": 17.27391,
   "end_time": "2020-08-14T12:49:16.681177",
   "environment_variables": {},
   "exception": null,
   "input_path": "/usr/local/airflow/include/notebooks/avocado_prediction.ipynb",
   "output_path": "/tmp/out-model-avocado-prediction-auto_100.ipynb",
   "parameters": {
    "filepath": "/tmp/avocado.csv",
    "max_features": "auto",
    "ml_id": "auto_100",
    "n_estimators": 100
   },
   "start_time": "2020-08-14T12:48:59.407267",
   "version": "2.1.2"
  }
 },
 "nbformat": 4,
 "nbformat_minor": 4
}