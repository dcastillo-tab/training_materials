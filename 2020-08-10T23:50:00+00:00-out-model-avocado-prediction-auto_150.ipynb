{
 "cells": [
  {
   "cell_type": "code",
   "execution_count": 1,
   "metadata": {
    "_cell_guid": "79c7e3d0-c299-4dcb-8224-4455121ee9b0",
    "_uuid": "d629ff2d2480ee46fbb7e2d37f6b5fab8052498a",
    "execution": {
     "iopub.execute_input": "2020-08-11T08:16:21.566735Z",
     "iopub.status.busy": "2020-08-11T08:16:21.564124Z",
     "iopub.status.idle": "2020-08-11T08:16:23.937515Z",
     "shell.execute_reply": "2020-08-11T08:16:23.934709Z"
    },
    "jupyter": {
     "source_hidden": true
    },
    "papermill": {
     "duration": 2.451148,
     "end_time": "2020-08-11T08:16:23.938438",
     "exception": false,
     "start_time": "2020-08-11T08:16:21.487290",
     "status": "completed"
    },
    "tags": []
   },
   "outputs": [],
   "source": [
    "import pandas as pd\n",
    "import numpy as np\n",
    "from sqlalchemy import create_engine\n",
    "from datetime import date\n",
    "from sklearn.metrics import mean_squared_error"
   ]
  },
  {
   "cell_type": "code",
   "execution_count": 2,
   "metadata": {
    "execution": {
     "iopub.execute_input": "2020-08-11T08:16:24.029413Z",
     "iopub.status.busy": "2020-08-11T08:16:24.026251Z",
     "iopub.status.idle": "2020-08-11T08:16:24.120904Z",
     "shell.execute_reply": "2020-08-11T08:16:24.123009Z"
    },
    "jupyter": {
     "source_hidden": true
    },
    "papermill": {
     "duration": 0.148758,
     "end_time": "2020-08-11T08:16:24.123981",
     "exception": false,
     "start_time": "2020-08-11T08:16:23.975223",
     "status": "completed"
    },
    "tags": []
   },
   "outputs": [],
   "source": [
    "# THIS IS PURELY FOR TEST PURPOSE NEVER DO THAT IN PRODUCTION\n",
    "POSTGRES_ADDRESS='postgres'\n",
    "POSTGRES_PORT='5432'\n",
    "POSTGRES_USERNAME='postgres'\n",
    "POSTGRES_PASSWORD='postgres'\n",
    "\n",
    "postgres_conn = 'postgresql://{0}:{1}@{2}:{3}/'.format(POSTGRES_USERNAME, POSTGRES_PASSWORD, POSTGRES_ADDRESS, POSTGRES_PORT)\n",
    "\n",
    "# Create the connection\n",
    "cnx = create_engine(postgres_conn)\n"
   ]
  },
  {
   "cell_type": "markdown",
   "metadata": {
    "_uuid": "1998755ef10683262b29765345cff1c1c7d10b15",
    "papermill": {
     "duration": 0.039185,
     "end_time": "2020-08-11T08:16:24.201102",
     "exception": false,
     "start_time": "2020-08-11T08:16:24.161917",
     "status": "completed"
    },
    "tags": []
   },
   "source": [
    "Read in the Avocado Prices csv file as a DataFrame called df"
   ]
  },
  {
   "cell_type": "code",
   "execution_count": 3,
   "metadata": {
    "execution": {
     "iopub.execute_input": "2020-08-11T08:16:24.301214Z",
     "iopub.status.busy": "2020-08-11T08:16:24.298534Z",
     "iopub.status.idle": "2020-08-11T08:16:24.305158Z",
     "shell.execute_reply": "2020-08-11T08:16:24.306902Z"
    },
    "jupyter": {
     "source_hidden": true
    },
    "papermill": {
     "duration": 0.068135,
     "end_time": "2020-08-11T08:16:24.307835",
     "exception": false,
     "start_time": "2020-08-11T08:16:24.239700",
     "status": "completed"
    },
    "tags": [
     "parameters"
    ]
   },
   "outputs": [],
   "source": [
    "# Parameterized\n",
    "\n",
    "filepath='avocado.csv'\n",
    "ml_id='auto_100'\n",
    "ml_date=date.today()\n",
    "n_estimators = 100\n",
    "max_features = 'auto'"
   ]
  },
  {
   "cell_type": "code",
   "execution_count": 4,
   "metadata": {
    "execution": {
     "iopub.execute_input": "2020-08-11T08:16:24.408607Z",
     "iopub.status.busy": "2020-08-11T08:16:24.404685Z",
     "iopub.status.idle": "2020-08-11T08:16:24.415893Z",
     "shell.execute_reply": "2020-08-11T08:16:24.417682Z"
    },
    "jupyter": {
     "source_hidden": true
    },
    "papermill": {
     "duration": 0.062596,
     "end_time": "2020-08-11T08:16:24.418490",
     "exception": false,
     "start_time": "2020-08-11T08:16:24.355894",
     "status": "completed"
    },
    "tags": [
     "injected-parameters"
    ]
   },
   "outputs": [],
   "source": [
    "# Parameters\n",
    "filepath = \"/tmp/avocado.csv\"\n",
    "n_estimators = 150\n",
    "max_features = \"auto\"\n",
    "ml_id = \"auto_150\"\n"
   ]
  },
  {
   "cell_type": "code",
   "execution_count": 5,
   "metadata": {
    "_uuid": "55d0e719eb8b91d763c1eacaf0f51ee0586486fc",
    "execution": {
     "iopub.execute_input": "2020-08-11T08:16:24.503382Z",
     "iopub.status.busy": "2020-08-11T08:16:24.500906Z",
     "iopub.status.idle": "2020-08-11T08:16:24.614145Z",
     "shell.execute_reply": "2020-08-11T08:16:24.616017Z"
    },
    "jupyter": {
     "source_hidden": true
    },
    "papermill": {
     "duration": 0.163298,
     "end_time": "2020-08-11T08:16:24.616908",
     "exception": false,
     "start_time": "2020-08-11T08:16:24.453610",
     "status": "completed"
    },
    "tags": []
   },
   "outputs": [],
   "source": [
    "df= pd.read_csv(filepath)"
   ]
  },
  {
   "cell_type": "markdown",
   "metadata": {
    "_uuid": "434e0457f550e2200424e5ec26162e1aa5904005",
    "papermill": {
     "duration": 0.04019,
     "end_time": "2020-08-11T08:16:24.699933",
     "exception": false,
     "start_time": "2020-08-11T08:16:24.659743",
     "status": "completed"
    },
    "tags": []
   },
   "source": [
    "The Feature \"Unnamed:0\" is just a representation of the indexes, so it's useless to keep it, lets remove it !"
   ]
  },
  {
   "cell_type": "code",
   "execution_count": 6,
   "metadata": {
    "_uuid": "9875398e37728dc3141fed4228be337a4735beb6",
    "execution": {
     "iopub.execute_input": "2020-08-11T08:16:24.794608Z",
     "iopub.status.busy": "2020-08-11T08:16:24.791820Z",
     "iopub.status.idle": "2020-08-11T08:16:24.800000Z",
     "shell.execute_reply": "2020-08-11T08:16:24.802639Z"
    },
    "jupyter": {
     "source_hidden": true
    },
    "papermill": {
     "duration": 0.067522,
     "end_time": "2020-08-11T08:16:24.803403",
     "exception": false,
     "start_time": "2020-08-11T08:16:24.735881",
     "status": "completed"
    },
    "tags": []
   },
   "outputs": [],
   "source": [
    "df.drop('Unnamed: 0',axis=1,inplace=True)"
   ]
  },
  {
   "cell_type": "markdown",
   "metadata": {
    "_uuid": "12e94ad381e4cb8d2c8a9bbe08ce07ab5d49c040",
    "papermill": {
     "duration": 0.040224,
     "end_time": "2020-08-11T08:16:24.888476",
     "exception": false,
     "start_time": "2020-08-11T08:16:24.848252",
     "status": "completed"
    },
    "tags": []
   },
   "source": [
    "well as a first observation we can see that we are lucky, we dont have any missing values (18249 complete data) and 13 columns.\n",
    "Now let's do some Feature Engineering on the Date Feature so we can be able to use the day and the month columns in building our machine learning model later. ( I didn't mention the year because its already there in data frame)"
   ]
  },
  {
   "cell_type": "code",
   "execution_count": 7,
   "metadata": {
    "_uuid": "f031639ce794656e877484d1c9c356df7028177f",
    "execution": {
     "iopub.execute_input": "2020-08-11T08:16:25.070352Z",
     "iopub.status.busy": "2020-08-11T08:16:25.067992Z",
     "iopub.status.idle": "2020-08-11T08:16:25.531795Z",
     "shell.execute_reply": "2020-08-11T08:16:25.533892Z"
    },
    "jupyter": {
     "source_hidden": true
    },
    "papermill": {
     "duration": 0.610574,
     "end_time": "2020-08-11T08:16:25.534680",
     "exception": false,
     "start_time": "2020-08-11T08:16:24.924106",
     "status": "completed"
    },
    "tags": []
   },
   "outputs": [],
   "source": [
    "df['Date']=pd.to_datetime(df['Date'])\n",
    "df['Month']=df['Date'].apply(lambda x:x.month)\n",
    "df['Day']=df['Date'].apply(lambda x:x.day)"
   ]
  },
  {
   "cell_type": "markdown",
   "metadata": {
    "_uuid": "ebdcac9924ce3e366fd3a75170682f7113385b7a",
    "papermill": {
     "duration": 0.037048,
     "end_time": "2020-08-11T08:16:25.609332",
     "exception": false,
     "start_time": "2020-08-11T08:16:25.572284",
     "status": "completed"
    },
    "tags": []
   },
   "source": [
    "as we can see we have 54 regions and 2 unique types, so it's going to be easy to to transform the type feature to dummies, but for the region its going to be a bit complexe so I decided to drop the entire column.\n",
    "I will drop the Date Feature as well because I already have 3 other columns for the Year, Month and Day."
   ]
  },
  {
   "cell_type": "code",
   "execution_count": 8,
   "metadata": {
    "_uuid": "a798682da34327b731ef262985fd50ba68e06460",
    "execution": {
     "iopub.execute_input": "2020-08-11T08:16:25.714288Z",
     "iopub.status.busy": "2020-08-11T08:16:25.711930Z",
     "iopub.status.idle": "2020-08-11T08:16:25.769419Z",
     "shell.execute_reply": "2020-08-11T08:16:25.767317Z"
    },
    "jupyter": {
     "source_hidden": true
    },
    "papermill": {
     "duration": 0.11718,
     "end_time": "2020-08-11T08:16:25.770274",
     "exception": false,
     "start_time": "2020-08-11T08:16:25.653094",
     "status": "completed"
    },
    "tags": []
   },
   "outputs": [],
   "source": [
    "df_final=pd.get_dummies(df.drop(['region','Date'],axis=1),drop_first=True)"
   ]
  },
  {
   "cell_type": "markdown",
   "metadata": {
    "_uuid": "8b74a6b88cb3e9b3e1d1e987e061048f203c7364",
    "papermill": {
     "duration": 0.043747,
     "end_time": "2020-08-11T08:16:25.858067",
     "exception": false,
     "start_time": "2020-08-11T08:16:25.814320",
     "status": "completed"
    },
    "tags": []
   },
   "source": [
    "Now our data are ready! lets apply our model which is going to be the Linear Regression because our Target variable 'AveragePrice'is continuous.\n",
    "Let's now begin to train out regression model! We will need to first split up our data into an X array that contains the features to train on, and a y array with the target variable"
   ]
  },
  {
   "cell_type": "code",
   "execution_count": 9,
   "metadata": {
    "_uuid": "830591f99de9715241e688bf9ce265e979401ff5",
    "execution": {
     "iopub.execute_input": "2020-08-11T08:16:25.985728Z",
     "iopub.status.busy": "2020-08-11T08:16:25.970025Z",
     "iopub.status.idle": "2020-08-11T08:16:26.021123Z",
     "shell.execute_reply": "2020-08-11T08:16:26.018384Z"
    },
    "jupyter": {
     "source_hidden": true
    },
    "papermill": {
     "duration": 0.115283,
     "end_time": "2020-08-11T08:16:26.022011",
     "exception": false,
     "start_time": "2020-08-11T08:16:25.906728",
     "status": "completed"
    },
    "tags": []
   },
   "outputs": [],
   "source": [
    "X=df_final.iloc[:,1:14]\n",
    "y=df_final['AveragePrice']\n",
    "from sklearn.model_selection import train_test_split\n",
    "X_train,X_test,y_train,y_test=train_test_split(X,y,test_size=0.2,random_state=42)"
   ]
  },
  {
   "cell_type": "markdown",
   "metadata": {
    "_uuid": "ea730c77a31cde9de98263079a189accb8b5772b",
    "papermill": {
     "duration": 0.037779,
     "end_time": "2020-08-11T08:16:26.097400",
     "exception": false,
     "start_time": "2020-08-11T08:16:26.059621",
     "status": "completed"
    },
    "tags": []
   },
   "source": [
    "Creating and Training the Model"
   ]
  },
  {
   "cell_type": "code",
   "execution_count": 10,
   "metadata": {
    "_uuid": "eb37015e78974e5fd2ae7e13d065c8ab0a9c6948",
    "execution": {
     "iopub.execute_input": "2020-08-11T08:16:26.212999Z",
     "iopub.status.busy": "2020-08-11T08:16:26.210526Z",
     "iopub.status.idle": "2020-08-11T08:17:15.843008Z",
     "shell.execute_reply": "2020-08-11T08:17:15.844721Z"
    },
    "jupyter": {
     "source_hidden": true
    },
    "papermill": {
     "duration": 49.709049,
     "end_time": "2020-08-11T08:17:15.845663",
     "exception": false,
     "start_time": "2020-08-11T08:16:26.136614",
     "status": "completed"
    },
    "tags": []
   },
   "outputs": [],
   "source": [
    "from sklearn.ensemble import RandomForestRegressor\n",
    "rdr = RandomForestRegressor(\n",
    "    n_estimators=n_estimators,\n",
    "    max_features=max_features\n",
    ")\n",
    "rdr.fit(X_train,y_train)\n",
    "pred=rdr.predict(X_test)"
   ]
  },
  {
   "cell_type": "code",
   "execution_count": 11,
   "metadata": {
    "_uuid": "7ed5b8d4e8abb44a4b548c13ac9fb2d65227d1c5",
    "execution": {
     "iopub.execute_input": "2020-08-11T08:17:15.950895Z",
     "iopub.status.busy": "2020-08-11T08:17:15.946231Z",
     "iopub.status.idle": "2020-08-11T08:17:15.962692Z",
     "shell.execute_reply": "2020-08-11T08:17:15.960836Z"
    },
    "jupyter": {
     "source_hidden": true
    },
    "papermill": {
     "duration": 0.077591,
     "end_time": "2020-08-11T08:17:15.963257",
     "exception": false,
     "start_time": "2020-08-11T08:17:15.885666",
     "status": "completed"
    },
    "tags": []
   },
   "outputs": [],
   "source": [
    "#%%capture cap --no-stderr\n",
    "#print(np.sqrt(mean_squared_error(y_test, pred)))"
   ]
  },
  {
   "cell_type": "code",
   "execution_count": 12,
   "metadata": {
    "execution": {
     "iopub.execute_input": "2020-08-11T08:17:16.082966Z",
     "iopub.status.busy": "2020-08-11T08:17:16.080076Z",
     "iopub.status.idle": "2020-08-11T08:17:16.088038Z",
     "shell.execute_reply": "2020-08-11T08:17:16.090007Z"
    },
    "jupyter": {
     "source_hidden": true
    },
    "papermill": {
     "duration": 0.076214,
     "end_time": "2020-08-11T08:17:16.090904",
     "exception": false,
     "start_time": "2020-08-11T08:17:16.014690",
     "status": "completed"
    },
    "tags": []
   },
   "outputs": [],
   "source": [
    "#with open(output_rmse, 'w') as f:\n",
    "#    f.write(cap.stdout)"
   ]
  },
  {
   "cell_type": "code",
   "execution_count": 13,
   "metadata": {
    "execution": {
     "iopub.execute_input": "2020-08-11T08:17:16.203756Z",
     "iopub.status.busy": "2020-08-11T08:17:16.201482Z",
     "iopub.status.idle": "2020-08-11T08:17:16.275617Z",
     "shell.execute_reply": "2020-08-11T08:17:16.273039Z"
    },
    "jupyter": {
     "source_hidden": true
    },
    "papermill": {
     "duration": 0.13866,
     "end_time": "2020-08-11T08:17:16.276303",
     "exception": false,
     "start_time": "2020-08-11T08:17:16.137643",
     "status": "completed"
    },
    "tags": []
   },
   "outputs": [
    {
     "data": {
      "text/plain": [
       "<sqlalchemy.engine.result.ResultProxy at 0x7f5034362950>"
      ]
     },
     "execution_count": 13,
     "metadata": {},
     "output_type": "execute_result"
    }
   ],
   "source": [
    "cnx.execute(\"\"\"\n",
    "    INSERT INTO ml.accuracies (ml_id, ml_date, accuracy) VALUES ('{0}', '{1}', {2}) \n",
    "    ON CONFLICT (ml_id, ml_date) \n",
    "    DO\n",
    "        UPDATE SET accuracy = {2};\n",
    "    \"\"\".format(ml_id, ml_date, np.sqrt(mean_squared_error(y_test, pred))))"
   ]
  }
 ],
 "metadata": {
  "kernelspec": {
   "display_name": "Python 3",
   "language": "python",
   "name": "python3"
  },
  "language_info": {
   "codemirror_mode": {
    "name": "ipython",
    "version": 3
   },
   "file_extension": ".py",
   "mimetype": "text/x-python",
   "name": "python",
   "nbconvert_exporter": "python",
   "pygments_lexer": "ipython3",
   "version": "3.7.7"
  },
  "papermill": {
   "duration": 59.03644,
   "end_time": "2020-08-11T08:17:17.146843",
   "environment_variables": {},
   "exception": null,
   "input_path": "/usr/local/airflow/include/notebooks/avocado_prediction.ipynb",
   "output_path": "/tmp/out-model-avocado-prediction-auto_150.ipynb",
   "parameters": {
    "filepath": "/tmp/avocado.csv",
    "max_features": "auto",
    "ml_id": "auto_150",
    "n_estimators": 150
   },
   "start_time": "2020-08-11T08:16:18.110403",
   "version": "2.1.2"
  }
 },
 "nbformat": 4,
 "nbformat_minor": 4
}