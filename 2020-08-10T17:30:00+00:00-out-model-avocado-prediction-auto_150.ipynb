{
 "cells": [
  {
   "cell_type": "code",
   "execution_count": 1,
   "metadata": {
    "_cell_guid": "79c7e3d0-c299-4dcb-8224-4455121ee9b0",
    "_uuid": "d629ff2d2480ee46fbb7e2d37f6b5fab8052498a",
    "execution": {
     "iopub.execute_input": "2020-08-10T17:40:56.411726Z",
     "iopub.status.busy": "2020-08-10T17:40:56.411031Z",
     "iopub.status.idle": "2020-08-10T17:40:56.993420Z",
     "shell.execute_reply": "2020-08-10T17:40:56.993013Z"
    },
    "jupyter": {
     "source_hidden": true
    },
    "papermill": {
     "duration": 0.596591,
     "end_time": "2020-08-10T17:40:56.993612",
     "exception": false,
     "start_time": "2020-08-10T17:40:56.397021",
     "status": "completed"
    },
    "tags": []
   },
   "outputs": [],
   "source": [
    "import pandas as pd\n",
    "import numpy as np\n",
    "from sqlalchemy import create_engine\n",
    "from datetime import date\n",
    "from sklearn.metrics import mean_squared_error"
   ]
  },
  {
   "cell_type": "code",
   "execution_count": 2,
   "metadata": {
    "execution": {
     "iopub.execute_input": "2020-08-10T17:40:57.014362Z",
     "iopub.status.busy": "2020-08-10T17:40:57.013869Z",
     "iopub.status.idle": "2020-08-10T17:40:57.042233Z",
     "shell.execute_reply": "2020-08-10T17:40:57.041431Z"
    },
    "jupyter": {
     "source_hidden": true
    },
    "papermill": {
     "duration": 0.040662,
     "end_time": "2020-08-10T17:40:57.042430",
     "exception": false,
     "start_time": "2020-08-10T17:40:57.001768",
     "status": "completed"
    },
    "tags": []
   },
   "outputs": [],
   "source": [
    "# THIS IS PURELY FOR TEST PURPOSE NEVER DO THAT IN PRODUCTION\n",
    "POSTGRES_ADDRESS='postgres'\n",
    "POSTGRES_PORT='5432'\n",
    "POSTGRES_USERNAME='postgres'\n",
    "POSTGRES_PASSWORD='postgres'\n",
    "\n",
    "postgres_conn = 'postgresql://{0}:{1}@{2}:{3}/'.format(POSTGRES_USERNAME, POSTGRES_PASSWORD, POSTGRES_ADDRESS, POSTGRES_PORT)\n",
    "\n",
    "# Create the connection\n",
    "cnx = create_engine(postgres_conn)\n"
   ]
  },
  {
   "cell_type": "markdown",
   "metadata": {
    "_uuid": "1998755ef10683262b29765345cff1c1c7d10b15",
    "papermill": {
     "duration": 0.007629,
     "end_time": "2020-08-10T17:40:57.058082",
     "exception": false,
     "start_time": "2020-08-10T17:40:57.050453",
     "status": "completed"
    },
    "tags": []
   },
   "source": [
    "Read in the Avocado Prices csv file as a DataFrame called df"
   ]
  },
  {
   "cell_type": "code",
   "execution_count": 3,
   "metadata": {
    "execution": {
     "iopub.execute_input": "2020-08-10T17:40:57.079219Z",
     "iopub.status.busy": "2020-08-10T17:40:57.078698Z",
     "iopub.status.idle": "2020-08-10T17:40:57.082475Z",
     "shell.execute_reply": "2020-08-10T17:40:57.081825Z"
    },
    "jupyter": {
     "source_hidden": true
    },
    "papermill": {
     "duration": 0.017151,
     "end_time": "2020-08-10T17:40:57.082706",
     "exception": false,
     "start_time": "2020-08-10T17:40:57.065555",
     "status": "completed"
    },
    "tags": [
     "parameters"
    ]
   },
   "outputs": [],
   "source": [
    "# Parameterized\n",
    "\n",
    "filepath='avocado.csv'\n",
    "ml_id='auto_100'\n",
    "ml_date=date.today()\n",
    "n_estimators = 100\n",
    "max_features = 'auto'"
   ]
  },
  {
   "cell_type": "code",
   "execution_count": 4,
   "metadata": {
    "execution": {
     "iopub.execute_input": "2020-08-10T17:40:57.102985Z",
     "iopub.status.busy": "2020-08-10T17:40:57.102337Z",
     "iopub.status.idle": "2020-08-10T17:40:57.105464Z",
     "shell.execute_reply": "2020-08-10T17:40:57.105084Z"
    },
    "jupyter": {
     "source_hidden": true
    },
    "papermill": {
     "duration": 0.014455,
     "end_time": "2020-08-10T17:40:57.105636",
     "exception": false,
     "start_time": "2020-08-10T17:40:57.091181",
     "status": "completed"
    },
    "tags": [
     "injected-parameters"
    ]
   },
   "outputs": [],
   "source": [
    "# Parameters\n",
    "filepath = \"/tmp/avocado.csv\"\n",
    "n_estimators = 150\n",
    "max_features = \"auto\"\n",
    "ml_id = \"auto_150\"\n"
   ]
  },
  {
   "cell_type": "code",
   "execution_count": 5,
   "metadata": {
    "_uuid": "55d0e719eb8b91d763c1eacaf0f51ee0586486fc",
    "execution": {
     "iopub.execute_input": "2020-08-10T17:40:57.125239Z",
     "iopub.status.busy": "2020-08-10T17:40:57.124624Z",
     "iopub.status.idle": "2020-08-10T17:40:57.149626Z",
     "shell.execute_reply": "2020-08-10T17:40:57.149240Z"
    },
    "jupyter": {
     "source_hidden": true
    },
    "papermill": {
     "duration": 0.036286,
     "end_time": "2020-08-10T17:40:57.149804",
     "exception": false,
     "start_time": "2020-08-10T17:40:57.113518",
     "status": "completed"
    },
    "tags": []
   },
   "outputs": [],
   "source": [
    "df= pd.read_csv(filepath)"
   ]
  },
  {
   "cell_type": "markdown",
   "metadata": {
    "_uuid": "434e0457f550e2200424e5ec26162e1aa5904005",
    "papermill": {
     "duration": 0.008244,
     "end_time": "2020-08-10T17:40:57.166233",
     "exception": false,
     "start_time": "2020-08-10T17:40:57.157989",
     "status": "completed"
    },
    "tags": []
   },
   "source": [
    "The Feature \"Unnamed:0\" is just a representation of the indexes, so it's useless to keep it, lets remove it !"
   ]
  },
  {
   "cell_type": "code",
   "execution_count": 6,
   "metadata": {
    "_uuid": "9875398e37728dc3141fed4228be337a4735beb6",
    "execution": {
     "iopub.execute_input": "2020-08-10T17:40:57.188031Z",
     "iopub.status.busy": "2020-08-10T17:40:57.187414Z",
     "iopub.status.idle": "2020-08-10T17:40:57.190341Z",
     "shell.execute_reply": "2020-08-10T17:40:57.189950Z"
    },
    "jupyter": {
     "source_hidden": true
    },
    "papermill": {
     "duration": 0.016327,
     "end_time": "2020-08-10T17:40:57.190517",
     "exception": false,
     "start_time": "2020-08-10T17:40:57.174190",
     "status": "completed"
    },
    "tags": []
   },
   "outputs": [],
   "source": [
    "df.drop('Unnamed: 0',axis=1,inplace=True)"
   ]
  },
  {
   "cell_type": "markdown",
   "metadata": {
    "_uuid": "12e94ad381e4cb8d2c8a9bbe08ce07ab5d49c040",
    "papermill": {
     "duration": 0.010223,
     "end_time": "2020-08-10T17:40:57.209023",
     "exception": false,
     "start_time": "2020-08-10T17:40:57.198800",
     "status": "completed"
    },
    "tags": []
   },
   "source": [
    "well as a first observation we can see that we are lucky, we dont have any missing values (18249 complete data) and 13 columns.\n",
    "Now let's do some Feature Engineering on the Date Feature so we can be able to use the day and the month columns in building our machine learning model later. ( I didn't mention the year because its already there in data frame)"
   ]
  },
  {
   "cell_type": "code",
   "execution_count": 7,
   "metadata": {
    "_uuid": "f031639ce794656e877484d1c9c356df7028177f",
    "execution": {
     "iopub.execute_input": "2020-08-10T17:40:57.262818Z",
     "iopub.status.busy": "2020-08-10T17:40:57.261704Z",
     "iopub.status.idle": "2020-08-10T17:40:57.376556Z",
     "shell.execute_reply": "2020-08-10T17:40:57.377003Z"
    },
    "jupyter": {
     "source_hidden": true
    },
    "papermill": {
     "duration": 0.157866,
     "end_time": "2020-08-10T17:40:57.377248",
     "exception": false,
     "start_time": "2020-08-10T17:40:57.219382",
     "status": "completed"
    },
    "tags": []
   },
   "outputs": [],
   "source": [
    "df['Date']=pd.to_datetime(df['Date'])\n",
    "df['Month']=df['Date'].apply(lambda x:x.month)\n",
    "df['Day']=df['Date'].apply(lambda x:x.day)"
   ]
  },
  {
   "cell_type": "markdown",
   "metadata": {
    "_uuid": "ebdcac9924ce3e366fd3a75170682f7113385b7a",
    "papermill": {
     "duration": 0.008401,
     "end_time": "2020-08-10T17:40:57.394427",
     "exception": false,
     "start_time": "2020-08-10T17:40:57.386026",
     "status": "completed"
    },
    "tags": []
   },
   "source": [
    "as we can see we have 54 regions and 2 unique types, so it's going to be easy to to transform the type feature to dummies, but for the region its going to be a bit complexe so I decided to drop the entire column.\n",
    "I will drop the Date Feature as well because I already have 3 other columns for the Year, Month and Day."
   ]
  },
  {
   "cell_type": "code",
   "execution_count": 8,
   "metadata": {
    "_uuid": "a798682da34327b731ef262985fd50ba68e06460",
    "execution": {
     "iopub.execute_input": "2020-08-10T17:40:57.418641Z",
     "iopub.status.busy": "2020-08-10T17:40:57.418006Z",
     "iopub.status.idle": "2020-08-10T17:40:57.433479Z",
     "shell.execute_reply": "2020-08-10T17:40:57.432836Z"
    },
    "jupyter": {
     "source_hidden": true
    },
    "papermill": {
     "duration": 0.030379,
     "end_time": "2020-08-10T17:40:57.433684",
     "exception": false,
     "start_time": "2020-08-10T17:40:57.403305",
     "status": "completed"
    },
    "tags": []
   },
   "outputs": [],
   "source": [
    "df_final=pd.get_dummies(df.drop(['region','Date'],axis=1),drop_first=True)"
   ]
  },
  {
   "cell_type": "markdown",
   "metadata": {
    "_uuid": "8b74a6b88cb3e9b3e1d1e987e061048f203c7364",
    "papermill": {
     "duration": 0.009023,
     "end_time": "2020-08-10T17:40:57.452411",
     "exception": false,
     "start_time": "2020-08-10T17:40:57.443388",
     "status": "completed"
    },
    "tags": []
   },
   "source": [
    "Now our data are ready! lets apply our model which is going to be the Linear Regression because our Target variable 'AveragePrice'is continuous.\n",
    "Let's now begin to train out regression model! We will need to first split up our data into an X array that contains the features to train on, and a y array with the target variable"
   ]
  },
  {
   "cell_type": "code",
   "execution_count": 9,
   "metadata": {
    "_uuid": "830591f99de9715241e688bf9ce265e979401ff5",
    "execution": {
     "iopub.execute_input": "2020-08-10T17:40:57.474827Z",
     "iopub.status.busy": "2020-08-10T17:40:57.474211Z",
     "iopub.status.idle": "2020-08-10T17:40:57.483637Z",
     "shell.execute_reply": "2020-08-10T17:40:57.483007Z"
    },
    "jupyter": {
     "source_hidden": true
    },
    "papermill": {
     "duration": 0.022772,
     "end_time": "2020-08-10T17:40:57.483874",
     "exception": false,
     "start_time": "2020-08-10T17:40:57.461102",
     "status": "completed"
    },
    "tags": []
   },
   "outputs": [],
   "source": [
    "X=df_final.iloc[:,1:14]\n",
    "y=df_final['AveragePrice']\n",
    "from sklearn.model_selection import train_test_split\n",
    "X_train,X_test,y_train,y_test=train_test_split(X,y,test_size=0.2,random_state=42)"
   ]
  },
  {
   "cell_type": "markdown",
   "metadata": {
    "_uuid": "ea730c77a31cde9de98263079a189accb8b5772b",
    "papermill": {
     "duration": 0.008821,
     "end_time": "2020-08-10T17:40:57.501340",
     "exception": false,
     "start_time": "2020-08-10T17:40:57.492519",
     "status": "completed"
    },
    "tags": []
   },
   "source": [
    "Creating and Training the Model"
   ]
  },
  {
   "cell_type": "code",
   "execution_count": 10,
   "metadata": {
    "_uuid": "eb37015e78974e5fd2ae7e13d065c8ab0a9c6948",
    "execution": {
     "iopub.execute_input": "2020-08-10T17:40:57.522886Z",
     "iopub.status.busy": "2020-08-10T17:40:57.522357Z",
     "iopub.status.idle": "2020-08-10T17:41:09.723687Z",
     "shell.execute_reply": "2020-08-10T17:41:09.723190Z"
    },
    "jupyter": {
     "source_hidden": true
    },
    "papermill": {
     "duration": 12.214257,
     "end_time": "2020-08-10T17:41:09.723898",
     "exception": false,
     "start_time": "2020-08-10T17:40:57.509641",
     "status": "completed"
    },
    "tags": []
   },
   "outputs": [],
   "source": [
    "from sklearn.ensemble import RandomForestRegressor\n",
    "rdr = RandomForestRegressor(\n",
    "    n_estimators=n_estimators,\n",
    "    max_features=max_features\n",
    ")\n",
    "rdr.fit(X_train,y_train)\n",
    "pred=rdr.predict(X_test)"
   ]
  },
  {
   "cell_type": "code",
   "execution_count": 11,
   "metadata": {
    "_uuid": "7ed5b8d4e8abb44a4b548c13ac9fb2d65227d1c5",
    "execution": {
     "iopub.execute_input": "2020-08-10T17:41:09.745955Z",
     "iopub.status.busy": "2020-08-10T17:41:09.745367Z",
     "iopub.status.idle": "2020-08-10T17:41:09.748846Z",
     "shell.execute_reply": "2020-08-10T17:41:09.748423Z"
    },
    "jupyter": {
     "source_hidden": true
    },
    "papermill": {
     "duration": 0.015756,
     "end_time": "2020-08-10T17:41:09.749039",
     "exception": false,
     "start_time": "2020-08-10T17:41:09.733283",
     "status": "completed"
    },
    "tags": []
   },
   "outputs": [],
   "source": [
    "#%%capture cap --no-stderr\n",
    "#print(np.sqrt(mean_squared_error(y_test, pred)))"
   ]
  },
  {
   "cell_type": "code",
   "execution_count": 12,
   "metadata": {
    "execution": {
     "iopub.execute_input": "2020-08-10T17:41:09.769447Z",
     "iopub.status.busy": "2020-08-10T17:41:09.768830Z",
     "iopub.status.idle": "2020-08-10T17:41:09.771689Z",
     "shell.execute_reply": "2020-08-10T17:41:09.771282Z"
    },
    "jupyter": {
     "source_hidden": true
    },
    "papermill": {
     "duration": 0.01405,
     "end_time": "2020-08-10T17:41:09.771857",
     "exception": false,
     "start_time": "2020-08-10T17:41:09.757807",
     "status": "completed"
    },
    "tags": []
   },
   "outputs": [],
   "source": [
    "#with open(output_rmse, 'w') as f:\n",
    "#    f.write(cap.stdout)"
   ]
  },
  {
   "cell_type": "code",
   "execution_count": 13,
   "metadata": {
    "execution": {
     "iopub.execute_input": "2020-08-10T17:41:09.797423Z",
     "iopub.status.busy": "2020-08-10T17:41:09.796490Z",
     "iopub.status.idle": "2020-08-10T17:41:09.813708Z",
     "shell.execute_reply": "2020-08-10T17:41:09.814320Z"
    },
    "jupyter": {
     "source_hidden": true
    },
    "papermill": {
     "duration": 0.034078,
     "end_time": "2020-08-10T17:41:09.814557",
     "exception": false,
     "start_time": "2020-08-10T17:41:09.780479",
     "status": "completed"
    },
    "tags": []
   },
   "outputs": [
    {
     "data": {
      "text/plain": [
       "<sqlalchemy.engine.result.ResultProxy at 0x7f6207f53790>"
      ]
     },
     "execution_count": 13,
     "metadata": {},
     "output_type": "execute_result"
    }
   ],
   "source": [
    "cnx.execute(\"\"\"\n",
    "    INSERT INTO ml.accuracies (ml_id, ml_date, accuracy) VALUES ('{0}', '{1}', {2}) \n",
    "    ON CONFLICT (ml_id, ml_date) \n",
    "    DO\n",
    "        UPDATE SET accuracy = {2};\n",
    "    \"\"\".format(ml_id, ml_date, np.sqrt(mean_squared_error(y_test, pred))))"
   ]
  }
 ],
 "metadata": {
  "kernelspec": {
   "display_name": "Python 3",
   "language": "python",
   "name": "python3"
  },
  "language_info": {
   "codemirror_mode": {
    "name": "ipython",
    "version": 3
   },
   "file_extension": ".py",
   "mimetype": "text/x-python",
   "name": "python",
   "nbconvert_exporter": "python",
   "pygments_lexer": "ipython3",
   "version": "3.7.7"
  },
  "papermill": {
   "duration": 14.88576,
   "end_time": "2020-08-10T17:41:10.246653",
   "environment_variables": {},
   "exception": null,
   "input_path": "/usr/local/airflow/include/notebooks/avocado_prediction.ipynb",
   "output_path": "/tmp/out-model-avocado-prediction-auto_150.ipynb",
   "parameters": {
    "filepath": "/tmp/avocado.csv",
    "max_features": "auto",
    "ml_id": "auto_150",
    "n_estimators": 150
   },
   "start_time": "2020-08-10T17:40:55.360893",
   "version": "2.1.2"
  }
 },
 "nbformat": 4,
 "nbformat_minor": 4
}