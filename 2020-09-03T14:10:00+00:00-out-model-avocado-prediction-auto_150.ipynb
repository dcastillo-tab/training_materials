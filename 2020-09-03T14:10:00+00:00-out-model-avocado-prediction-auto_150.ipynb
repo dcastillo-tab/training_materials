{
 "cells": [
  {
   "cell_type": "code",
   "execution_count": 1,
   "metadata": {
    "_cell_guid": "79c7e3d0-c299-4dcb-8224-4455121ee9b0",
    "_uuid": "d629ff2d2480ee46fbb7e2d37f6b5fab8052498a",
    "execution": {
     "iopub.execute_input": "2020-09-03T14:30:59.865662Z",
     "iopub.status.busy": "2020-09-03T14:30:59.859995Z",
     "iopub.status.idle": "2020-09-03T14:31:01.673781Z",
     "shell.execute_reply": "2020-09-03T14:31:01.672305Z"
    },
    "jupyter": {
     "source_hidden": true
    },
    "papermill": {
     "duration": 1.882,
     "end_time": "2020-09-03T14:31:01.674144",
     "exception": false,
     "start_time": "2020-09-03T14:30:59.792144",
     "status": "completed"
    },
    "tags": []
   },
   "outputs": [],
   "source": [
    "import pandas as pd\n",
    "import numpy as np\n",
    "from sqlalchemy import create_engine\n",
    "from datetime import date\n",
    "from sklearn.metrics import mean_squared_error"
   ]
  },
  {
   "cell_type": "code",
   "execution_count": 2,
   "metadata": {
    "execution": {
     "iopub.execute_input": "2020-09-03T14:31:01.710796Z",
     "iopub.status.busy": "2020-09-03T14:31:01.709740Z",
     "iopub.status.idle": "2020-09-03T14:31:01.793048Z",
     "shell.execute_reply": "2020-09-03T14:31:01.791747Z"
    },
    "jupyter": {
     "source_hidden": true
    },
    "papermill": {
     "duration": 0.104659,
     "end_time": "2020-09-03T14:31:01.793428",
     "exception": false,
     "start_time": "2020-09-03T14:31:01.688769",
     "status": "completed"
    },
    "tags": []
   },
   "outputs": [],
   "source": [
    "# THIS IS PURELY FOR TEST PURPOSE NEVER DO THAT IN PRODUCTION\n",
    "POSTGRES_ADDRESS='postgres'\n",
    "POSTGRES_PORT='5432'\n",
    "POSTGRES_USERNAME='postgres'\n",
    "POSTGRES_PASSWORD='postgres'\n",
    "\n",
    "postgres_conn = 'postgresql://{0}:{1}@{2}:{3}/'.format(POSTGRES_USERNAME, POSTGRES_PASSWORD, POSTGRES_ADDRESS, POSTGRES_PORT)\n",
    "\n",
    "# Create the connection\n",
    "cnx = create_engine(postgres_conn)\n"
   ]
  },
  {
   "cell_type": "markdown",
   "metadata": {
    "_uuid": "1998755ef10683262b29765345cff1c1c7d10b15",
    "papermill": {
     "duration": 0.014815,
     "end_time": "2020-09-03T14:31:01.825636",
     "exception": false,
     "start_time": "2020-09-03T14:31:01.810821",
     "status": "completed"
    },
    "tags": []
   },
   "source": [
    "Read in the Avocado Prices csv file as a DataFrame called df"
   ]
  },
  {
   "cell_type": "code",
   "execution_count": 3,
   "metadata": {
    "execution": {
     "iopub.execute_input": "2020-09-03T14:31:01.857220Z",
     "iopub.status.busy": "2020-09-03T14:31:01.856335Z",
     "iopub.status.idle": "2020-09-03T14:31:01.860391Z",
     "shell.execute_reply": "2020-09-03T14:31:01.859495Z"
    },
    "jupyter": {
     "source_hidden": true
    },
    "papermill": {
     "duration": 0.021155,
     "end_time": "2020-09-03T14:31:01.860660",
     "exception": false,
     "start_time": "2020-09-03T14:31:01.839505",
     "status": "completed"
    },
    "tags": [
     "parameters"
    ]
   },
   "outputs": [],
   "source": [
    "# Parameterized\n",
    "\n",
    "filepath='avocado.csv'\n",
    "ml_id='auto_100'\n",
    "ml_date=date.today()\n",
    "n_estimators = 100\n",
    "max_features = 'auto'"
   ]
  },
  {
   "cell_type": "code",
   "execution_count": 4,
   "metadata": {
    "execution": {
     "iopub.execute_input": "2020-09-03T14:31:01.895883Z",
     "iopub.status.busy": "2020-09-03T14:31:01.895097Z",
     "iopub.status.idle": "2020-09-03T14:31:01.898540Z",
     "shell.execute_reply": "2020-09-03T14:31:01.899070Z"
    },
    "jupyter": {
     "source_hidden": true
    },
    "papermill": {
     "duration": 0.022269,
     "end_time": "2020-09-03T14:31:01.899406",
     "exception": false,
     "start_time": "2020-09-03T14:31:01.877137",
     "status": "completed"
    },
    "tags": [
     "injected-parameters"
    ]
   },
   "outputs": [],
   "source": [
    "# Parameters\n",
    "filepath = \"/tmp/avocado.csv\"\n",
    "n_estimators = 150\n",
    "max_features = \"auto\"\n",
    "ml_id = \"auto_150\"\n"
   ]
  },
  {
   "cell_type": "code",
   "execution_count": 5,
   "metadata": {
    "_uuid": "55d0e719eb8b91d763c1eacaf0f51ee0586486fc",
    "execution": {
     "iopub.execute_input": "2020-09-03T14:31:01.933757Z",
     "iopub.status.busy": "2020-09-03T14:31:01.932939Z",
     "iopub.status.idle": "2020-09-03T14:31:01.977142Z",
     "shell.execute_reply": "2020-09-03T14:31:01.975781Z"
    },
    "jupyter": {
     "source_hidden": true
    },
    "papermill": {
     "duration": 0.064901,
     "end_time": "2020-09-03T14:31:01.977558",
     "exception": false,
     "start_time": "2020-09-03T14:31:01.912657",
     "status": "completed"
    },
    "tags": []
   },
   "outputs": [],
   "source": [
    "df= pd.read_csv(filepath)"
   ]
  },
  {
   "cell_type": "markdown",
   "metadata": {
    "_uuid": "434e0457f550e2200424e5ec26162e1aa5904005",
    "papermill": {
     "duration": 0.020799,
     "end_time": "2020-09-03T14:31:02.017592",
     "exception": false,
     "start_time": "2020-09-03T14:31:01.996793",
     "status": "completed"
    },
    "tags": []
   },
   "source": [
    "The Feature \"Unnamed:0\" is just a representation of the indexes, so it's useless to keep it, lets remove it !"
   ]
  },
  {
   "cell_type": "code",
   "execution_count": 6,
   "metadata": {
    "_uuid": "9875398e37728dc3141fed4228be337a4735beb6",
    "execution": {
     "iopub.execute_input": "2020-09-03T14:31:02.061429Z",
     "iopub.status.busy": "2020-09-03T14:31:02.060158Z",
     "iopub.status.idle": "2020-09-03T14:31:02.068089Z",
     "shell.execute_reply": "2020-09-03T14:31:02.067274Z"
    },
    "jupyter": {
     "source_hidden": true
    },
    "papermill": {
     "duration": 0.035134,
     "end_time": "2020-09-03T14:31:02.068409",
     "exception": false,
     "start_time": "2020-09-03T14:31:02.033275",
     "status": "completed"
    },
    "tags": []
   },
   "outputs": [],
   "source": [
    "df.drop('Unnamed: 0',axis=1,inplace=True)"
   ]
  },
  {
   "cell_type": "markdown",
   "metadata": {
    "_uuid": "12e94ad381e4cb8d2c8a9bbe08ce07ab5d49c040",
    "papermill": {
     "duration": 0.012704,
     "end_time": "2020-09-03T14:31:02.097688",
     "exception": false,
     "start_time": "2020-09-03T14:31:02.084984",
     "status": "completed"
    },
    "tags": []
   },
   "source": [
    "well as a first observation we can see that we are lucky, we dont have any missing values (18249 complete data) and 13 columns.\n",
    "Now let's do some Feature Engineering on the Date Feature so we can be able to use the day and the month columns in building our machine learning model later. ( I didn't mention the year because its already there in data frame)"
   ]
  },
  {
   "cell_type": "code",
   "execution_count": 7,
   "metadata": {
    "_uuid": "f031639ce794656e877484d1c9c356df7028177f",
    "execution": {
     "iopub.execute_input": "2020-09-03T14:31:02.139299Z",
     "iopub.status.busy": "2020-09-03T14:31:02.138364Z",
     "iopub.status.idle": "2020-09-03T14:31:02.296053Z",
     "shell.execute_reply": "2020-09-03T14:31:02.297280Z"
    },
    "jupyter": {
     "source_hidden": true
    },
    "papermill": {
     "duration": 0.184853,
     "end_time": "2020-09-03T14:31:02.297812",
     "exception": false,
     "start_time": "2020-09-03T14:31:02.112959",
     "status": "completed"
    },
    "tags": []
   },
   "outputs": [],
   "source": [
    "df['Date']=pd.to_datetime(df['Date'])\n",
    "df['Month']=df['Date'].apply(lambda x:x.month)\n",
    "df['Day']=df['Date'].apply(lambda x:x.day)"
   ]
  },
  {
   "cell_type": "markdown",
   "metadata": {
    "_uuid": "ebdcac9924ce3e366fd3a75170682f7113385b7a",
    "papermill": {
     "duration": 0.012389,
     "end_time": "2020-09-03T14:31:02.328777",
     "exception": false,
     "start_time": "2020-09-03T14:31:02.316388",
     "status": "completed"
    },
    "tags": []
   },
   "source": [
    "as we can see we have 54 regions and 2 unique types, so it's going to be easy to to transform the type feature to dummies, but for the region its going to be a bit complexe so I decided to drop the entire column.\n",
    "I will drop the Date Feature as well because I already have 3 other columns for the Year, Month and Day."
   ]
  },
  {
   "cell_type": "code",
   "execution_count": 8,
   "metadata": {
    "_uuid": "a798682da34327b731ef262985fd50ba68e06460",
    "execution": {
     "iopub.execute_input": "2020-09-03T14:31:02.366202Z",
     "iopub.status.busy": "2020-09-03T14:31:02.365487Z",
     "iopub.status.idle": "2020-09-03T14:31:02.385094Z",
     "shell.execute_reply": "2020-09-03T14:31:02.384383Z"
    },
    "jupyter": {
     "source_hidden": true
    },
    "papermill": {
     "duration": 0.037524,
     "end_time": "2020-09-03T14:31:02.385383",
     "exception": false,
     "start_time": "2020-09-03T14:31:02.347859",
     "status": "completed"
    },
    "tags": []
   },
   "outputs": [],
   "source": [
    "df_final=pd.get_dummies(df.drop(['region','Date'],axis=1),drop_first=True)"
   ]
  },
  {
   "cell_type": "markdown",
   "metadata": {
    "_uuid": "8b74a6b88cb3e9b3e1d1e987e061048f203c7364",
    "papermill": {
     "duration": 0.014089,
     "end_time": "2020-09-03T14:31:02.413446",
     "exception": false,
     "start_time": "2020-09-03T14:31:02.399357",
     "status": "completed"
    },
    "tags": []
   },
   "source": [
    "Now our data are ready! lets apply our model which is going to be the Linear Regression because our Target variable 'AveragePrice'is continuous.\n",
    "Let's now begin to train out regression model! We will need to first split up our data into an X array that contains the features to train on, and a y array with the target variable"
   ]
  },
  {
   "cell_type": "code",
   "execution_count": 9,
   "metadata": {
    "_uuid": "830591f99de9715241e688bf9ce265e979401ff5",
    "execution": {
     "iopub.execute_input": "2020-09-03T14:31:02.454489Z",
     "iopub.status.busy": "2020-09-03T14:31:02.453527Z",
     "iopub.status.idle": "2020-09-03T14:31:02.483357Z",
     "shell.execute_reply": "2020-09-03T14:31:02.482292Z"
    },
    "jupyter": {
     "source_hidden": true
    },
    "papermill": {
     "duration": 0.056679,
     "end_time": "2020-09-03T14:31:02.483816",
     "exception": false,
     "start_time": "2020-09-03T14:31:02.427137",
     "status": "completed"
    },
    "tags": []
   },
   "outputs": [],
   "source": [
    "X=df_final.iloc[:,1:14]\n",
    "y=df_final['AveragePrice']\n",
    "from sklearn.model_selection import train_test_split\n",
    "X_train,X_test,y_train,y_test=train_test_split(X,y,test_size=0.2,random_state=42)"
   ]
  },
  {
   "cell_type": "markdown",
   "metadata": {
    "_uuid": "ea730c77a31cde9de98263079a189accb8b5772b",
    "papermill": {
     "duration": 0.02451,
     "end_time": "2020-09-03T14:31:02.528999",
     "exception": false,
     "start_time": "2020-09-03T14:31:02.504489",
     "status": "completed"
    },
    "tags": []
   },
   "source": [
    "Creating and Training the Model"
   ]
  },
  {
   "cell_type": "code",
   "execution_count": 10,
   "metadata": {
    "_uuid": "eb37015e78974e5fd2ae7e13d065c8ab0a9c6948",
    "execution": {
     "iopub.execute_input": "2020-09-03T14:31:02.569895Z",
     "iopub.status.busy": "2020-09-03T14:31:02.569119Z",
     "iopub.status.idle": "2020-09-03T14:31:15.901256Z",
     "shell.execute_reply": "2020-09-03T14:31:15.901680Z"
    },
    "jupyter": {
     "source_hidden": true
    },
    "papermill": {
     "duration": 13.353489,
     "end_time": "2020-09-03T14:31:15.901973",
     "exception": false,
     "start_time": "2020-09-03T14:31:02.548484",
     "status": "completed"
    },
    "tags": []
   },
   "outputs": [],
   "source": [
    "from sklearn.ensemble import RandomForestRegressor\n",
    "rdr = RandomForestRegressor(\n",
    "    n_estimators=n_estimators,\n",
    "    max_features=max_features\n",
    ")\n",
    "rdr.fit(X_train,y_train)\n",
    "pred=rdr.predict(X_test)"
   ]
  },
  {
   "cell_type": "code",
   "execution_count": 11,
   "metadata": {
    "_uuid": "7ed5b8d4e8abb44a4b548c13ac9fb2d65227d1c5",
    "execution": {
     "iopub.execute_input": "2020-09-03T14:31:15.926644Z",
     "iopub.status.busy": "2020-09-03T14:31:15.925937Z",
     "iopub.status.idle": "2020-09-03T14:31:15.928564Z",
     "shell.execute_reply": "2020-09-03T14:31:15.929056Z"
    },
    "jupyter": {
     "source_hidden": true
    },
    "papermill": {
     "duration": 0.016468,
     "end_time": "2020-09-03T14:31:15.929304",
     "exception": false,
     "start_time": "2020-09-03T14:31:15.912836",
     "status": "completed"
    },
    "tags": []
   },
   "outputs": [],
   "source": [
    "#%%capture cap --no-stderr\n",
    "#print(np.sqrt(mean_squared_error(y_test, pred)))"
   ]
  },
  {
   "cell_type": "code",
   "execution_count": 12,
   "metadata": {
    "execution": {
     "iopub.execute_input": "2020-09-03T14:31:15.953616Z",
     "iopub.status.busy": "2020-09-03T14:31:15.952942Z",
     "iopub.status.idle": "2020-09-03T14:31:15.956213Z",
     "shell.execute_reply": "2020-09-03T14:31:15.955512Z"
    },
    "jupyter": {
     "source_hidden": true
    },
    "papermill": {
     "duration": 0.017162,
     "end_time": "2020-09-03T14:31:15.956424",
     "exception": false,
     "start_time": "2020-09-03T14:31:15.939262",
     "status": "completed"
    },
    "tags": []
   },
   "outputs": [],
   "source": [
    "#with open(output_rmse, 'w') as f:\n",
    "#    f.write(cap.stdout)"
   ]
  },
  {
   "cell_type": "code",
   "execution_count": 13,
   "metadata": {
    "execution": {
     "iopub.execute_input": "2020-09-03T14:31:15.981762Z",
     "iopub.status.busy": "2020-09-03T14:31:15.981068Z",
     "iopub.status.idle": "2020-09-03T14:31:16.001486Z",
     "shell.execute_reply": "2020-09-03T14:31:16.000857Z"
    },
    "jupyter": {
     "source_hidden": true
    },
    "papermill": {
     "duration": 0.035497,
     "end_time": "2020-09-03T14:31:16.001700",
     "exception": false,
     "start_time": "2020-09-03T14:31:15.966203",
     "status": "completed"
    },
    "tags": []
   },
   "outputs": [
    {
     "data": {
      "text/plain": [
       "<sqlalchemy.engine.result.ResultProxy at 0x7f5163d7a890>"
      ]
     },
     "execution_count": 13,
     "metadata": {},
     "output_type": "execute_result"
    }
   ],
   "source": [
    "cnx.execute(\"\"\"\n",
    "    INSERT INTO ml.accuracies (ml_id, ml_date, accuracy) VALUES ('{0}', '{1}', {2}) \n",
    "    ON CONFLICT (ml_id, ml_date) \n",
    "    DO\n",
    "        UPDATE SET accuracy = {2};\n",
    "    \"\"\".format(ml_id, ml_date, np.sqrt(mean_squared_error(y_test, pred))))"
   ]
  }
 ],
 "metadata": {
  "kernelspec": {
   "display_name": "Python 3",
   "language": "python",
   "name": "python3"
  },
  "language_info": {
   "codemirror_mode": {
    "name": "ipython",
    "version": 3
   },
   "file_extension": ".py",
   "mimetype": "text/x-python",
   "name": "python",
   "nbconvert_exporter": "python",
   "pygments_lexer": "ipython3",
   "version": "3.7.8"
  },
  "papermill": {
   "duration": 17.856428,
   "end_time": "2020-09-03T14:31:16.422068",
   "environment_variables": {},
   "exception": null,
   "input_path": "/usr/local/airflow/include/notebooks/avocado_prediction.ipynb",
   "output_path": "/tmp/out-model-avocado-prediction-auto_150.ipynb",
   "parameters": {
    "filepath": "/tmp/avocado.csv",
    "max_features": "auto",
    "ml_id": "auto_150",
    "n_estimators": 150
   },
   "start_time": "2020-09-03T14:30:58.565640",
   "version": "2.1.2"
  }
 },
 "nbformat": 4,
 "nbformat_minor": 4
}