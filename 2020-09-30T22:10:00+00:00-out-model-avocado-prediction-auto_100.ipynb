{
 "cells": [
  {
   "cell_type": "code",
   "execution_count": 1,
   "metadata": {
    "_cell_guid": "79c7e3d0-c299-4dcb-8224-4455121ee9b0",
    "_uuid": "d629ff2d2480ee46fbb7e2d37f6b5fab8052498a",
    "execution": {
     "iopub.execute_input": "2020-09-30T22:27:43.269209Z",
     "iopub.status.busy": "2020-09-30T22:27:43.268291Z",
     "iopub.status.idle": "2020-09-30T22:27:44.176231Z",
     "shell.execute_reply": "2020-09-30T22:27:44.175438Z"
    },
    "jupyter": {
     "source_hidden": true
    },
    "papermill": {
     "duration": 0.927948,
     "end_time": "2020-09-30T22:27:44.176494",
     "exception": false,
     "start_time": "2020-09-30T22:27:43.248546",
     "status": "completed"
    },
    "tags": []
   },
   "outputs": [],
   "source": [
    "import pandas as pd\n",
    "import numpy as np\n",
    "from sqlalchemy import create_engine\n",
    "from datetime import date\n",
    "from sklearn.metrics import mean_squared_error"
   ]
  },
  {
   "cell_type": "code",
   "execution_count": 2,
   "metadata": {
    "execution": {
     "iopub.execute_input": "2020-09-30T22:27:44.200390Z",
     "iopub.status.busy": "2020-09-30T22:27:44.199778Z",
     "iopub.status.idle": "2020-09-30T22:27:44.271716Z",
     "shell.execute_reply": "2020-09-30T22:27:44.271181Z"
    },
    "jupyter": {
     "source_hidden": true
    },
    "papermill": {
     "duration": 0.085506,
     "end_time": "2020-09-30T22:27:44.271922",
     "exception": false,
     "start_time": "2020-09-30T22:27:44.186416",
     "status": "completed"
    },
    "tags": []
   },
   "outputs": [],
   "source": [
    "# THIS IS PURELY FOR TEST PURPOSE NEVER DO THAT IN PRODUCTION\n",
    "POSTGRES_ADDRESS='postgres'\n",
    "POSTGRES_PORT='5432'\n",
    "POSTGRES_USERNAME='postgres'\n",
    "POSTGRES_PASSWORD='postgres'\n",
    "\n",
    "postgres_conn = 'postgresql://{0}:{1}@{2}:{3}/'.format(POSTGRES_USERNAME, POSTGRES_PASSWORD, POSTGRES_ADDRESS, POSTGRES_PORT)\n",
    "\n",
    "# Create the connection\n",
    "cnx = create_engine(postgres_conn)\n"
   ]
  },
  {
   "cell_type": "markdown",
   "metadata": {
    "_uuid": "1998755ef10683262b29765345cff1c1c7d10b15",
    "papermill": {
     "duration": 0.008673,
     "end_time": "2020-09-30T22:27:44.289743",
     "exception": false,
     "start_time": "2020-09-30T22:27:44.281070",
     "status": "completed"
    },
    "tags": []
   },
   "source": [
    "Read in the Avocado Prices csv file as a DataFrame called df"
   ]
  },
  {
   "cell_type": "code",
   "execution_count": 3,
   "metadata": {
    "execution": {
     "iopub.execute_input": "2020-09-30T22:27:44.312156Z",
     "iopub.status.busy": "2020-09-30T22:27:44.311526Z",
     "iopub.status.idle": "2020-09-30T22:27:44.314493Z",
     "shell.execute_reply": "2020-09-30T22:27:44.314944Z"
    },
    "jupyter": {
     "source_hidden": true
    },
    "papermill": {
     "duration": 0.016571,
     "end_time": "2020-09-30T22:27:44.315178",
     "exception": false,
     "start_time": "2020-09-30T22:27:44.298607",
     "status": "completed"
    },
    "tags": [
     "parameters"
    ]
   },
   "outputs": [],
   "source": [
    "# Parameterized\n",
    "\n",
    "filepath='avocado.csv'\n",
    "ml_id='auto_100'\n",
    "ml_date=date.today()\n",
    "n_estimators = 100\n",
    "max_features = 'auto'"
   ]
  },
  {
   "cell_type": "code",
   "execution_count": 4,
   "metadata": {
    "execution": {
     "iopub.execute_input": "2020-09-30T22:27:44.338731Z",
     "iopub.status.busy": "2020-09-30T22:27:44.337928Z",
     "iopub.status.idle": "2020-09-30T22:27:44.341382Z",
     "shell.execute_reply": "2020-09-30T22:27:44.340585Z"
    },
    "jupyter": {
     "source_hidden": true
    },
    "papermill": {
     "duration": 0.017636,
     "end_time": "2020-09-30T22:27:44.341772",
     "exception": false,
     "start_time": "2020-09-30T22:27:44.324136",
     "status": "completed"
    },
    "tags": [
     "injected-parameters"
    ]
   },
   "outputs": [],
   "source": [
    "# Parameters\n",
    "filepath = \"/tmp/avocado.csv\"\n",
    "n_estimators = 100\n",
    "max_features = \"auto\"\n",
    "ml_id = \"auto_100\"\n"
   ]
  },
  {
   "cell_type": "code",
   "execution_count": 5,
   "metadata": {
    "_uuid": "55d0e719eb8b91d763c1eacaf0f51ee0586486fc",
    "execution": {
     "iopub.execute_input": "2020-09-30T22:27:44.375438Z",
     "iopub.status.busy": "2020-09-30T22:27:44.374376Z",
     "iopub.status.idle": "2020-09-30T22:27:44.412518Z",
     "shell.execute_reply": "2020-09-30T22:27:44.412992Z"
    },
    "jupyter": {
     "source_hidden": true
    },
    "papermill": {
     "duration": 0.056107,
     "end_time": "2020-09-30T22:27:44.413223",
     "exception": false,
     "start_time": "2020-09-30T22:27:44.357116",
     "status": "completed"
    },
    "tags": []
   },
   "outputs": [],
   "source": [
    "df= pd.read_csv(filepath)"
   ]
  },
  {
   "cell_type": "markdown",
   "metadata": {
    "_uuid": "434e0457f550e2200424e5ec26162e1aa5904005",
    "papermill": {
     "duration": 0.01027,
     "end_time": "2020-09-30T22:27:44.432927",
     "exception": false,
     "start_time": "2020-09-30T22:27:44.422657",
     "status": "completed"
    },
    "tags": []
   },
   "source": [
    "The Feature \"Unnamed:0\" is just a representation of the indexes, so it's useless to keep it, lets remove it !"
   ]
  },
  {
   "cell_type": "code",
   "execution_count": 6,
   "metadata": {
    "_uuid": "9875398e37728dc3141fed4228be337a4735beb6",
    "execution": {
     "iopub.execute_input": "2020-09-30T22:27:44.460413Z",
     "iopub.status.busy": "2020-09-30T22:27:44.459790Z",
     "iopub.status.idle": "2020-09-30T22:27:44.463225Z",
     "shell.execute_reply": "2020-09-30T22:27:44.462547Z"
    },
    "jupyter": {
     "source_hidden": true
    },
    "papermill": {
     "duration": 0.02102,
     "end_time": "2020-09-30T22:27:44.463403",
     "exception": false,
     "start_time": "2020-09-30T22:27:44.442383",
     "status": "completed"
    },
    "tags": []
   },
   "outputs": [],
   "source": [
    "df.drop('Unnamed: 0',axis=1,inplace=True)"
   ]
  },
  {
   "cell_type": "markdown",
   "metadata": {
    "_uuid": "12e94ad381e4cb8d2c8a9bbe08ce07ab5d49c040",
    "papermill": {
     "duration": 0.009583,
     "end_time": "2020-09-30T22:27:44.482260",
     "exception": false,
     "start_time": "2020-09-30T22:27:44.472677",
     "status": "completed"
    },
    "tags": []
   },
   "source": [
    "well as a first observation we can see that we are lucky, we dont have any missing values (18249 complete data) and 13 columns.\n",
    "Now let's do some Feature Engineering on the Date Feature so we can be able to use the day and the month columns in building our machine learning model later. ( I didn't mention the year because its already there in data frame)"
   ]
  },
  {
   "cell_type": "code",
   "execution_count": 7,
   "metadata": {
    "_uuid": "f031639ce794656e877484d1c9c356df7028177f",
    "execution": {
     "iopub.execute_input": "2020-09-30T22:27:44.508093Z",
     "iopub.status.busy": "2020-09-30T22:27:44.507417Z",
     "iopub.status.idle": "2020-09-30T22:27:44.655248Z",
     "shell.execute_reply": "2020-09-30T22:27:44.656135Z"
    },
    "jupyter": {
     "source_hidden": true
    },
    "papermill": {
     "duration": 0.164794,
     "end_time": "2020-09-30T22:27:44.656519",
     "exception": false,
     "start_time": "2020-09-30T22:27:44.491725",
     "status": "completed"
    },
    "tags": []
   },
   "outputs": [],
   "source": [
    "df['Date']=pd.to_datetime(df['Date'])\n",
    "df['Month']=df['Date'].apply(lambda x:x.month)\n",
    "df['Day']=df['Date'].apply(lambda x:x.day)"
   ]
  },
  {
   "cell_type": "markdown",
   "metadata": {
    "_uuid": "ebdcac9924ce3e366fd3a75170682f7113385b7a",
    "papermill": {
     "duration": 0.010194,
     "end_time": "2020-09-30T22:27:44.680003",
     "exception": false,
     "start_time": "2020-09-30T22:27:44.669809",
     "status": "completed"
    },
    "tags": []
   },
   "source": [
    "as we can see we have 54 regions and 2 unique types, so it's going to be easy to to transform the type feature to dummies, but for the region its going to be a bit complexe so I decided to drop the entire column.\n",
    "I will drop the Date Feature as well because I already have 3 other columns for the Year, Month and Day."
   ]
  },
  {
   "cell_type": "code",
   "execution_count": 8,
   "metadata": {
    "_uuid": "a798682da34327b731ef262985fd50ba68e06460",
    "execution": {
     "iopub.execute_input": "2020-09-30T22:27:44.708215Z",
     "iopub.status.busy": "2020-09-30T22:27:44.707583Z",
     "iopub.status.idle": "2020-09-30T22:27:44.722337Z",
     "shell.execute_reply": "2020-09-30T22:27:44.721665Z"
    },
    "jupyter": {
     "source_hidden": true
    },
    "papermill": {
     "duration": 0.028733,
     "end_time": "2020-09-30T22:27:44.722543",
     "exception": false,
     "start_time": "2020-09-30T22:27:44.693810",
     "status": "completed"
    },
    "tags": []
   },
   "outputs": [],
   "source": [
    "df_final=pd.get_dummies(df.drop(['region','Date'],axis=1),drop_first=True)"
   ]
  },
  {
   "cell_type": "markdown",
   "metadata": {
    "_uuid": "8b74a6b88cb3e9b3e1d1e987e061048f203c7364",
    "papermill": {
     "duration": 0.009401,
     "end_time": "2020-09-30T22:27:44.741492",
     "exception": false,
     "start_time": "2020-09-30T22:27:44.732091",
     "status": "completed"
    },
    "tags": []
   },
   "source": [
    "Now our data are ready! lets apply our model which is going to be the Linear Regression because our Target variable 'AveragePrice'is continuous.\n",
    "Let's now begin to train out regression model! We will need to first split up our data into an X array that contains the features to train on, and a y array with the target variable"
   ]
  },
  {
   "cell_type": "code",
   "execution_count": 9,
   "metadata": {
    "_uuid": "830591f99de9715241e688bf9ce265e979401ff5",
    "execution": {
     "iopub.execute_input": "2020-09-30T22:27:44.766628Z",
     "iopub.status.busy": "2020-09-30T22:27:44.766022Z",
     "iopub.status.idle": "2020-09-30T22:27:44.782787Z",
     "shell.execute_reply": "2020-09-30T22:27:44.782271Z"
    },
    "jupyter": {
     "source_hidden": true
    },
    "papermill": {
     "duration": 0.032019,
     "end_time": "2020-09-30T22:27:44.782996",
     "exception": false,
     "start_time": "2020-09-30T22:27:44.750977",
     "status": "completed"
    },
    "tags": []
   },
   "outputs": [],
   "source": [
    "X=df_final.iloc[:,1:14]\n",
    "y=df_final['AveragePrice']\n",
    "from sklearn.model_selection import train_test_split\n",
    "X_train,X_test,y_train,y_test=train_test_split(X,y,test_size=0.2,random_state=42)"
   ]
  },
  {
   "cell_type": "markdown",
   "metadata": {
    "_uuid": "ea730c77a31cde9de98263079a189accb8b5772b",
    "papermill": {
     "duration": 0.010298,
     "end_time": "2020-09-30T22:27:44.803222",
     "exception": false,
     "start_time": "2020-09-30T22:27:44.792924",
     "status": "completed"
    },
    "tags": []
   },
   "source": [
    "Creating and Training the Model"
   ]
  },
  {
   "cell_type": "code",
   "execution_count": 10,
   "metadata": {
    "_uuid": "eb37015e78974e5fd2ae7e13d065c8ab0a9c6948",
    "execution": {
     "iopub.execute_input": "2020-09-30T22:27:44.826868Z",
     "iopub.status.busy": "2020-09-30T22:27:44.826204Z",
     "iopub.status.idle": "2020-09-30T22:27:53.432346Z",
     "shell.execute_reply": "2020-09-30T22:27:53.430823Z"
    },
    "jupyter": {
     "source_hidden": true
    },
    "papermill": {
     "duration": 8.619741,
     "end_time": "2020-09-30T22:27:53.432760",
     "exception": false,
     "start_time": "2020-09-30T22:27:44.813019",
     "status": "completed"
    },
    "tags": []
   },
   "outputs": [],
   "source": [
    "from sklearn.ensemble import RandomForestRegressor\n",
    "rdr = RandomForestRegressor(\n",
    "    n_estimators=n_estimators,\n",
    "    max_features=max_features\n",
    ")\n",
    "rdr.fit(X_train,y_train)\n",
    "pred=rdr.predict(X_test)"
   ]
  },
  {
   "cell_type": "code",
   "execution_count": 11,
   "metadata": {
    "_uuid": "7ed5b8d4e8abb44a4b548c13ac9fb2d65227d1c5",
    "execution": {
     "iopub.execute_input": "2020-09-30T22:27:53.480781Z",
     "iopub.status.busy": "2020-09-30T22:27:53.478950Z",
     "iopub.status.idle": "2020-09-30T22:27:53.482506Z",
     "shell.execute_reply": "2020-09-30T22:27:53.481682Z"
    },
    "jupyter": {
     "source_hidden": true
    },
    "papermill": {
     "duration": 0.036743,
     "end_time": "2020-09-30T22:27:53.482829",
     "exception": false,
     "start_time": "2020-09-30T22:27:53.446086",
     "status": "completed"
    },
    "tags": []
   },
   "outputs": [],
   "source": [
    "#%%capture cap --no-stderr\n",
    "#print(np.sqrt(mean_squared_error(y_test, pred)))"
   ]
  },
  {
   "cell_type": "code",
   "execution_count": 12,
   "metadata": {
    "execution": {
     "iopub.execute_input": "2020-09-30T22:27:53.512440Z",
     "iopub.status.busy": "2020-09-30T22:27:53.511841Z",
     "iopub.status.idle": "2020-09-30T22:27:53.515951Z",
     "shell.execute_reply": "2020-09-30T22:27:53.516451Z"
    },
    "jupyter": {
     "source_hidden": true
    },
    "papermill": {
     "duration": 0.021822,
     "end_time": "2020-09-30T22:27:53.516698",
     "exception": false,
     "start_time": "2020-09-30T22:27:53.494876",
     "status": "completed"
    },
    "tags": []
   },
   "outputs": [],
   "source": [
    "#with open(output_rmse, 'w') as f:\n",
    "#    f.write(cap.stdout)"
   ]
  },
  {
   "cell_type": "code",
   "execution_count": 13,
   "metadata": {
    "execution": {
     "iopub.execute_input": "2020-09-30T22:27:53.542346Z",
     "iopub.status.busy": "2020-09-30T22:27:53.541701Z",
     "iopub.status.idle": "2020-09-30T22:27:53.566588Z",
     "shell.execute_reply": "2020-09-30T22:27:53.566121Z"
    },
    "jupyter": {
     "source_hidden": true
    },
    "papermill": {
     "duration": 0.039709,
     "end_time": "2020-09-30T22:27:53.566821",
     "exception": false,
     "start_time": "2020-09-30T22:27:53.527112",
     "status": "completed"
    },
    "tags": []
   },
   "outputs": [
    {
     "data": {
      "text/plain": [
       "<sqlalchemy.engine.result.ResultProxy at 0x7f1eb6be1750>"
      ]
     },
     "execution_count": 13,
     "metadata": {},
     "output_type": "execute_result"
    }
   ],
   "source": [
    "cnx.execute(\"\"\"\n",
    "    INSERT INTO ml.accuracies (ml_id, ml_date, accuracy) VALUES ('{0}', '{1}', {2}) \n",
    "    ON CONFLICT (ml_id, ml_date) \n",
    "    DO\n",
    "        UPDATE SET accuracy = {2};\n",
    "    \"\"\".format(ml_id, ml_date, np.sqrt(mean_squared_error(y_test, pred))))"
   ]
  }
 ],
 "metadata": {
  "kernelspec": {
   "display_name": "Python 3",
   "language": "python",
   "name": "python3"
  },
  "language_info": {
   "codemirror_mode": {
    "name": "ipython",
    "version": 3
   },
   "file_extension": ".py",
   "mimetype": "text/x-python",
   "name": "python",
   "nbconvert_exporter": "python",
   "pygments_lexer": "ipython3",
   "version": "3.7.9"
  },
  "papermill": {
   "duration": 11.897635,
   "end_time": "2020-09-30T22:27:53.988252",
   "environment_variables": {},
   "exception": null,
   "input_path": "/usr/local/airflow/include/notebooks/avocado_prediction_v2.ipynb",
   "output_path": "/tmp/out-model-avocado-prediction-auto_100.ipynb",
   "parameters": {
    "filepath": "/tmp/avocado.csv",
    "max_features": "auto",
    "ml_id": "auto_100",
    "n_estimators": 100
   },
   "start_time": "2020-09-30T22:27:42.090617",
   "version": "2.1.2"
  }
 },
 "nbformat": 4,
 "nbformat_minor": 4
}