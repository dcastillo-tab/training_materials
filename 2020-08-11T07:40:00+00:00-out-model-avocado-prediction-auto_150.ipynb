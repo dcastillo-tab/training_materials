{
 "cells": [
  {
   "cell_type": "code",
   "execution_count": 1,
   "metadata": {
    "_cell_guid": "79c7e3d0-c299-4dcb-8224-4455121ee9b0",
    "_uuid": "d629ff2d2480ee46fbb7e2d37f6b5fab8052498a",
    "execution": {
     "iopub.execute_input": "2020-08-11T07:57:04.867161Z",
     "iopub.status.busy": "2020-08-11T07:57:04.865070Z",
     "iopub.status.idle": "2020-08-11T07:57:06.858356Z",
     "shell.execute_reply": "2020-08-11T07:57:06.860148Z"
    },
    "jupyter": {
     "source_hidden": true
    },
    "papermill": {
     "duration": 2.041907,
     "end_time": "2020-08-11T07:57:06.861106",
     "exception": false,
     "start_time": "2020-08-11T07:57:04.819199",
     "status": "completed"
    },
    "tags": []
   },
   "outputs": [],
   "source": [
    "import pandas as pd\n",
    "import numpy as np\n",
    "from sqlalchemy import create_engine\n",
    "from datetime import date\n",
    "from sklearn.metrics import mean_squared_error"
   ]
  },
  {
   "cell_type": "code",
   "execution_count": 2,
   "metadata": {
    "execution": {
     "iopub.execute_input": "2020-08-11T07:57:06.939989Z",
     "iopub.status.busy": "2020-08-11T07:57:06.937913Z",
     "iopub.status.idle": "2020-08-11T07:57:07.023702Z",
     "shell.execute_reply": "2020-08-11T07:57:07.025665Z"
    },
    "jupyter": {
     "source_hidden": true
    },
    "papermill": {
     "duration": 0.13619,
     "end_time": "2020-08-11T07:57:07.026291",
     "exception": false,
     "start_time": "2020-08-11T07:57:06.890101",
     "status": "completed"
    },
    "tags": []
   },
   "outputs": [],
   "source": [
    "# THIS IS PURELY FOR TEST PURPOSE NEVER DO THAT IN PRODUCTION\n",
    "POSTGRES_ADDRESS='postgres'\n",
    "POSTGRES_PORT='5432'\n",
    "POSTGRES_USERNAME='postgres'\n",
    "POSTGRES_PASSWORD='postgres'\n",
    "\n",
    "postgres_conn = 'postgresql://{0}:{1}@{2}:{3}/'.format(POSTGRES_USERNAME, POSTGRES_PASSWORD, POSTGRES_ADDRESS, POSTGRES_PORT)\n",
    "\n",
    "# Create the connection\n",
    "cnx = create_engine(postgres_conn)\n"
   ]
  },
  {
   "cell_type": "markdown",
   "metadata": {
    "_uuid": "1998755ef10683262b29765345cff1c1c7d10b15",
    "papermill": {
     "duration": 0.035315,
     "end_time": "2020-08-11T07:57:07.091005",
     "exception": false,
     "start_time": "2020-08-11T07:57:07.055690",
     "status": "completed"
    },
    "tags": []
   },
   "source": [
    "Read in the Avocado Prices csv file as a DataFrame called df"
   ]
  },
  {
   "cell_type": "code",
   "execution_count": 3,
   "metadata": {
    "execution": {
     "iopub.execute_input": "2020-08-11T07:57:07.163299Z",
     "iopub.status.busy": "2020-08-11T07:57:07.161360Z",
     "iopub.status.idle": "2020-08-11T07:57:07.171638Z",
     "shell.execute_reply": "2020-08-11T07:57:07.173176Z"
    },
    "jupyter": {
     "source_hidden": true
    },
    "papermill": {
     "duration": 0.049689,
     "end_time": "2020-08-11T07:57:07.173898",
     "exception": false,
     "start_time": "2020-08-11T07:57:07.124209",
     "status": "completed"
    },
    "tags": [
     "parameters"
    ]
   },
   "outputs": [],
   "source": [
    "# Parameterized\n",
    "\n",
    "filepath='avocado.csv'\n",
    "ml_id='auto_100'\n",
    "ml_date=date.today()\n",
    "n_estimators = 100\n",
    "max_features = 'auto'"
   ]
  },
  {
   "cell_type": "code",
   "execution_count": 4,
   "metadata": {
    "execution": {
     "iopub.execute_input": "2020-08-11T07:57:07.238320Z",
     "iopub.status.busy": "2020-08-11T07:57:07.236332Z",
     "iopub.status.idle": "2020-08-11T07:57:07.245969Z",
     "shell.execute_reply": "2020-08-11T07:57:07.247357Z"
    },
    "jupyter": {
     "source_hidden": true
    },
    "papermill": {
     "duration": 0.045728,
     "end_time": "2020-08-11T07:57:07.248066",
     "exception": false,
     "start_time": "2020-08-11T07:57:07.202338",
     "status": "completed"
    },
    "tags": [
     "injected-parameters"
    ]
   },
   "outputs": [],
   "source": [
    "# Parameters\n",
    "filepath = \"/tmp/avocado.csv\"\n",
    "n_estimators = 150\n",
    "max_features = \"auto\"\n",
    "ml_id = \"auto_150\"\n"
   ]
  },
  {
   "cell_type": "code",
   "execution_count": 5,
   "metadata": {
    "_uuid": "55d0e719eb8b91d763c1eacaf0f51ee0586486fc",
    "execution": {
     "iopub.execute_input": "2020-08-11T07:57:07.312644Z",
     "iopub.status.busy": "2020-08-11T07:57:07.310643Z",
     "iopub.status.idle": "2020-08-11T07:57:07.429030Z",
     "shell.execute_reply": "2020-08-11T07:57:07.430714Z"
    },
    "jupyter": {
     "source_hidden": true
    },
    "papermill": {
     "duration": 0.15642,
     "end_time": "2020-08-11T07:57:07.432037",
     "exception": false,
     "start_time": "2020-08-11T07:57:07.275617",
     "status": "completed"
    },
    "tags": []
   },
   "outputs": [],
   "source": [
    "df= pd.read_csv(filepath)"
   ]
  },
  {
   "cell_type": "markdown",
   "metadata": {
    "_uuid": "434e0457f550e2200424e5ec26162e1aa5904005",
    "papermill": {
     "duration": 0.035108,
     "end_time": "2020-08-11T07:57:07.507013",
     "exception": false,
     "start_time": "2020-08-11T07:57:07.471905",
     "status": "completed"
    },
    "tags": []
   },
   "source": [
    "The Feature \"Unnamed:0\" is just a representation of the indexes, so it's useless to keep it, lets remove it !"
   ]
  },
  {
   "cell_type": "code",
   "execution_count": 6,
   "metadata": {
    "_uuid": "9875398e37728dc3141fed4228be337a4735beb6",
    "execution": {
     "iopub.execute_input": "2020-08-11T07:57:07.578130Z",
     "iopub.status.busy": "2020-08-11T07:57:07.576137Z",
     "iopub.status.idle": "2020-08-11T07:57:07.591205Z",
     "shell.execute_reply": "2020-08-11T07:57:07.592515Z"
    },
    "jupyter": {
     "source_hidden": true
    },
    "papermill": {
     "duration": 0.053362,
     "end_time": "2020-08-11T07:57:07.593301",
     "exception": false,
     "start_time": "2020-08-11T07:57:07.539939",
     "status": "completed"
    },
    "tags": []
   },
   "outputs": [],
   "source": [
    "df.drop('Unnamed: 0',axis=1,inplace=True)"
   ]
  },
  {
   "cell_type": "markdown",
   "metadata": {
    "_uuid": "12e94ad381e4cb8d2c8a9bbe08ce07ab5d49c040",
    "papermill": {
     "duration": 0.028844,
     "end_time": "2020-08-11T07:57:07.652372",
     "exception": false,
     "start_time": "2020-08-11T07:57:07.623528",
     "status": "completed"
    },
    "tags": []
   },
   "source": [
    "well as a first observation we can see that we are lucky, we dont have any missing values (18249 complete data) and 13 columns.\n",
    "Now let's do some Feature Engineering on the Date Feature so we can be able to use the day and the month columns in building our machine learning model later. ( I didn't mention the year because its already there in data frame)"
   ]
  },
  {
   "cell_type": "code",
   "execution_count": 7,
   "metadata": {
    "_uuid": "f031639ce794656e877484d1c9c356df7028177f",
    "execution": {
     "iopub.execute_input": "2020-08-11T07:57:07.718021Z",
     "iopub.status.busy": "2020-08-11T07:57:07.716063Z",
     "iopub.status.idle": "2020-08-11T07:57:08.134859Z",
     "shell.execute_reply": "2020-08-11T07:57:08.133280Z"
    },
    "jupyter": {
     "source_hidden": true
    },
    "papermill": {
     "duration": 0.454403,
     "end_time": "2020-08-11T07:57:08.135466",
     "exception": false,
     "start_time": "2020-08-11T07:57:07.681063",
     "status": "completed"
    },
    "tags": []
   },
   "outputs": [],
   "source": [
    "df['Date']=pd.to_datetime(df['Date'])\n",
    "df['Month']=df['Date'].apply(lambda x:x.month)\n",
    "df['Day']=df['Date'].apply(lambda x:x.day)"
   ]
  },
  {
   "cell_type": "markdown",
   "metadata": {
    "_uuid": "ebdcac9924ce3e366fd3a75170682f7113385b7a",
    "papermill": {
     "duration": 0.02987,
     "end_time": "2020-08-11T07:57:08.198726",
     "exception": false,
     "start_time": "2020-08-11T07:57:08.168856",
     "status": "completed"
    },
    "tags": []
   },
   "source": [
    "as we can see we have 54 regions and 2 unique types, so it's going to be easy to to transform the type feature to dummies, but for the region its going to be a bit complexe so I decided to drop the entire column.\n",
    "I will drop the Date Feature as well because I already have 3 other columns for the Year, Month and Day."
   ]
  },
  {
   "cell_type": "code",
   "execution_count": 8,
   "metadata": {
    "_uuid": "a798682da34327b731ef262985fd50ba68e06460",
    "execution": {
     "iopub.execute_input": "2020-08-11T07:57:08.300741Z",
     "iopub.status.busy": "2020-08-11T07:57:08.295110Z",
     "iopub.status.idle": "2020-08-11T07:57:08.358579Z",
     "shell.execute_reply": "2020-08-11T07:57:08.356479Z"
    },
    "jupyter": {
     "source_hidden": true
    },
    "papermill": {
     "duration": 0.129788,
     "end_time": "2020-08-11T07:57:08.361108",
     "exception": false,
     "start_time": "2020-08-11T07:57:08.231320",
     "status": "completed"
    },
    "tags": []
   },
   "outputs": [],
   "source": [
    "df_final=pd.get_dummies(df.drop(['region','Date'],axis=1),drop_first=True)"
   ]
  },
  {
   "cell_type": "markdown",
   "metadata": {
    "_uuid": "8b74a6b88cb3e9b3e1d1e987e061048f203c7364",
    "papermill": {
     "duration": 0.038903,
     "end_time": "2020-08-11T07:57:08.433815",
     "exception": false,
     "start_time": "2020-08-11T07:57:08.394912",
     "status": "completed"
    },
    "tags": []
   },
   "source": [
    "Now our data are ready! lets apply our model which is going to be the Linear Regression because our Target variable 'AveragePrice'is continuous.\n",
    "Let's now begin to train out regression model! We will need to first split up our data into an X array that contains the features to train on, and a y array with the target variable"
   ]
  },
  {
   "cell_type": "code",
   "execution_count": 9,
   "metadata": {
    "_uuid": "830591f99de9715241e688bf9ce265e979401ff5",
    "execution": {
     "iopub.execute_input": "2020-08-11T07:57:08.517766Z",
     "iopub.status.busy": "2020-08-11T07:57:08.515579Z",
     "iopub.status.idle": "2020-08-11T07:57:08.550980Z",
     "shell.execute_reply": "2020-08-11T07:57:08.553026Z"
    },
    "jupyter": {
     "source_hidden": true
    },
    "papermill": {
     "duration": 0.084872,
     "end_time": "2020-08-11T07:57:08.553769",
     "exception": false,
     "start_time": "2020-08-11T07:57:08.468897",
     "status": "completed"
    },
    "tags": []
   },
   "outputs": [],
   "source": [
    "X=df_final.iloc[:,1:14]\n",
    "y=df_final['AveragePrice']\n",
    "from sklearn.model_selection import train_test_split\n",
    "X_train,X_test,y_train,y_test=train_test_split(X,y,test_size=0.2,random_state=42)"
   ]
  },
  {
   "cell_type": "markdown",
   "metadata": {
    "_uuid": "ea730c77a31cde9de98263079a189accb8b5772b",
    "papermill": {
     "duration": 0.030883,
     "end_time": "2020-08-11T07:57:08.618051",
     "exception": false,
     "start_time": "2020-08-11T07:57:08.587168",
     "status": "completed"
    },
    "tags": []
   },
   "source": [
    "Creating and Training the Model"
   ]
  },
  {
   "cell_type": "code",
   "execution_count": 10,
   "metadata": {
    "_uuid": "eb37015e78974e5fd2ae7e13d065c8ab0a9c6948",
    "execution": {
     "iopub.execute_input": "2020-08-11T07:57:08.686200Z",
     "iopub.status.busy": "2020-08-11T07:57:08.684302Z",
     "iopub.status.idle": "2020-08-11T07:57:48.442738Z",
     "shell.execute_reply": "2020-08-11T07:57:48.444607Z"
    },
    "jupyter": {
     "source_hidden": true
    },
    "papermill": {
     "duration": 39.797666,
     "end_time": "2020-08-11T07:57:48.445285",
     "exception": false,
     "start_time": "2020-08-11T07:57:08.647619",
     "status": "completed"
    },
    "tags": []
   },
   "outputs": [],
   "source": [
    "from sklearn.ensemble import RandomForestRegressor\n",
    "rdr = RandomForestRegressor(\n",
    "    n_estimators=n_estimators,\n",
    "    max_features=max_features\n",
    ")\n",
    "rdr.fit(X_train,y_train)\n",
    "pred=rdr.predict(X_test)"
   ]
  },
  {
   "cell_type": "code",
   "execution_count": 11,
   "metadata": {
    "_uuid": "7ed5b8d4e8abb44a4b548c13ac9fb2d65227d1c5",
    "execution": {
     "iopub.execute_input": "2020-08-11T07:57:48.529945Z",
     "iopub.status.busy": "2020-08-11T07:57:48.527686Z",
     "iopub.status.idle": "2020-08-11T07:57:48.535697Z",
     "shell.execute_reply": "2020-08-11T07:57:48.538104Z"
    },
    "jupyter": {
     "source_hidden": true
    },
    "papermill": {
     "duration": 0.059116,
     "end_time": "2020-08-11T07:57:48.538826",
     "exception": false,
     "start_time": "2020-08-11T07:57:48.479710",
     "status": "completed"
    },
    "tags": []
   },
   "outputs": [],
   "source": [
    "#%%capture cap --no-stderr\n",
    "#print(np.sqrt(mean_squared_error(y_test, pred)))"
   ]
  },
  {
   "cell_type": "code",
   "execution_count": 12,
   "metadata": {
    "execution": {
     "iopub.execute_input": "2020-08-11T07:57:48.620760Z",
     "iopub.status.busy": "2020-08-11T07:57:48.618799Z",
     "iopub.status.idle": "2020-08-11T07:57:48.630399Z",
     "shell.execute_reply": "2020-08-11T07:57:48.626692Z"
    },
    "jupyter": {
     "source_hidden": true
    },
    "papermill": {
     "duration": 0.058264,
     "end_time": "2020-08-11T07:57:48.631021",
     "exception": false,
     "start_time": "2020-08-11T07:57:48.572757",
     "status": "completed"
    },
    "tags": []
   },
   "outputs": [],
   "source": [
    "#with open(output_rmse, 'w') as f:\n",
    "#    f.write(cap.stdout)"
   ]
  },
  {
   "cell_type": "code",
   "execution_count": 13,
   "metadata": {
    "execution": {
     "iopub.execute_input": "2020-08-11T07:57:48.700703Z",
     "iopub.status.busy": "2020-08-11T07:57:48.698775Z",
     "iopub.status.idle": "2020-08-11T07:57:48.761044Z",
     "shell.execute_reply": "2020-08-11T07:57:48.762702Z"
    },
    "jupyter": {
     "source_hidden": true
    },
    "papermill": {
     "duration": 0.101204,
     "end_time": "2020-08-11T07:57:48.763297",
     "exception": false,
     "start_time": "2020-08-11T07:57:48.662093",
     "status": "completed"
    },
    "tags": []
   },
   "outputs": [
    {
     "data": {
      "text/plain": [
       "<sqlalchemy.engine.result.ResultProxy at 0x7f94deea5a50>"
      ]
     },
     "execution_count": 13,
     "metadata": {},
     "output_type": "execute_result"
    }
   ],
   "source": [
    "cnx.execute(\"\"\"\n",
    "    INSERT INTO ml.accuracies (ml_id, ml_date, accuracy) VALUES ('{0}', '{1}', {2}) \n",
    "    ON CONFLICT (ml_id, ml_date) \n",
    "    DO\n",
    "        UPDATE SET accuracy = {2};\n",
    "    \"\"\".format(ml_id, ml_date, np.sqrt(mean_squared_error(y_test, pred))))"
   ]
  }
 ],
 "metadata": {
  "kernelspec": {
   "display_name": "Python 3",
   "language": "python",
   "name": "python3"
  },
  "language_info": {
   "codemirror_mode": {
    "name": "ipython",
    "version": 3
   },
   "file_extension": ".py",
   "mimetype": "text/x-python",
   "name": "python",
   "nbconvert_exporter": "python",
   "pygments_lexer": "ipython3",
   "version": "3.7.7"
  },
  "papermill": {
   "duration": 47.363889,
   "end_time": "2020-08-11T07:57:49.421704",
   "environment_variables": {},
   "exception": null,
   "input_path": "/usr/local/airflow/include/notebooks/avocado_prediction.ipynb",
   "output_path": "/tmp/out-model-avocado-prediction-auto_150.ipynb",
   "parameters": {
    "filepath": "/tmp/avocado.csv",
    "max_features": "auto",
    "ml_id": "auto_150",
    "n_estimators": 150
   },
   "start_time": "2020-08-11T07:57:02.057815",
   "version": "2.1.2"
  }
 },
 "nbformat": 4,
 "nbformat_minor": 4
}