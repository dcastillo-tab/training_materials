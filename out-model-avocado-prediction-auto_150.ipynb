{
 "cells": [
  {
   "cell_type": "code",
   "execution_count": 1,
   "metadata": {
    "_cell_guid": "79c7e3d0-c299-4dcb-8224-4455121ee9b0",
    "_uuid": "d629ff2d2480ee46fbb7e2d37f6b5fab8052498a",
    "execution": {
     "iopub.execute_input": "2020-08-06T10:35:59.388736Z",
     "iopub.status.busy": "2020-08-06T10:35:59.387087Z",
     "iopub.status.idle": "2020-08-06T10:36:00.096094Z",
     "shell.execute_reply": "2020-08-06T10:36:00.096589Z"
    },
    "jupyter": {
     "source_hidden": true
    },
    "papermill": {
     "duration": 0.730616,
     "end_time": "2020-08-06T10:36:00.096879",
     "exception": false,
     "start_time": "2020-08-06T10:35:59.366263",
     "status": "completed"
    },
    "tags": []
   },
   "outputs": [],
   "source": [
    "import pandas as pd\n",
    "import numpy as np\n",
    "from sqlalchemy import create_engine\n",
    "from datetime import date\n",
    "from sklearn.metrics import mean_squared_error"
   ]
  },
  {
   "cell_type": "code",
   "execution_count": 2,
   "metadata": {
    "execution": {
     "iopub.execute_input": "2020-08-06T10:36:00.120545Z",
     "iopub.status.busy": "2020-08-06T10:36:00.119895Z",
     "iopub.status.idle": "2020-08-06T10:36:00.146315Z",
     "shell.execute_reply": "2020-08-06T10:36:00.145756Z"
    },
    "jupyter": {
     "source_hidden": true
    },
    "papermill": {
     "duration": 0.040233,
     "end_time": "2020-08-06T10:36:00.146525",
     "exception": false,
     "start_time": "2020-08-06T10:36:00.106292",
     "status": "completed"
    },
    "tags": []
   },
   "outputs": [],
   "source": [
    "# THIS IS PURELY FOR TEST PURPOSE NEVER DO THAT IN PRODUCTION\n",
    "POSTGRES_ADDRESS='postgres'\n",
    "POSTGRES_PORT='5432'\n",
    "POSTGRES_USERNAME='postgres'\n",
    "POSTGRES_PASSWORD='postgres'\n",
    "\n",
    "postgres_conn = 'postgresql://{0}:{1}@{2}:{3}/'.format(POSTGRES_USERNAME, POSTGRES_PASSWORD, POSTGRES_ADDRESS, POSTGRES_PORT)\n",
    "\n",
    "# Create the connection\n",
    "cnx = create_engine(postgres_conn)\n"
   ]
  },
  {
   "cell_type": "markdown",
   "metadata": {
    "_uuid": "1998755ef10683262b29765345cff1c1c7d10b15",
    "papermill": {
     "duration": 0.008719,
     "end_time": "2020-08-06T10:36:00.164060",
     "exception": false,
     "start_time": "2020-08-06T10:36:00.155341",
     "status": "completed"
    },
    "tags": []
   },
   "source": [
    "Read in the Avocado Prices csv file as a DataFrame called df"
   ]
  },
  {
   "cell_type": "code",
   "execution_count": 3,
   "metadata": {
    "execution": {
     "iopub.execute_input": "2020-08-06T10:36:00.185524Z",
     "iopub.status.busy": "2020-08-06T10:36:00.184903Z",
     "iopub.status.idle": "2020-08-06T10:36:00.187491Z",
     "shell.execute_reply": "2020-08-06T10:36:00.187026Z"
    },
    "jupyter": {
     "source_hidden": true
    },
    "papermill": {
     "duration": 0.015138,
     "end_time": "2020-08-06T10:36:00.187691",
     "exception": false,
     "start_time": "2020-08-06T10:36:00.172553",
     "status": "completed"
    },
    "tags": [
     "parameters"
    ]
   },
   "outputs": [],
   "source": [
    "# Parameterized\n",
    "\n",
    "filepath='avocado.csv'\n",
    "ml_id='auto_100'\n",
    "ml_date=date.today()\n",
    "n_estimators = 100\n",
    "max_features = 'auto'"
   ]
  },
  {
   "cell_type": "code",
   "execution_count": 4,
   "metadata": {
    "execution": {
     "iopub.execute_input": "2020-08-06T10:36:00.209341Z",
     "iopub.status.busy": "2020-08-06T10:36:00.208564Z",
     "iopub.status.idle": "2020-08-06T10:36:00.212471Z",
     "shell.execute_reply": "2020-08-06T10:36:00.211798Z"
    },
    "jupyter": {
     "source_hidden": true
    },
    "papermill": {
     "duration": 0.016249,
     "end_time": "2020-08-06T10:36:00.212699",
     "exception": false,
     "start_time": "2020-08-06T10:36:00.196450",
     "status": "completed"
    },
    "tags": [
     "injected-parameters"
    ]
   },
   "outputs": [],
   "source": [
    "# Parameters\n",
    "filepath = \"/tmp/avocado.csv\"\n",
    "n_estimators = 150\n",
    "max_features = \"auto\"\n",
    "ml_id = \"auto_150\"\n"
   ]
  },
  {
   "cell_type": "code",
   "execution_count": 5,
   "metadata": {
    "_uuid": "55d0e719eb8b91d763c1eacaf0f51ee0586486fc",
    "execution": {
     "iopub.execute_input": "2020-08-06T10:36:00.233894Z",
     "iopub.status.busy": "2020-08-06T10:36:00.233388Z",
     "iopub.status.idle": "2020-08-06T10:36:00.260939Z",
     "shell.execute_reply": "2020-08-06T10:36:00.261449Z"
    },
    "jupyter": {
     "source_hidden": true
    },
    "papermill": {
     "duration": 0.040769,
     "end_time": "2020-08-06T10:36:00.261664",
     "exception": false,
     "start_time": "2020-08-06T10:36:00.220895",
     "status": "completed"
    },
    "tags": []
   },
   "outputs": [],
   "source": [
    "df= pd.read_csv(filepath)"
   ]
  },
  {
   "cell_type": "markdown",
   "metadata": {
    "_uuid": "434e0457f550e2200424e5ec26162e1aa5904005",
    "papermill": {
     "duration": 0.009151,
     "end_time": "2020-08-06T10:36:00.279392",
     "exception": false,
     "start_time": "2020-08-06T10:36:00.270241",
     "status": "completed"
    },
    "tags": []
   },
   "source": [
    "The Feature \"Unnamed:0\" is just a representation of the indexes, so it's useless to keep it, lets remove it !"
   ]
  },
  {
   "cell_type": "code",
   "execution_count": 6,
   "metadata": {
    "_uuid": "9875398e37728dc3141fed4228be337a4735beb6",
    "execution": {
     "iopub.execute_input": "2020-08-06T10:36:00.301897Z",
     "iopub.status.busy": "2020-08-06T10:36:00.301374Z",
     "iopub.status.idle": "2020-08-06T10:36:00.304681Z",
     "shell.execute_reply": "2020-08-06T10:36:00.304045Z"
    },
    "jupyter": {
     "source_hidden": true
    },
    "papermill": {
     "duration": 0.0174,
     "end_time": "2020-08-06T10:36:00.304855",
     "exception": false,
     "start_time": "2020-08-06T10:36:00.287455",
     "status": "completed"
    },
    "tags": []
   },
   "outputs": [],
   "source": [
    "df.drop('Unnamed: 0',axis=1,inplace=True)"
   ]
  },
  {
   "cell_type": "markdown",
   "metadata": {
    "_uuid": "12e94ad381e4cb8d2c8a9bbe08ce07ab5d49c040",
    "papermill": {
     "duration": 0.00834,
     "end_time": "2020-08-06T10:36:00.321802",
     "exception": false,
     "start_time": "2020-08-06T10:36:00.313462",
     "status": "completed"
    },
    "tags": []
   },
   "source": [
    "well as a first observation we can see that we are lucky, we dont have any missing values (18249 complete data) and 13 columns.\n",
    "Now let's do some Feature Engineering on the Date Feature so we can be able to use the day and the month columns in building our machine learning model later. ( I didn't mention the year because its already there in data frame)"
   ]
  },
  {
   "cell_type": "code",
   "execution_count": 7,
   "metadata": {
    "_uuid": "f031639ce794656e877484d1c9c356df7028177f",
    "execution": {
     "iopub.execute_input": "2020-08-06T10:36:00.373541Z",
     "iopub.status.busy": "2020-08-06T10:36:00.370886Z",
     "iopub.status.idle": "2020-08-06T10:36:00.498892Z",
     "shell.execute_reply": "2020-08-06T10:36:00.498270Z"
    },
    "jupyter": {
     "source_hidden": true
    },
    "papermill": {
     "duration": 0.168753,
     "end_time": "2020-08-06T10:36:00.499079",
     "exception": false,
     "start_time": "2020-08-06T10:36:00.330326",
     "status": "completed"
    },
    "tags": []
   },
   "outputs": [],
   "source": [
    "df['Date']=pd.to_datetime(df['Date'])\n",
    "df['Month']=df['Date'].apply(lambda x:x.month)\n",
    "df['Day']=df['Date'].apply(lambda x:x.day)"
   ]
  },
  {
   "cell_type": "markdown",
   "metadata": {
    "_uuid": "ebdcac9924ce3e366fd3a75170682f7113385b7a",
    "papermill": {
     "duration": 0.012198,
     "end_time": "2020-08-06T10:36:00.522695",
     "exception": false,
     "start_time": "2020-08-06T10:36:00.510497",
     "status": "completed"
    },
    "tags": []
   },
   "source": [
    "as we can see we have 54 regions and 2 unique types, so it's going to be easy to to transform the type feature to dummies, but for the region its going to be a bit complexe so I decided to drop the entire column.\n",
    "I will drop the Date Feature as well because I already have 3 other columns for the Year, Month and Day."
   ]
  },
  {
   "cell_type": "code",
   "execution_count": 8,
   "metadata": {
    "_uuid": "a798682da34327b731ef262985fd50ba68e06460",
    "execution": {
     "iopub.execute_input": "2020-08-06T10:36:00.562951Z",
     "iopub.status.busy": "2020-08-06T10:36:00.562329Z",
     "iopub.status.idle": "2020-08-06T10:36:00.567563Z",
     "shell.execute_reply": "2020-08-06T10:36:00.567037Z"
    },
    "jupyter": {
     "source_hidden": true
    },
    "papermill": {
     "duration": 0.032287,
     "end_time": "2020-08-06T10:36:00.567771",
     "exception": false,
     "start_time": "2020-08-06T10:36:00.535484",
     "status": "completed"
    },
    "tags": []
   },
   "outputs": [],
   "source": [
    "df_final=pd.get_dummies(df.drop(['region','Date'],axis=1),drop_first=True)"
   ]
  },
  {
   "cell_type": "markdown",
   "metadata": {
    "_uuid": "8b74a6b88cb3e9b3e1d1e987e061048f203c7364",
    "papermill": {
     "duration": 0.009381,
     "end_time": "2020-08-06T10:36:00.587016",
     "exception": false,
     "start_time": "2020-08-06T10:36:00.577635",
     "status": "completed"
    },
    "tags": []
   },
   "source": [
    "Now our data are ready! lets apply our model which is going to be the Linear Regression because our Target variable 'AveragePrice'is continuous.\n",
    "Let's now begin to train out regression model! We will need to first split up our data into an X array that contains the features to train on, and a y array with the target variable"
   ]
  },
  {
   "cell_type": "code",
   "execution_count": 9,
   "metadata": {
    "_uuid": "830591f99de9715241e688bf9ce265e979401ff5",
    "execution": {
     "iopub.execute_input": "2020-08-06T10:36:00.612407Z",
     "iopub.status.busy": "2020-08-06T10:36:00.611743Z",
     "iopub.status.idle": "2020-08-06T10:36:00.623471Z",
     "shell.execute_reply": "2020-08-06T10:36:00.623889Z"
    },
    "jupyter": {
     "source_hidden": true
    },
    "papermill": {
     "duration": 0.027706,
     "end_time": "2020-08-06T10:36:00.624159",
     "exception": false,
     "start_time": "2020-08-06T10:36:00.596453",
     "status": "completed"
    },
    "tags": []
   },
   "outputs": [],
   "source": [
    "X=df_final.iloc[:,1:14]\n",
    "y=df_final['AveragePrice']\n",
    "from sklearn.model_selection import train_test_split\n",
    "X_train,X_test,y_train,y_test=train_test_split(X,y,test_size=0.2,random_state=42)"
   ]
  },
  {
   "cell_type": "markdown",
   "metadata": {
    "_uuid": "ea730c77a31cde9de98263079a189accb8b5772b",
    "papermill": {
     "duration": 0.010528,
     "end_time": "2020-08-06T10:36:00.645594",
     "exception": false,
     "start_time": "2020-08-06T10:36:00.635066",
     "status": "completed"
    },
    "tags": []
   },
   "source": [
    "Creating and Training the Model"
   ]
  },
  {
   "cell_type": "code",
   "execution_count": 10,
   "metadata": {
    "_uuid": "eb37015e78974e5fd2ae7e13d065c8ab0a9c6948",
    "execution": {
     "iopub.execute_input": "2020-08-06T10:36:00.670052Z",
     "iopub.status.busy": "2020-08-06T10:36:00.669443Z",
     "iopub.status.idle": "2020-08-06T10:36:13.887596Z",
     "shell.execute_reply": "2020-08-06T10:36:13.887076Z"
    },
    "jupyter": {
     "source_hidden": true
    },
    "papermill": {
     "duration": 13.232876,
     "end_time": "2020-08-06T10:36:13.887799",
     "exception": false,
     "start_time": "2020-08-06T10:36:00.654923",
     "status": "completed"
    },
    "tags": []
   },
   "outputs": [],
   "source": [
    "from sklearn.ensemble import RandomForestRegressor\n",
    "rdr = RandomForestRegressor(\n",
    "    n_estimators=n_estimators,\n",
    "    max_features=max_features\n",
    ")\n",
    "rdr.fit(X_train,y_train)\n",
    "pred=rdr.predict(X_test)"
   ]
  },
  {
   "cell_type": "code",
   "execution_count": 11,
   "metadata": {
    "_uuid": "7ed5b8d4e8abb44a4b548c13ac9fb2d65227d1c5",
    "execution": {
     "iopub.execute_input": "2020-08-06T10:36:13.915396Z",
     "iopub.status.busy": "2020-08-06T10:36:13.914700Z",
     "iopub.status.idle": "2020-08-06T10:36:13.917885Z",
     "shell.execute_reply": "2020-08-06T10:36:13.918355Z"
    },
    "jupyter": {
     "source_hidden": true
    },
    "papermill": {
     "duration": 0.019278,
     "end_time": "2020-08-06T10:36:13.918593",
     "exception": false,
     "start_time": "2020-08-06T10:36:13.899315",
     "status": "completed"
    },
    "tags": []
   },
   "outputs": [],
   "source": [
    "#%%capture cap --no-stderr\n",
    "#print(np.sqrt(mean_squared_error(y_test, pred)))"
   ]
  },
  {
   "cell_type": "code",
   "execution_count": 12,
   "metadata": {
    "execution": {
     "iopub.execute_input": "2020-08-06T10:36:13.944108Z",
     "iopub.status.busy": "2020-08-06T10:36:13.943534Z",
     "iopub.status.idle": "2020-08-06T10:36:13.946587Z",
     "shell.execute_reply": "2020-08-06T10:36:13.946066Z"
    },
    "jupyter": {
     "source_hidden": true
    },
    "papermill": {
     "duration": 0.015835,
     "end_time": "2020-08-06T10:36:13.946816",
     "exception": false,
     "start_time": "2020-08-06T10:36:13.930981",
     "status": "completed"
    },
    "tags": []
   },
   "outputs": [],
   "source": [
    "#with open(output_rmse, 'w') as f:\n",
    "#    f.write(cap.stdout)"
   ]
  },
  {
   "cell_type": "code",
   "execution_count": 13,
   "metadata": {
    "execution": {
     "iopub.execute_input": "2020-08-06T10:36:13.971633Z",
     "iopub.status.busy": "2020-08-06T10:36:13.971010Z",
     "iopub.status.idle": "2020-08-06T10:36:13.988786Z",
     "shell.execute_reply": "2020-08-06T10:36:13.988358Z"
    },
    "jupyter": {
     "source_hidden": true
    },
    "papermill": {
     "duration": 0.032487,
     "end_time": "2020-08-06T10:36:13.988988",
     "exception": false,
     "start_time": "2020-08-06T10:36:13.956501",
     "status": "completed"
    },
    "tags": []
   },
   "outputs": [
    {
     "data": {
      "text/plain": [
       "<sqlalchemy.engine.result.ResultProxy at 0x7f2732461e10>"
      ]
     },
     "execution_count": 13,
     "metadata": {},
     "output_type": "execute_result"
    }
   ],
   "source": [
    "cnx.execute(\"\"\"\n",
    "    INSERT INTO ml.accuracies (ml_id, ml_date, accuracy) VALUES ('{0}', '{1}', {2}) \n",
    "    ON CONFLICT (ml_id, ml_date) \n",
    "    DO\n",
    "        UPDATE SET accuracy = {2};\n",
    "    \"\"\".format(ml_id, ml_date, np.sqrt(mean_squared_error(y_test, pred))))"
   ]
  }
 ],
 "metadata": {
  "kernelspec": {
   "display_name": "Python 3",
   "language": "python",
   "name": "python3"
  },
  "language_info": {
   "codemirror_mode": {
    "name": "ipython",
    "version": 3
   },
   "file_extension": ".py",
   "mimetype": "text/x-python",
   "name": "python",
   "nbconvert_exporter": "python",
   "pygments_lexer": "ipython3",
   "version": "3.7.7"
  },
  "papermill": {
   "duration": 16.145395,
   "end_time": "2020-08-06T10:36:14.413052",
   "environment_variables": {},
   "exception": null,
   "input_path": "/usr/local/airflow/include/notebooks/avocado_prediction.ipynb",
   "output_path": "/tmp/out-model-avocado-prediction-auto_150.ipynb",
   "parameters": {
    "filepath": "/tmp/avocado.csv",
    "max_features": "auto",
    "ml_id": "auto_150",
    "n_estimators": 150
   },
   "start_time": "2020-08-06T10:35:58.267657",
   "version": "2.1.2"
  }
 },
 "nbformat": 4,
 "nbformat_minor": 4
}