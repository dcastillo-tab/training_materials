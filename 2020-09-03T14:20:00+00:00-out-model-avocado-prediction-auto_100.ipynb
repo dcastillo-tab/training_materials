{
 "cells": [
  {
   "cell_type": "code",
   "execution_count": 1,
   "metadata": {
    "_cell_guid": "79c7e3d0-c299-4dcb-8224-4455121ee9b0",
    "_uuid": "d629ff2d2480ee46fbb7e2d37f6b5fab8052498a",
    "execution": {
     "iopub.execute_input": "2020-09-03T14:30:40.103975Z",
     "iopub.status.busy": "2020-09-03T14:30:40.103357Z",
     "iopub.status.idle": "2020-09-03T14:30:40.767404Z",
     "shell.execute_reply": "2020-09-03T14:30:40.768009Z"
    },
    "jupyter": {
     "source_hidden": true
    },
    "papermill": {
     "duration": 0.679709,
     "end_time": "2020-09-03T14:30:40.768460",
     "exception": false,
     "start_time": "2020-09-03T14:30:40.088751",
     "status": "completed"
    },
    "tags": []
   },
   "outputs": [],
   "source": [
    "import pandas as pd\n",
    "import numpy as np\n",
    "from sqlalchemy import create_engine\n",
    "from datetime import date\n",
    "from sklearn.metrics import mean_squared_error"
   ]
  },
  {
   "cell_type": "code",
   "execution_count": 2,
   "metadata": {
    "execution": {
     "iopub.execute_input": "2020-09-03T14:30:40.792967Z",
     "iopub.status.busy": "2020-09-03T14:30:40.792347Z",
     "iopub.status.idle": "2020-09-03T14:30:40.847975Z",
     "shell.execute_reply": "2020-09-03T14:30:40.847069Z"
    },
    "jupyter": {
     "source_hidden": true
    },
    "papermill": {
     "duration": 0.070145,
     "end_time": "2020-09-03T14:30:40.848347",
     "exception": false,
     "start_time": "2020-09-03T14:30:40.778202",
     "status": "completed"
    },
    "tags": []
   },
   "outputs": [],
   "source": [
    "# THIS IS PURELY FOR TEST PURPOSE NEVER DO THAT IN PRODUCTION\n",
    "POSTGRES_ADDRESS='postgres'\n",
    "POSTGRES_PORT='5432'\n",
    "POSTGRES_USERNAME='postgres'\n",
    "POSTGRES_PASSWORD='postgres'\n",
    "\n",
    "postgres_conn = 'postgresql://{0}:{1}@{2}:{3}/'.format(POSTGRES_USERNAME, POSTGRES_PASSWORD, POSTGRES_ADDRESS, POSTGRES_PORT)\n",
    "\n",
    "# Create the connection\n",
    "cnx = create_engine(postgres_conn)\n"
   ]
  },
  {
   "cell_type": "markdown",
   "metadata": {
    "_uuid": "1998755ef10683262b29765345cff1c1c7d10b15",
    "papermill": {
     "duration": 0.00899,
     "end_time": "2020-09-03T14:30:40.867903",
     "exception": false,
     "start_time": "2020-09-03T14:30:40.858913",
     "status": "completed"
    },
    "tags": []
   },
   "source": [
    "Read in the Avocado Prices csv file as a DataFrame called df"
   ]
  },
  {
   "cell_type": "code",
   "execution_count": 3,
   "metadata": {
    "execution": {
     "iopub.execute_input": "2020-09-03T14:30:40.890349Z",
     "iopub.status.busy": "2020-09-03T14:30:40.889692Z",
     "iopub.status.idle": "2020-09-03T14:30:40.892475Z",
     "shell.execute_reply": "2020-09-03T14:30:40.891771Z"
    },
    "jupyter": {
     "source_hidden": true
    },
    "papermill": {
     "duration": 0.016016,
     "end_time": "2020-09-03T14:30:40.892686",
     "exception": false,
     "start_time": "2020-09-03T14:30:40.876670",
     "status": "completed"
    },
    "tags": [
     "parameters"
    ]
   },
   "outputs": [],
   "source": [
    "# Parameterized\n",
    "\n",
    "filepath='avocado.csv'\n",
    "ml_id='auto_100'\n",
    "ml_date=date.today()\n",
    "n_estimators = 100\n",
    "max_features = 'auto'"
   ]
  },
  {
   "cell_type": "code",
   "execution_count": 4,
   "metadata": {
    "execution": {
     "iopub.execute_input": "2020-09-03T14:30:40.914417Z",
     "iopub.status.busy": "2020-09-03T14:30:40.913772Z",
     "iopub.status.idle": "2020-09-03T14:30:40.916895Z",
     "shell.execute_reply": "2020-09-03T14:30:40.917453Z"
    },
    "jupyter": {
     "source_hidden": true
    },
    "papermill": {
     "duration": 0.01616,
     "end_time": "2020-09-03T14:30:40.917689",
     "exception": false,
     "start_time": "2020-09-03T14:30:40.901529",
     "status": "completed"
    },
    "tags": [
     "injected-parameters"
    ]
   },
   "outputs": [],
   "source": [
    "# Parameters\n",
    "filepath = \"/tmp/avocado.csv\"\n",
    "n_estimators = 100\n",
    "max_features = \"auto\"\n",
    "ml_id = \"auto_100\"\n"
   ]
  },
  {
   "cell_type": "code",
   "execution_count": 5,
   "metadata": {
    "_uuid": "55d0e719eb8b91d763c1eacaf0f51ee0586486fc",
    "execution": {
     "iopub.execute_input": "2020-09-03T14:30:40.940656Z",
     "iopub.status.busy": "2020-09-03T14:30:40.940040Z",
     "iopub.status.idle": "2020-09-03T14:30:40.969342Z",
     "shell.execute_reply": "2020-09-03T14:30:40.968902Z"
    },
    "jupyter": {
     "source_hidden": true
    },
    "papermill": {
     "duration": 0.042664,
     "end_time": "2020-09-03T14:30:40.969616",
     "exception": false,
     "start_time": "2020-09-03T14:30:40.926952",
     "status": "completed"
    },
    "tags": []
   },
   "outputs": [],
   "source": [
    "df= pd.read_csv(filepath)"
   ]
  },
  {
   "cell_type": "markdown",
   "metadata": {
    "_uuid": "434e0457f550e2200424e5ec26162e1aa5904005",
    "papermill": {
     "duration": 0.0095,
     "end_time": "2020-09-03T14:30:40.988368",
     "exception": false,
     "start_time": "2020-09-03T14:30:40.978868",
     "status": "completed"
    },
    "tags": []
   },
   "source": [
    "The Feature \"Unnamed:0\" is just a representation of the indexes, so it's useless to keep it, lets remove it !"
   ]
  },
  {
   "cell_type": "code",
   "execution_count": 6,
   "metadata": {
    "_uuid": "9875398e37728dc3141fed4228be337a4735beb6",
    "execution": {
     "iopub.execute_input": "2020-09-03T14:30:41.012472Z",
     "iopub.status.busy": "2020-09-03T14:30:41.011842Z",
     "iopub.status.idle": "2020-09-03T14:30:41.014993Z",
     "shell.execute_reply": "2020-09-03T14:30:41.014521Z"
    },
    "jupyter": {
     "source_hidden": true
    },
    "papermill": {
     "duration": 0.01784,
     "end_time": "2020-09-03T14:30:41.015247",
     "exception": false,
     "start_time": "2020-09-03T14:30:40.997407",
     "status": "completed"
    },
    "tags": []
   },
   "outputs": [],
   "source": [
    "df.drop('Unnamed: 0',axis=1,inplace=True)"
   ]
  },
  {
   "cell_type": "markdown",
   "metadata": {
    "_uuid": "12e94ad381e4cb8d2c8a9bbe08ce07ab5d49c040",
    "papermill": {
     "duration": 0.009674,
     "end_time": "2020-09-03T14:30:41.034825",
     "exception": false,
     "start_time": "2020-09-03T14:30:41.025151",
     "status": "completed"
    },
    "tags": []
   },
   "source": [
    "well as a first observation we can see that we are lucky, we dont have any missing values (18249 complete data) and 13 columns.\n",
    "Now let's do some Feature Engineering on the Date Feature so we can be able to use the day and the month columns in building our machine learning model later. ( I didn't mention the year because its already there in data frame)"
   ]
  },
  {
   "cell_type": "code",
   "execution_count": 7,
   "metadata": {
    "_uuid": "f031639ce794656e877484d1c9c356df7028177f",
    "execution": {
     "iopub.execute_input": "2020-09-03T14:30:41.058088Z",
     "iopub.status.busy": "2020-09-03T14:30:41.057497Z",
     "iopub.status.idle": "2020-09-03T14:30:41.162907Z",
     "shell.execute_reply": "2020-09-03T14:30:41.162410Z"
    },
    "jupyter": {
     "source_hidden": true
    },
    "papermill": {
     "duration": 0.119158,
     "end_time": "2020-09-03T14:30:41.163097",
     "exception": false,
     "start_time": "2020-09-03T14:30:41.043939",
     "status": "completed"
    },
    "tags": []
   },
   "outputs": [],
   "source": [
    "df['Date']=pd.to_datetime(df['Date'])\n",
    "df['Month']=df['Date'].apply(lambda x:x.month)\n",
    "df['Day']=df['Date'].apply(lambda x:x.day)"
   ]
  },
  {
   "cell_type": "markdown",
   "metadata": {
    "_uuid": "ebdcac9924ce3e366fd3a75170682f7113385b7a",
    "papermill": {
     "duration": 0.009328,
     "end_time": "2020-09-03T14:30:41.182136",
     "exception": false,
     "start_time": "2020-09-03T14:30:41.172808",
     "status": "completed"
    },
    "tags": []
   },
   "source": [
    "as we can see we have 54 regions and 2 unique types, so it's going to be easy to to transform the type feature to dummies, but for the region its going to be a bit complexe so I decided to drop the entire column.\n",
    "I will drop the Date Feature as well because I already have 3 other columns for the Year, Month and Day."
   ]
  },
  {
   "cell_type": "code",
   "execution_count": 8,
   "metadata": {
    "_uuid": "a798682da34327b731ef262985fd50ba68e06460",
    "execution": {
     "iopub.execute_input": "2020-09-03T14:30:41.204562Z",
     "iopub.status.busy": "2020-09-03T14:30:41.203949Z",
     "iopub.status.idle": "2020-09-03T14:30:41.216536Z",
     "shell.execute_reply": "2020-09-03T14:30:41.216896Z"
    },
    "jupyter": {
     "source_hidden": true
    },
    "papermill": {
     "duration": 0.026285,
     "end_time": "2020-09-03T14:30:41.217516",
     "exception": false,
     "start_time": "2020-09-03T14:30:41.191231",
     "status": "completed"
    },
    "tags": []
   },
   "outputs": [],
   "source": [
    "df_final=pd.get_dummies(df.drop(['region','Date'],axis=1),drop_first=True)"
   ]
  },
  {
   "cell_type": "markdown",
   "metadata": {
    "_uuid": "8b74a6b88cb3e9b3e1d1e987e061048f203c7364",
    "papermill": {
     "duration": 0.009115,
     "end_time": "2020-09-03T14:30:41.235205",
     "exception": false,
     "start_time": "2020-09-03T14:30:41.226090",
     "status": "completed"
    },
    "tags": []
   },
   "source": [
    "Now our data are ready! lets apply our model which is going to be the Linear Regression because our Target variable 'AveragePrice'is continuous.\n",
    "Let's now begin to train out regression model! We will need to first split up our data into an X array that contains the features to train on, and a y array with the target variable"
   ]
  },
  {
   "cell_type": "code",
   "execution_count": 9,
   "metadata": {
    "_uuid": "830591f99de9715241e688bf9ce265e979401ff5",
    "execution": {
     "iopub.execute_input": "2020-09-03T14:30:41.258234Z",
     "iopub.status.busy": "2020-09-03T14:30:41.257712Z",
     "iopub.status.idle": "2020-09-03T14:30:41.268879Z",
     "shell.execute_reply": "2020-09-03T14:30:41.268438Z"
    },
    "jupyter": {
     "source_hidden": true
    },
    "papermill": {
     "duration": 0.024832,
     "end_time": "2020-09-03T14:30:41.269119",
     "exception": false,
     "start_time": "2020-09-03T14:30:41.244287",
     "status": "completed"
    },
    "tags": []
   },
   "outputs": [],
   "source": [
    "X=df_final.iloc[:,1:14]\n",
    "y=df_final['AveragePrice']\n",
    "from sklearn.model_selection import train_test_split\n",
    "X_train,X_test,y_train,y_test=train_test_split(X,y,test_size=0.2,random_state=42)"
   ]
  },
  {
   "cell_type": "markdown",
   "metadata": {
    "_uuid": "ea730c77a31cde9de98263079a189accb8b5772b",
    "papermill": {
     "duration": 0.008687,
     "end_time": "2020-09-03T14:30:41.286904",
     "exception": false,
     "start_time": "2020-09-03T14:30:41.278217",
     "status": "completed"
    },
    "tags": []
   },
   "source": [
    "Creating and Training the Model"
   ]
  },
  {
   "cell_type": "code",
   "execution_count": 10,
   "metadata": {
    "_uuid": "eb37015e78974e5fd2ae7e13d065c8ab0a9c6948",
    "execution": {
     "iopub.execute_input": "2020-09-03T14:30:41.309314Z",
     "iopub.status.busy": "2020-09-03T14:30:41.308709Z",
     "iopub.status.idle": "2020-09-03T14:30:50.185506Z",
     "shell.execute_reply": "2020-09-03T14:30:50.185919Z"
    },
    "jupyter": {
     "source_hidden": true
    },
    "papermill": {
     "duration": 8.890322,
     "end_time": "2020-09-03T14:30:50.186164",
     "exception": false,
     "start_time": "2020-09-03T14:30:41.295842",
     "status": "completed"
    },
    "tags": []
   },
   "outputs": [],
   "source": [
    "from sklearn.ensemble import RandomForestRegressor\n",
    "rdr = RandomForestRegressor(\n",
    "    n_estimators=n_estimators,\n",
    "    max_features=max_features\n",
    ")\n",
    "rdr.fit(X_train,y_train)\n",
    "pred=rdr.predict(X_test)"
   ]
  },
  {
   "cell_type": "code",
   "execution_count": 11,
   "metadata": {
    "_uuid": "7ed5b8d4e8abb44a4b548c13ac9fb2d65227d1c5",
    "execution": {
     "iopub.execute_input": "2020-09-03T14:30:50.209964Z",
     "iopub.status.busy": "2020-09-03T14:30:50.209335Z",
     "iopub.status.idle": "2020-09-03T14:30:50.212322Z",
     "shell.execute_reply": "2020-09-03T14:30:50.211722Z"
    },
    "jupyter": {
     "source_hidden": true
    },
    "papermill": {
     "duration": 0.016619,
     "end_time": "2020-09-03T14:30:50.212538",
     "exception": false,
     "start_time": "2020-09-03T14:30:50.195919",
     "status": "completed"
    },
    "tags": []
   },
   "outputs": [],
   "source": [
    "#%%capture cap --no-stderr\n",
    "#print(np.sqrt(mean_squared_error(y_test, pred)))"
   ]
  },
  {
   "cell_type": "code",
   "execution_count": 12,
   "metadata": {
    "execution": {
     "iopub.execute_input": "2020-09-03T14:30:50.236120Z",
     "iopub.status.busy": "2020-09-03T14:30:50.235474Z",
     "iopub.status.idle": "2020-09-03T14:30:50.238400Z",
     "shell.execute_reply": "2020-09-03T14:30:50.237846Z"
    },
    "jupyter": {
     "source_hidden": true
    },
    "papermill": {
     "duration": 0.016375,
     "end_time": "2020-09-03T14:30:50.238633",
     "exception": false,
     "start_time": "2020-09-03T14:30:50.222258",
     "status": "completed"
    },
    "tags": []
   },
   "outputs": [],
   "source": [
    "#with open(output_rmse, 'w') as f:\n",
    "#    f.write(cap.stdout)"
   ]
  },
  {
   "cell_type": "code",
   "execution_count": 13,
   "metadata": {
    "execution": {
     "iopub.execute_input": "2020-09-03T14:30:50.264728Z",
     "iopub.status.busy": "2020-09-03T14:30:50.263715Z",
     "iopub.status.idle": "2020-09-03T14:30:50.287513Z",
     "shell.execute_reply": "2020-09-03T14:30:50.286655Z"
    },
    "jupyter": {
     "source_hidden": true
    },
    "papermill": {
     "duration": 0.03871,
     "end_time": "2020-09-03T14:30:50.287779",
     "exception": false,
     "start_time": "2020-09-03T14:30:50.249069",
     "status": "completed"
    },
    "tags": []
   },
   "outputs": [
    {
     "data": {
      "text/plain": [
       "<sqlalchemy.engine.result.ResultProxy at 0x7f7759489bd0>"
      ]
     },
     "execution_count": 13,
     "metadata": {},
     "output_type": "execute_result"
    }
   ],
   "source": [
    "cnx.execute(\"\"\"\n",
    "    INSERT INTO ml.accuracies (ml_id, ml_date, accuracy) VALUES ('{0}', '{1}', {2}) \n",
    "    ON CONFLICT (ml_id, ml_date) \n",
    "    DO\n",
    "        UPDATE SET accuracy = {2};\n",
    "    \"\"\".format(ml_id, ml_date, np.sqrt(mean_squared_error(y_test, pred))))"
   ]
  }
 ],
 "metadata": {
  "kernelspec": {
   "display_name": "Python 3",
   "language": "python",
   "name": "python3"
  },
  "language_info": {
   "codemirror_mode": {
    "name": "ipython",
    "version": 3
   },
   "file_extension": ".py",
   "mimetype": "text/x-python",
   "name": "python",
   "nbconvert_exporter": "python",
   "pygments_lexer": "ipython3",
   "version": "3.7.8"
  },
  "papermill": {
   "duration": 11.70576,
   "end_time": "2020-09-03T14:30:50.710417",
   "environment_variables": {},
   "exception": null,
   "input_path": "/usr/local/airflow/include/notebooks/avocado_prediction.ipynb",
   "output_path": "/tmp/out-model-avocado-prediction-auto_100.ipynb",
   "parameters": {
    "filepath": "/tmp/avocado.csv",
    "max_features": "auto",
    "ml_id": "auto_100",
    "n_estimators": 100
   },
   "start_time": "2020-09-03T14:30:39.004657",
   "version": "2.1.2"
  }
 },
 "nbformat": 4,
 "nbformat_minor": 4
}