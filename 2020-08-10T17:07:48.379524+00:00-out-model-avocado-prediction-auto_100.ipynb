{
 "cells": [
  {
   "cell_type": "code",
   "execution_count": 1,
   "metadata": {
    "_cell_guid": "79c7e3d0-c299-4dcb-8224-4455121ee9b0",
    "_uuid": "d629ff2d2480ee46fbb7e2d37f6b5fab8052498a",
    "execution": {
     "iopub.execute_input": "2020-08-10T17:08:31.204859Z",
     "iopub.status.busy": "2020-08-10T17:08:31.203850Z",
     "iopub.status.idle": "2020-08-10T17:08:31.874772Z",
     "shell.execute_reply": "2020-08-10T17:08:31.875573Z"
    },
    "jupyter": {
     "source_hidden": true
    },
    "papermill": {
     "duration": 0.687491,
     "end_time": "2020-08-10T17:08:31.875866",
     "exception": false,
     "start_time": "2020-08-10T17:08:31.188375",
     "status": "completed"
    },
    "tags": []
   },
   "outputs": [],
   "source": [
    "import pandas as pd\n",
    "import numpy as np\n",
    "from sqlalchemy import create_engine\n",
    "from datetime import date\n",
    "from sklearn.metrics import mean_squared_error"
   ]
  },
  {
   "cell_type": "code",
   "execution_count": 2,
   "metadata": {
    "execution": {
     "iopub.execute_input": "2020-08-10T17:08:31.899515Z",
     "iopub.status.busy": "2020-08-10T17:08:31.898869Z",
     "iopub.status.idle": "2020-08-10T17:08:31.925374Z",
     "shell.execute_reply": "2020-08-10T17:08:31.925791Z"
    },
    "jupyter": {
     "source_hidden": true
    },
    "papermill": {
     "duration": 0.040777,
     "end_time": "2020-08-10T17:08:31.926033",
     "exception": false,
     "start_time": "2020-08-10T17:08:31.885256",
     "status": "completed"
    },
    "tags": []
   },
   "outputs": [],
   "source": [
    "# THIS IS PURELY FOR TEST PURPOSE NEVER DO THAT IN PRODUCTION\n",
    "POSTGRES_ADDRESS='postgres'\n",
    "POSTGRES_PORT='5432'\n",
    "POSTGRES_USERNAME='postgres'\n",
    "POSTGRES_PASSWORD='postgres'\n",
    "\n",
    "postgres_conn = 'postgresql://{0}:{1}@{2}:{3}/'.format(POSTGRES_USERNAME, POSTGRES_PASSWORD, POSTGRES_ADDRESS, POSTGRES_PORT)\n",
    "\n",
    "# Create the connection\n",
    "cnx = create_engine(postgres_conn)\n"
   ]
  },
  {
   "cell_type": "markdown",
   "metadata": {
    "_uuid": "1998755ef10683262b29765345cff1c1c7d10b15",
    "papermill": {
     "duration": 0.008522,
     "end_time": "2020-08-10T17:08:31.943072",
     "exception": false,
     "start_time": "2020-08-10T17:08:31.934550",
     "status": "completed"
    },
    "tags": []
   },
   "source": [
    "Read in the Avocado Prices csv file as a DataFrame called df"
   ]
  },
  {
   "cell_type": "code",
   "execution_count": 3,
   "metadata": {
    "execution": {
     "iopub.execute_input": "2020-08-10T17:08:31.966821Z",
     "iopub.status.busy": "2020-08-10T17:08:31.966177Z",
     "iopub.status.idle": "2020-08-10T17:08:31.968987Z",
     "shell.execute_reply": "2020-08-10T17:08:31.969477Z"
    },
    "jupyter": {
     "source_hidden": true
    },
    "papermill": {
     "duration": 0.017032,
     "end_time": "2020-08-10T17:08:31.969717",
     "exception": false,
     "start_time": "2020-08-10T17:08:31.952685",
     "status": "completed"
    },
    "tags": [
     "parameters"
    ]
   },
   "outputs": [],
   "source": [
    "# Parameterized\n",
    "\n",
    "filepath='avocado.csv'\n",
    "ml_id='auto_100'\n",
    "ml_date=date.today()\n",
    "n_estimators = 100\n",
    "max_features = 'auto'"
   ]
  },
  {
   "cell_type": "code",
   "execution_count": 4,
   "metadata": {
    "execution": {
     "iopub.execute_input": "2020-08-10T17:08:32.000087Z",
     "iopub.status.busy": "2020-08-10T17:08:31.999475Z",
     "iopub.status.idle": "2020-08-10T17:08:32.002372Z",
     "shell.execute_reply": "2020-08-10T17:08:32.002786Z"
    },
    "jupyter": {
     "source_hidden": true
    },
    "papermill": {
     "duration": 0.022104,
     "end_time": "2020-08-10T17:08:32.003039",
     "exception": false,
     "start_time": "2020-08-10T17:08:31.980935",
     "status": "completed"
    },
    "tags": [
     "injected-parameters"
    ]
   },
   "outputs": [],
   "source": [
    "# Parameters\n",
    "filepath = \"/tmp/avocado.csv\"\n",
    "n_estimators = 100\n",
    "max_features = \"auto\"\n",
    "ml_id = \"auto_100\"\n"
   ]
  },
  {
   "cell_type": "code",
   "execution_count": 5,
   "metadata": {
    "_uuid": "55d0e719eb8b91d763c1eacaf0f51ee0586486fc",
    "execution": {
     "iopub.execute_input": "2020-08-10T17:08:32.033472Z",
     "iopub.status.busy": "2020-08-10T17:08:32.032497Z",
     "iopub.status.idle": "2020-08-10T17:08:32.064575Z",
     "shell.execute_reply": "2020-08-10T17:08:32.065007Z"
    },
    "jupyter": {
     "source_hidden": true
    },
    "papermill": {
     "duration": 0.051642,
     "end_time": "2020-08-10T17:08:32.065320",
     "exception": false,
     "start_time": "2020-08-10T17:08:32.013678",
     "status": "completed"
    },
    "tags": []
   },
   "outputs": [],
   "source": [
    "df= pd.read_csv(filepath)"
   ]
  },
  {
   "cell_type": "markdown",
   "metadata": {
    "_uuid": "434e0457f550e2200424e5ec26162e1aa5904005",
    "papermill": {
     "duration": 0.009263,
     "end_time": "2020-08-10T17:08:32.083733",
     "exception": false,
     "start_time": "2020-08-10T17:08:32.074470",
     "status": "completed"
    },
    "tags": []
   },
   "source": [
    "The Feature \"Unnamed:0\" is just a representation of the indexes, so it's useless to keep it, lets remove it !"
   ]
  },
  {
   "cell_type": "code",
   "execution_count": 6,
   "metadata": {
    "_uuid": "9875398e37728dc3141fed4228be337a4735beb6",
    "execution": {
     "iopub.execute_input": "2020-08-10T17:08:32.109593Z",
     "iopub.status.busy": "2020-08-10T17:08:32.108888Z",
     "iopub.status.idle": "2020-08-10T17:08:32.112060Z",
     "shell.execute_reply": "2020-08-10T17:08:32.111379Z"
    },
    "jupyter": {
     "source_hidden": true
    },
    "papermill": {
     "duration": 0.019184,
     "end_time": "2020-08-10T17:08:32.112312",
     "exception": false,
     "start_time": "2020-08-10T17:08:32.093128",
     "status": "completed"
    },
    "tags": []
   },
   "outputs": [],
   "source": [
    "df.drop('Unnamed: 0',axis=1,inplace=True)"
   ]
  },
  {
   "cell_type": "markdown",
   "metadata": {
    "_uuid": "12e94ad381e4cb8d2c8a9bbe08ce07ab5d49c040",
    "papermill": {
     "duration": 0.009535,
     "end_time": "2020-08-10T17:08:32.131603",
     "exception": false,
     "start_time": "2020-08-10T17:08:32.122068",
     "status": "completed"
    },
    "tags": []
   },
   "source": [
    "well as a first observation we can see that we are lucky, we dont have any missing values (18249 complete data) and 13 columns.\n",
    "Now let's do some Feature Engineering on the Date Feature so we can be able to use the day and the month columns in building our machine learning model later. ( I didn't mention the year because its already there in data frame)"
   ]
  },
  {
   "cell_type": "code",
   "execution_count": 7,
   "metadata": {
    "_uuid": "f031639ce794656e877484d1c9c356df7028177f",
    "execution": {
     "iopub.execute_input": "2020-08-10T17:08:32.190368Z",
     "iopub.status.busy": "2020-08-10T17:08:32.189118Z",
     "iopub.status.idle": "2020-08-10T17:08:32.315802Z",
     "shell.execute_reply": "2020-08-10T17:08:32.315031Z"
    },
    "jupyter": {
     "source_hidden": true
    },
    "papermill": {
     "duration": 0.174362,
     "end_time": "2020-08-10T17:08:32.316013",
     "exception": false,
     "start_time": "2020-08-10T17:08:32.141651",
     "status": "completed"
    },
    "tags": []
   },
   "outputs": [],
   "source": [
    "df['Date']=pd.to_datetime(df['Date'])\n",
    "df['Month']=df['Date'].apply(lambda x:x.month)\n",
    "df['Day']=df['Date'].apply(lambda x:x.day)"
   ]
  },
  {
   "cell_type": "markdown",
   "metadata": {
    "_uuid": "ebdcac9924ce3e366fd3a75170682f7113385b7a",
    "papermill": {
     "duration": 0.009056,
     "end_time": "2020-08-10T17:08:32.334857",
     "exception": false,
     "start_time": "2020-08-10T17:08:32.325801",
     "status": "completed"
    },
    "tags": []
   },
   "source": [
    "as we can see we have 54 regions and 2 unique types, so it's going to be easy to to transform the type feature to dummies, but for the region its going to be a bit complexe so I decided to drop the entire column.\n",
    "I will drop the Date Feature as well because I already have 3 other columns for the Year, Month and Day."
   ]
  },
  {
   "cell_type": "code",
   "execution_count": 8,
   "metadata": {
    "_uuid": "a798682da34327b731ef262985fd50ba68e06460",
    "execution": {
     "iopub.execute_input": "2020-08-10T17:08:32.358963Z",
     "iopub.status.busy": "2020-08-10T17:08:32.358303Z",
     "iopub.status.idle": "2020-08-10T17:08:32.372880Z",
     "shell.execute_reply": "2020-08-10T17:08:32.372248Z"
    },
    "jupyter": {
     "source_hidden": true
    },
    "papermill": {
     "duration": 0.029201,
     "end_time": "2020-08-10T17:08:32.373129",
     "exception": false,
     "start_time": "2020-08-10T17:08:32.343928",
     "status": "completed"
    },
    "tags": []
   },
   "outputs": [],
   "source": [
    "df_final=pd.get_dummies(df.drop(['region','Date'],axis=1),drop_first=True)"
   ]
  },
  {
   "cell_type": "markdown",
   "metadata": {
    "_uuid": "8b74a6b88cb3e9b3e1d1e987e061048f203c7364",
    "papermill": {
     "duration": 0.009581,
     "end_time": "2020-08-10T17:08:32.391963",
     "exception": false,
     "start_time": "2020-08-10T17:08:32.382382",
     "status": "completed"
    },
    "tags": []
   },
   "source": [
    "Now our data are ready! lets apply our model which is going to be the Linear Regression because our Target variable 'AveragePrice'is continuous.\n",
    "Let's now begin to train out regression model! We will need to first split up our data into an X array that contains the features to train on, and a y array with the target variable"
   ]
  },
  {
   "cell_type": "code",
   "execution_count": 9,
   "metadata": {
    "_uuid": "830591f99de9715241e688bf9ce265e979401ff5",
    "execution": {
     "iopub.execute_input": "2020-08-10T17:08:32.416368Z",
     "iopub.status.busy": "2020-08-10T17:08:32.415649Z",
     "iopub.status.idle": "2020-08-10T17:08:32.427608Z",
     "shell.execute_reply": "2020-08-10T17:08:32.428120Z"
    },
    "jupyter": {
     "source_hidden": true
    },
    "papermill": {
     "duration": 0.027194,
     "end_time": "2020-08-10T17:08:32.428402",
     "exception": false,
     "start_time": "2020-08-10T17:08:32.401208",
     "status": "completed"
    },
    "tags": []
   },
   "outputs": [],
   "source": [
    "X=df_final.iloc[:,1:14]\n",
    "y=df_final['AveragePrice']\n",
    "from sklearn.model_selection import train_test_split\n",
    "X_train,X_test,y_train,y_test=train_test_split(X,y,test_size=0.2,random_state=42)"
   ]
  },
  {
   "cell_type": "markdown",
   "metadata": {
    "_uuid": "ea730c77a31cde9de98263079a189accb8b5772b",
    "papermill": {
     "duration": 0.009443,
     "end_time": "2020-08-10T17:08:32.447233",
     "exception": false,
     "start_time": "2020-08-10T17:08:32.437790",
     "status": "completed"
    },
    "tags": []
   },
   "source": [
    "Creating and Training the Model"
   ]
  },
  {
   "cell_type": "code",
   "execution_count": 10,
   "metadata": {
    "_uuid": "eb37015e78974e5fd2ae7e13d065c8ab0a9c6948",
    "execution": {
     "iopub.execute_input": "2020-08-10T17:08:32.471788Z",
     "iopub.status.busy": "2020-08-10T17:08:32.471205Z",
     "iopub.status.idle": "2020-08-10T17:08:41.339156Z",
     "shell.execute_reply": "2020-08-10T17:08:41.338392Z"
    },
    "jupyter": {
     "source_hidden": true
    },
    "papermill": {
     "duration": 8.88248,
     "end_time": "2020-08-10T17:08:41.339359",
     "exception": false,
     "start_time": "2020-08-10T17:08:32.456879",
     "status": "completed"
    },
    "tags": []
   },
   "outputs": [],
   "source": [
    "from sklearn.ensemble import RandomForestRegressor\n",
    "rdr = RandomForestRegressor(\n",
    "    n_estimators=n_estimators,\n",
    "    max_features=max_features\n",
    ")\n",
    "rdr.fit(X_train,y_train)\n",
    "pred=rdr.predict(X_test)"
   ]
  },
  {
   "cell_type": "code",
   "execution_count": 11,
   "metadata": {
    "_uuid": "7ed5b8d4e8abb44a4b548c13ac9fb2d65227d1c5",
    "execution": {
     "iopub.execute_input": "2020-08-10T17:08:41.366498Z",
     "iopub.status.busy": "2020-08-10T17:08:41.365811Z",
     "iopub.status.idle": "2020-08-10T17:08:41.369414Z",
     "shell.execute_reply": "2020-08-10T17:08:41.368813Z"
    },
    "jupyter": {
     "source_hidden": true
    },
    "papermill": {
     "duration": 0.016932,
     "end_time": "2020-08-10T17:08:41.369613",
     "exception": false,
     "start_time": "2020-08-10T17:08:41.352681",
     "status": "completed"
    },
    "tags": []
   },
   "outputs": [],
   "source": [
    "#%%capture cap --no-stderr\n",
    "#print(np.sqrt(mean_squared_error(y_test, pred)))"
   ]
  },
  {
   "cell_type": "code",
   "execution_count": 12,
   "metadata": {
    "execution": {
     "iopub.execute_input": "2020-08-10T17:08:41.392196Z",
     "iopub.status.busy": "2020-08-10T17:08:41.391582Z",
     "iopub.status.idle": "2020-08-10T17:08:41.394412Z",
     "shell.execute_reply": "2020-08-10T17:08:41.393734Z"
    },
    "jupyter": {
     "source_hidden": true
    },
    "papermill": {
     "duration": 0.01548,
     "end_time": "2020-08-10T17:08:41.394616",
     "exception": false,
     "start_time": "2020-08-10T17:08:41.379136",
     "status": "completed"
    },
    "tags": []
   },
   "outputs": [],
   "source": [
    "#with open(output_rmse, 'w') as f:\n",
    "#    f.write(cap.stdout)"
   ]
  },
  {
   "cell_type": "code",
   "execution_count": 13,
   "metadata": {
    "execution": {
     "iopub.execute_input": "2020-08-10T17:08:41.420320Z",
     "iopub.status.busy": "2020-08-10T17:08:41.419648Z",
     "iopub.status.idle": "2020-08-10T17:08:41.438759Z",
     "shell.execute_reply": "2020-08-10T17:08:41.439222Z"
    },
    "jupyter": {
     "source_hidden": true
    },
    "papermill": {
     "duration": 0.034808,
     "end_time": "2020-08-10T17:08:41.439463",
     "exception": false,
     "start_time": "2020-08-10T17:08:41.404655",
     "status": "completed"
    },
    "tags": []
   },
   "outputs": [
    {
     "data": {
      "text/plain": [
       "<sqlalchemy.engine.result.ResultProxy at 0x7f7987f13e10>"
      ]
     },
     "execution_count": 13,
     "metadata": {},
     "output_type": "execute_result"
    }
   ],
   "source": [
    "cnx.execute(\"\"\"\n",
    "    INSERT INTO ml.accuracies (ml_id, ml_date, accuracy) VALUES ('{0}', '{1}', {2}) \n",
    "    ON CONFLICT (ml_id, ml_date) \n",
    "    DO\n",
    "        UPDATE SET accuracy = {2};\n",
    "    \"\"\".format(ml_id, ml_date, np.sqrt(mean_squared_error(y_test, pred))))"
   ]
  }
 ],
 "metadata": {
  "kernelspec": {
   "display_name": "Python 3",
   "language": "python",
   "name": "python3"
  },
  "language_info": {
   "codemirror_mode": {
    "name": "ipython",
    "version": 3
   },
   "file_extension": ".py",
   "mimetype": "text/x-python",
   "name": "python",
   "nbconvert_exporter": "python",
   "pygments_lexer": "ipython3",
   "version": "3.7.7"
  },
  "papermill": {
   "duration": 11.842769,
   "end_time": "2020-08-10T17:08:41.859892",
   "environment_variables": {},
   "exception": null,
   "input_path": "/usr/local/airflow/include/notebooks/avocado_prediction.ipynb",
   "output_path": "/tmp/out-model-avocado-prediction-auto_100.ipynb",
   "parameters": {
    "filepath": "/tmp/avocado.csv",
    "max_features": "auto",
    "ml_id": "auto_100",
    "n_estimators": 100
   },
   "start_time": "2020-08-10T17:08:30.017123",
   "version": "2.1.2"
  }
 },
 "nbformat": 4,
 "nbformat_minor": 4
}