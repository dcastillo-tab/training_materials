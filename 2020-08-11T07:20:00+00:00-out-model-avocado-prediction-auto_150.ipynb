{
 "cells": [
  {
   "cell_type": "code",
   "execution_count": 1,
   "metadata": {
    "_cell_guid": "79c7e3d0-c299-4dcb-8224-4455121ee9b0",
    "_uuid": "d629ff2d2480ee46fbb7e2d37f6b5fab8052498a",
    "execution": {
     "iopub.execute_input": "2020-08-11T08:03:38.181219Z",
     "iopub.status.busy": "2020-08-11T08:03:38.179175Z",
     "iopub.status.idle": "2020-08-11T08:03:40.021034Z",
     "shell.execute_reply": "2020-08-11T08:03:40.018854Z"
    },
    "jupyter": {
     "source_hidden": true
    },
    "papermill": {
     "duration": 1.884491,
     "end_time": "2020-08-11T08:03:40.021788",
     "exception": false,
     "start_time": "2020-08-11T08:03:38.137297",
     "status": "completed"
    },
    "tags": []
   },
   "outputs": [],
   "source": [
    "import pandas as pd\n",
    "import numpy as np\n",
    "from sqlalchemy import create_engine\n",
    "from datetime import date\n",
    "from sklearn.metrics import mean_squared_error"
   ]
  },
  {
   "cell_type": "code",
   "execution_count": 2,
   "metadata": {
    "execution": {
     "iopub.execute_input": "2020-08-11T08:03:40.098725Z",
     "iopub.status.busy": "2020-08-11T08:03:40.096703Z",
     "iopub.status.idle": "2020-08-11T08:03:40.175594Z",
     "shell.execute_reply": "2020-08-11T08:03:40.176900Z"
    },
    "jupyter": {
     "source_hidden": true
    },
    "papermill": {
     "duration": 0.12357,
     "end_time": "2020-08-11T08:03:40.177683",
     "exception": false,
     "start_time": "2020-08-11T08:03:40.054113",
     "status": "completed"
    },
    "tags": []
   },
   "outputs": [],
   "source": [
    "# THIS IS PURELY FOR TEST PURPOSE NEVER DO THAT IN PRODUCTION\n",
    "POSTGRES_ADDRESS='postgres'\n",
    "POSTGRES_PORT='5432'\n",
    "POSTGRES_USERNAME='postgres'\n",
    "POSTGRES_PASSWORD='postgres'\n",
    "\n",
    "postgres_conn = 'postgresql://{0}:{1}@{2}:{3}/'.format(POSTGRES_USERNAME, POSTGRES_PASSWORD, POSTGRES_ADDRESS, POSTGRES_PORT)\n",
    "\n",
    "# Create the connection\n",
    "cnx = create_engine(postgres_conn)\n"
   ]
  },
  {
   "cell_type": "markdown",
   "metadata": {
    "_uuid": "1998755ef10683262b29765345cff1c1c7d10b15",
    "papermill": {
     "duration": 0.028035,
     "end_time": "2020-08-11T08:03:40.233026",
     "exception": false,
     "start_time": "2020-08-11T08:03:40.204991",
     "status": "completed"
    },
    "tags": []
   },
   "source": [
    "Read in the Avocado Prices csv file as a DataFrame called df"
   ]
  },
  {
   "cell_type": "code",
   "execution_count": 3,
   "metadata": {
    "execution": {
     "iopub.execute_input": "2020-08-11T08:03:40.304235Z",
     "iopub.status.busy": "2020-08-11T08:03:40.302314Z",
     "iopub.status.idle": "2020-08-11T08:03:40.313572Z",
     "shell.execute_reply": "2020-08-11T08:03:40.311471Z"
    },
    "jupyter": {
     "source_hidden": true
    },
    "papermill": {
     "duration": 0.054406,
     "end_time": "2020-08-11T08:03:40.314140",
     "exception": false,
     "start_time": "2020-08-11T08:03:40.259734",
     "status": "completed"
    },
    "tags": [
     "parameters"
    ]
   },
   "outputs": [],
   "source": [
    "# Parameterized\n",
    "\n",
    "filepath='avocado.csv'\n",
    "ml_id='auto_100'\n",
    "ml_date=date.today()\n",
    "n_estimators = 100\n",
    "max_features = 'auto'"
   ]
  },
  {
   "cell_type": "code",
   "execution_count": 4,
   "metadata": {
    "execution": {
     "iopub.execute_input": "2020-08-11T08:03:40.385868Z",
     "iopub.status.busy": "2020-08-11T08:03:40.384003Z",
     "iopub.status.idle": "2020-08-11T08:03:40.394788Z",
     "shell.execute_reply": "2020-08-11T08:03:40.393033Z"
    },
    "jupyter": {
     "source_hidden": true
    },
    "papermill": {
     "duration": 0.051614,
     "end_time": "2020-08-11T08:03:40.395345",
     "exception": false,
     "start_time": "2020-08-11T08:03:40.343731",
     "status": "completed"
    },
    "tags": [
     "injected-parameters"
    ]
   },
   "outputs": [],
   "source": [
    "# Parameters\n",
    "filepath = \"/tmp/avocado.csv\"\n",
    "n_estimators = 150\n",
    "max_features = \"auto\"\n",
    "ml_id = \"auto_150\"\n"
   ]
  },
  {
   "cell_type": "code",
   "execution_count": 5,
   "metadata": {
    "_uuid": "55d0e719eb8b91d763c1eacaf0f51ee0586486fc",
    "execution": {
     "iopub.execute_input": "2020-08-11T08:03:40.464004Z",
     "iopub.status.busy": "2020-08-11T08:03:40.461992Z",
     "iopub.status.idle": "2020-08-11T08:03:40.548806Z",
     "shell.execute_reply": "2020-08-11T08:03:40.546822Z"
    },
    "jupyter": {
     "source_hidden": true
    },
    "papermill": {
     "duration": 0.126201,
     "end_time": "2020-08-11T08:03:40.549474",
     "exception": false,
     "start_time": "2020-08-11T08:03:40.423273",
     "status": "completed"
    },
    "tags": []
   },
   "outputs": [],
   "source": [
    "df= pd.read_csv(filepath)"
   ]
  },
  {
   "cell_type": "markdown",
   "metadata": {
    "_uuid": "434e0457f550e2200424e5ec26162e1aa5904005",
    "papermill": {
     "duration": 0.031476,
     "end_time": "2020-08-11T08:03:40.610877",
     "exception": false,
     "start_time": "2020-08-11T08:03:40.579401",
     "status": "completed"
    },
    "tags": []
   },
   "source": [
    "The Feature \"Unnamed:0\" is just a representation of the indexes, so it's useless to keep it, lets remove it !"
   ]
  },
  {
   "cell_type": "code",
   "execution_count": 6,
   "metadata": {
    "_uuid": "9875398e37728dc3141fed4228be337a4735beb6",
    "execution": {
     "iopub.execute_input": "2020-08-11T08:03:40.689484Z",
     "iopub.status.busy": "2020-08-11T08:03:40.687560Z",
     "iopub.status.idle": "2020-08-11T08:03:40.693523Z",
     "shell.execute_reply": "2020-08-11T08:03:40.695037Z"
    },
    "jupyter": {
     "source_hidden": true
    },
    "papermill": {
     "duration": 0.055205,
     "end_time": "2020-08-11T08:03:40.695776",
     "exception": false,
     "start_time": "2020-08-11T08:03:40.640571",
     "status": "completed"
    },
    "tags": []
   },
   "outputs": [],
   "source": [
    "df.drop('Unnamed: 0',axis=1,inplace=True)"
   ]
  },
  {
   "cell_type": "markdown",
   "metadata": {
    "_uuid": "12e94ad381e4cb8d2c8a9bbe08ce07ab5d49c040",
    "papermill": {
     "duration": 0.03072,
     "end_time": "2020-08-11T08:03:40.755709",
     "exception": false,
     "start_time": "2020-08-11T08:03:40.724989",
     "status": "completed"
    },
    "tags": []
   },
   "source": [
    "well as a first observation we can see that we are lucky, we dont have any missing values (18249 complete data) and 13 columns.\n",
    "Now let's do some Feature Engineering on the Date Feature so we can be able to use the day and the month columns in building our machine learning model later. ( I didn't mention the year because its already there in data frame)"
   ]
  },
  {
   "cell_type": "code",
   "execution_count": 7,
   "metadata": {
    "_uuid": "f031639ce794656e877484d1c9c356df7028177f",
    "execution": {
     "iopub.execute_input": "2020-08-11T08:03:40.900330Z",
     "iopub.status.busy": "2020-08-11T08:03:40.898316Z",
     "iopub.status.idle": "2020-08-11T08:03:41.230423Z",
     "shell.execute_reply": "2020-08-11T08:03:41.232193Z"
    },
    "jupyter": {
     "source_hidden": true
    },
    "papermill": {
     "duration": 0.444741,
     "end_time": "2020-08-11T08:03:41.232999",
     "exception": false,
     "start_time": "2020-08-11T08:03:40.788258",
     "status": "completed"
    },
    "tags": []
   },
   "outputs": [],
   "source": [
    "df['Date']=pd.to_datetime(df['Date'])\n",
    "df['Month']=df['Date'].apply(lambda x:x.month)\n",
    "df['Day']=df['Date'].apply(lambda x:x.day)"
   ]
  },
  {
   "cell_type": "markdown",
   "metadata": {
    "_uuid": "ebdcac9924ce3e366fd3a75170682f7113385b7a",
    "papermill": {
     "duration": 0.029086,
     "end_time": "2020-08-11T08:03:41.291024",
     "exception": false,
     "start_time": "2020-08-11T08:03:41.261938",
     "status": "completed"
    },
    "tags": []
   },
   "source": [
    "as we can see we have 54 regions and 2 unique types, so it's going to be easy to to transform the type feature to dummies, but for the region its going to be a bit complexe so I decided to drop the entire column.\n",
    "I will drop the Date Feature as well because I already have 3 other columns for the Year, Month and Day."
   ]
  },
  {
   "cell_type": "code",
   "execution_count": 8,
   "metadata": {
    "_uuid": "a798682da34327b731ef262985fd50ba68e06460",
    "execution": {
     "iopub.execute_input": "2020-08-11T08:03:41.375215Z",
     "iopub.status.busy": "2020-08-11T08:03:41.370066Z",
     "iopub.status.idle": "2020-08-11T08:03:41.406681Z",
     "shell.execute_reply": "2020-08-11T08:03:41.407916Z"
    },
    "jupyter": {
     "source_hidden": true
    },
    "papermill": {
     "duration": 0.089056,
     "end_time": "2020-08-11T08:03:41.408680",
     "exception": false,
     "start_time": "2020-08-11T08:03:41.319624",
     "status": "completed"
    },
    "tags": []
   },
   "outputs": [],
   "source": [
    "df_final=pd.get_dummies(df.drop(['region','Date'],axis=1),drop_first=True)"
   ]
  },
  {
   "cell_type": "markdown",
   "metadata": {
    "_uuid": "8b74a6b88cb3e9b3e1d1e987e061048f203c7364",
    "papermill": {
     "duration": 0.028932,
     "end_time": "2020-08-11T08:03:41.466613",
     "exception": false,
     "start_time": "2020-08-11T08:03:41.437681",
     "status": "completed"
    },
    "tags": []
   },
   "source": [
    "Now our data are ready! lets apply our model which is going to be the Linear Regression because our Target variable 'AveragePrice'is continuous.\n",
    "Let's now begin to train out regression model! We will need to first split up our data into an X array that contains the features to train on, and a y array with the target variable"
   ]
  },
  {
   "cell_type": "code",
   "execution_count": 9,
   "metadata": {
    "_uuid": "830591f99de9715241e688bf9ce265e979401ff5",
    "execution": {
     "iopub.execute_input": "2020-08-11T08:03:41.541116Z",
     "iopub.status.busy": "2020-08-11T08:03:41.539040Z",
     "iopub.status.idle": "2020-08-11T08:03:41.571538Z",
     "shell.execute_reply": "2020-08-11T08:03:41.569623Z"
    },
    "jupyter": {
     "source_hidden": true
    },
    "papermill": {
     "duration": 0.07539,
     "end_time": "2020-08-11T08:03:41.572091",
     "exception": false,
     "start_time": "2020-08-11T08:03:41.496701",
     "status": "completed"
    },
    "tags": []
   },
   "outputs": [],
   "source": [
    "X=df_final.iloc[:,1:14]\n",
    "y=df_final['AveragePrice']\n",
    "from sklearn.model_selection import train_test_split\n",
    "X_train,X_test,y_train,y_test=train_test_split(X,y,test_size=0.2,random_state=42)"
   ]
  },
  {
   "cell_type": "markdown",
   "metadata": {
    "_uuid": "ea730c77a31cde9de98263079a189accb8b5772b",
    "papermill": {
     "duration": 0.031421,
     "end_time": "2020-08-11T08:03:41.634131",
     "exception": false,
     "start_time": "2020-08-11T08:03:41.602710",
     "status": "completed"
    },
    "tags": []
   },
   "source": [
    "Creating and Training the Model"
   ]
  },
  {
   "cell_type": "code",
   "execution_count": 10,
   "metadata": {
    "_uuid": "eb37015e78974e5fd2ae7e13d065c8ab0a9c6948",
    "execution": {
     "iopub.execute_input": "2020-08-11T08:03:41.707051Z",
     "iopub.status.busy": "2020-08-11T08:03:41.705008Z",
     "iopub.status.idle": "2020-08-11T08:04:21.961301Z",
     "shell.execute_reply": "2020-08-11T08:04:21.958208Z"
    },
    "jupyter": {
     "source_hidden": true
    },
    "papermill": {
     "duration": 40.298093,
     "end_time": "2020-08-11T08:04:21.962010",
     "exception": false,
     "start_time": "2020-08-11T08:03:41.663917",
     "status": "completed"
    },
    "tags": []
   },
   "outputs": [],
   "source": [
    "from sklearn.ensemble import RandomForestRegressor\n",
    "rdr = RandomForestRegressor(\n",
    "    n_estimators=n_estimators,\n",
    "    max_features=max_features\n",
    ")\n",
    "rdr.fit(X_train,y_train)\n",
    "pred=rdr.predict(X_test)"
   ]
  },
  {
   "cell_type": "code",
   "execution_count": 11,
   "metadata": {
    "_uuid": "7ed5b8d4e8abb44a4b548c13ac9fb2d65227d1c5",
    "execution": {
     "iopub.execute_input": "2020-08-11T08:04:22.048876Z",
     "iopub.status.busy": "2020-08-11T08:04:22.046152Z",
     "iopub.status.idle": "2020-08-11T08:04:22.055621Z",
     "shell.execute_reply": "2020-08-11T08:04:22.053520Z"
    },
    "jupyter": {
     "source_hidden": true
    },
    "papermill": {
     "duration": 0.058759,
     "end_time": "2020-08-11T08:04:22.056303",
     "exception": false,
     "start_time": "2020-08-11T08:04:21.997544",
     "status": "completed"
    },
    "tags": []
   },
   "outputs": [],
   "source": [
    "#%%capture cap --no-stderr\n",
    "#print(np.sqrt(mean_squared_error(y_test, pred)))"
   ]
  },
  {
   "cell_type": "code",
   "execution_count": 12,
   "metadata": {
    "execution": {
     "iopub.execute_input": "2020-08-11T08:04:22.133783Z",
     "iopub.status.busy": "2020-08-11T08:04:22.131768Z",
     "iopub.status.idle": "2020-08-11T08:04:22.138847Z",
     "shell.execute_reply": "2020-08-11T08:04:22.140237Z"
    },
    "jupyter": {
     "source_hidden": true
    },
    "papermill": {
     "duration": 0.052167,
     "end_time": "2020-08-11T08:04:22.141008",
     "exception": false,
     "start_time": "2020-08-11T08:04:22.088841",
     "status": "completed"
    },
    "tags": []
   },
   "outputs": [],
   "source": [
    "#with open(output_rmse, 'w') as f:\n",
    "#    f.write(cap.stdout)"
   ]
  },
  {
   "cell_type": "code",
   "execution_count": 13,
   "metadata": {
    "execution": {
     "iopub.execute_input": "2020-08-11T08:04:22.231717Z",
     "iopub.status.busy": "2020-08-11T08:04:22.227762Z",
     "iopub.status.idle": "2020-08-11T08:04:22.285685Z",
     "shell.execute_reply": "2020-08-11T08:04:22.287162Z"
    },
    "jupyter": {
     "source_hidden": true
    },
    "papermill": {
     "duration": 0.116238,
     "end_time": "2020-08-11T08:04:22.287792",
     "exception": false,
     "start_time": "2020-08-11T08:04:22.171554",
     "status": "completed"
    },
    "tags": []
   },
   "outputs": [
    {
     "data": {
      "text/plain": [
       "<sqlalchemy.engine.result.ResultProxy at 0x7f6b255afcd0>"
      ]
     },
     "execution_count": 13,
     "metadata": {},
     "output_type": "execute_result"
    }
   ],
   "source": [
    "cnx.execute(\"\"\"\n",
    "    INSERT INTO ml.accuracies (ml_id, ml_date, accuracy) VALUES ('{0}', '{1}', {2}) \n",
    "    ON CONFLICT (ml_id, ml_date) \n",
    "    DO\n",
    "        UPDATE SET accuracy = {2};\n",
    "    \"\"\".format(ml_id, ml_date, np.sqrt(mean_squared_error(y_test, pred))))"
   ]
  }
 ],
 "metadata": {
  "kernelspec": {
   "display_name": "Python 3",
   "language": "python",
   "name": "python3"
  },
  "language_info": {
   "codemirror_mode": {
    "name": "ipython",
    "version": 3
   },
   "file_extension": ".py",
   "mimetype": "text/x-python",
   "name": "python",
   "nbconvert_exporter": "python",
   "pygments_lexer": "ipython3",
   "version": "3.7.7"
  },
  "papermill": {
   "duration": 47.468642,
   "end_time": "2020-08-11T08:04:22.955371",
   "environment_variables": {},
   "exception": null,
   "input_path": "/usr/local/airflow/include/notebooks/avocado_prediction.ipynb",
   "output_path": "/tmp/out-model-avocado-prediction-auto_150.ipynb",
   "parameters": {
    "filepath": "/tmp/avocado.csv",
    "max_features": "auto",
    "ml_id": "auto_150",
    "n_estimators": 150
   },
   "start_time": "2020-08-11T08:03:35.486729",
   "version": "2.1.2"
  }
 },
 "nbformat": 4,
 "nbformat_minor": 4
}