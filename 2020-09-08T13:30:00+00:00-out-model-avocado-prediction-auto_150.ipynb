{
 "cells": [
  {
   "cell_type": "code",
   "execution_count": 1,
   "metadata": {
    "_cell_guid": "79c7e3d0-c299-4dcb-8224-4455121ee9b0",
    "_uuid": "d629ff2d2480ee46fbb7e2d37f6b5fab8052498a",
    "execution": {
     "iopub.execute_input": "2020-09-08T13:41:55.512003Z",
     "iopub.status.busy": "2020-09-08T13:41:55.510992Z",
     "iopub.status.idle": "2020-09-08T13:41:56.574464Z",
     "shell.execute_reply": "2020-09-08T13:41:56.575091Z"
    },
    "jupyter": {
     "source_hidden": true
    },
    "papermill": {
     "duration": 1.090857,
     "end_time": "2020-09-08T13:41:56.575514",
     "exception": false,
     "start_time": "2020-09-08T13:41:55.484657",
     "status": "completed"
    },
    "tags": []
   },
   "outputs": [],
   "source": [
    "import pandas as pd\n",
    "import numpy as np\n",
    "from sqlalchemy import create_engine\n",
    "from datetime import date\n",
    "from sklearn.metrics import mean_squared_error"
   ]
  },
  {
   "cell_type": "code",
   "execution_count": 2,
   "metadata": {
    "execution": {
     "iopub.execute_input": "2020-09-08T13:41:56.601577Z",
     "iopub.status.busy": "2020-09-08T13:41:56.600955Z",
     "iopub.status.idle": "2020-09-08T13:41:56.671847Z",
     "shell.execute_reply": "2020-09-08T13:41:56.670705Z"
    },
    "jupyter": {
     "source_hidden": true
    },
    "papermill": {
     "duration": 0.085569,
     "end_time": "2020-09-08T13:41:56.672752",
     "exception": false,
     "start_time": "2020-09-08T13:41:56.587183",
     "status": "completed"
    },
    "tags": []
   },
   "outputs": [],
   "source": [
    "# THIS IS PURELY FOR TEST PURPOSE NEVER DO THAT IN PRODUCTION\n",
    "POSTGRES_ADDRESS='postgres'\n",
    "POSTGRES_PORT='5432'\n",
    "POSTGRES_USERNAME='postgres'\n",
    "POSTGRES_PASSWORD='postgres'\n",
    "\n",
    "postgres_conn = 'postgresql://{0}:{1}@{2}:{3}/'.format(POSTGRES_USERNAME, POSTGRES_PASSWORD, POSTGRES_ADDRESS, POSTGRES_PORT)\n",
    "\n",
    "# Create the connection\n",
    "cnx = create_engine(postgres_conn)\n"
   ]
  },
  {
   "cell_type": "markdown",
   "metadata": {
    "_uuid": "1998755ef10683262b29765345cff1c1c7d10b15",
    "papermill": {
     "duration": 0.010665,
     "end_time": "2020-09-08T13:41:56.694493",
     "exception": false,
     "start_time": "2020-09-08T13:41:56.683828",
     "status": "completed"
    },
    "tags": []
   },
   "source": [
    "Read in the Avocado Prices csv file as a DataFrame called df"
   ]
  },
  {
   "cell_type": "code",
   "execution_count": 3,
   "metadata": {
    "execution": {
     "iopub.execute_input": "2020-09-08T13:41:56.726036Z",
     "iopub.status.busy": "2020-09-08T13:41:56.725172Z",
     "iopub.status.idle": "2020-09-08T13:41:56.728293Z",
     "shell.execute_reply": "2020-09-08T13:41:56.729046Z"
    },
    "jupyter": {
     "source_hidden": true
    },
    "papermill": {
     "duration": 0.022899,
     "end_time": "2020-09-08T13:41:56.729500",
     "exception": false,
     "start_time": "2020-09-08T13:41:56.706601",
     "status": "completed"
    },
    "tags": [
     "parameters"
    ]
   },
   "outputs": [],
   "source": [
    "# Parameterized\n",
    "\n",
    "filepath='avocado.csv'\n",
    "ml_id='auto_100'\n",
    "ml_date=date.today()\n",
    "n_estimators = 100\n",
    "max_features = 'auto'"
   ]
  },
  {
   "cell_type": "code",
   "execution_count": 4,
   "metadata": {
    "execution": {
     "iopub.execute_input": "2020-09-08T13:41:56.760563Z",
     "iopub.status.busy": "2020-09-08T13:41:56.759556Z",
     "iopub.status.idle": "2020-09-08T13:41:56.763588Z",
     "shell.execute_reply": "2020-09-08T13:41:56.764208Z"
    },
    "jupyter": {
     "source_hidden": true
    },
    "papermill": {
     "duration": 0.022528,
     "end_time": "2020-09-08T13:41:56.764518",
     "exception": false,
     "start_time": "2020-09-08T13:41:56.741990",
     "status": "completed"
    },
    "tags": [
     "injected-parameters"
    ]
   },
   "outputs": [],
   "source": [
    "# Parameters\n",
    "filepath = \"/tmp/avocado.csv\"\n",
    "n_estimators = 150\n",
    "max_features = \"auto\"\n",
    "ml_id = \"auto_150\"\n"
   ]
  },
  {
   "cell_type": "code",
   "execution_count": 5,
   "metadata": {
    "_uuid": "55d0e719eb8b91d763c1eacaf0f51ee0586486fc",
    "execution": {
     "iopub.execute_input": "2020-09-08T13:41:56.798502Z",
     "iopub.status.busy": "2020-09-08T13:41:56.797420Z",
     "iopub.status.idle": "2020-09-08T13:41:56.847794Z",
     "shell.execute_reply": "2020-09-08T13:41:56.844360Z"
    },
    "jupyter": {
     "source_hidden": true
    },
    "papermill": {
     "duration": 0.069037,
     "end_time": "2020-09-08T13:41:56.848663",
     "exception": false,
     "start_time": "2020-09-08T13:41:56.779626",
     "status": "completed"
    },
    "tags": []
   },
   "outputs": [],
   "source": [
    "df= pd.read_csv(filepath)"
   ]
  },
  {
   "cell_type": "markdown",
   "metadata": {
    "_uuid": "434e0457f550e2200424e5ec26162e1aa5904005",
    "papermill": {
     "duration": 0.022055,
     "end_time": "2020-09-08T13:41:56.901334",
     "exception": false,
     "start_time": "2020-09-08T13:41:56.879279",
     "status": "completed"
    },
    "tags": []
   },
   "source": [
    "The Feature \"Unnamed:0\" is just a representation of the indexes, so it's useless to keep it, lets remove it !"
   ]
  },
  {
   "cell_type": "code",
   "execution_count": 6,
   "metadata": {
    "_uuid": "9875398e37728dc3141fed4228be337a4735beb6",
    "execution": {
     "iopub.execute_input": "2020-09-08T13:41:56.942181Z",
     "iopub.status.busy": "2020-09-08T13:41:56.941200Z",
     "iopub.status.idle": "2020-09-08T13:41:56.948002Z",
     "shell.execute_reply": "2020-09-08T13:41:56.947180Z"
    },
    "jupyter": {
     "source_hidden": true
    },
    "papermill": {
     "duration": 0.028751,
     "end_time": "2020-09-08T13:41:56.948246",
     "exception": false,
     "start_time": "2020-09-08T13:41:56.919495",
     "status": "completed"
    },
    "tags": []
   },
   "outputs": [],
   "source": [
    "df.drop('Unnamed: 0',axis=1,inplace=True)"
   ]
  },
  {
   "cell_type": "markdown",
   "metadata": {
    "_uuid": "12e94ad381e4cb8d2c8a9bbe08ce07ab5d49c040",
    "papermill": {
     "duration": 0.012015,
     "end_time": "2020-09-08T13:41:56.972495",
     "exception": false,
     "start_time": "2020-09-08T13:41:56.960480",
     "status": "completed"
    },
    "tags": []
   },
   "source": [
    "well as a first observation we can see that we are lucky, we dont have any missing values (18249 complete data) and 13 columns.\n",
    "Now let's do some Feature Engineering on the Date Feature so we can be able to use the day and the month columns in building our machine learning model later. ( I didn't mention the year because its already there in data frame)"
   ]
  },
  {
   "cell_type": "code",
   "execution_count": 7,
   "metadata": {
    "_uuid": "f031639ce794656e877484d1c9c356df7028177f",
    "execution": {
     "iopub.execute_input": "2020-09-08T13:41:57.009090Z",
     "iopub.status.busy": "2020-09-08T13:41:57.006248Z",
     "iopub.status.idle": "2020-09-08T13:41:57.154627Z",
     "shell.execute_reply": "2020-09-08T13:41:57.153852Z"
    },
    "jupyter": {
     "source_hidden": true
    },
    "papermill": {
     "duration": 0.16953,
     "end_time": "2020-09-08T13:41:57.154867",
     "exception": false,
     "start_time": "2020-09-08T13:41:56.985337",
     "status": "completed"
    },
    "tags": []
   },
   "outputs": [],
   "source": [
    "df['Date']=pd.to_datetime(df['Date'])\n",
    "df['Month']=df['Date'].apply(lambda x:x.month)\n",
    "df['Day']=df['Date'].apply(lambda x:x.day)"
   ]
  },
  {
   "cell_type": "markdown",
   "metadata": {
    "_uuid": "ebdcac9924ce3e366fd3a75170682f7113385b7a",
    "papermill": {
     "duration": 0.011076,
     "end_time": "2020-09-08T13:41:57.180873",
     "exception": false,
     "start_time": "2020-09-08T13:41:57.169797",
     "status": "completed"
    },
    "tags": []
   },
   "source": [
    "as we can see we have 54 regions and 2 unique types, so it's going to be easy to to transform the type feature to dummies, but for the region its going to be a bit complexe so I decided to drop the entire column.\n",
    "I will drop the Date Feature as well because I already have 3 other columns for the Year, Month and Day."
   ]
  },
  {
   "cell_type": "code",
   "execution_count": 8,
   "metadata": {
    "_uuid": "a798682da34327b731ef262985fd50ba68e06460",
    "execution": {
     "iopub.execute_input": "2020-09-08T13:41:57.206432Z",
     "iopub.status.busy": "2020-09-08T13:41:57.205280Z",
     "iopub.status.idle": "2020-09-08T13:41:57.220986Z",
     "shell.execute_reply": "2020-09-08T13:41:57.221414Z"
    },
    "jupyter": {
     "source_hidden": true
    },
    "papermill": {
     "duration": 0.031044,
     "end_time": "2020-09-08T13:41:57.221652",
     "exception": false,
     "start_time": "2020-09-08T13:41:57.190608",
     "status": "completed"
    },
    "tags": []
   },
   "outputs": [],
   "source": [
    "df_final=pd.get_dummies(df.drop(['region','Date'],axis=1),drop_first=True)"
   ]
  },
  {
   "cell_type": "markdown",
   "metadata": {
    "_uuid": "8b74a6b88cb3e9b3e1d1e987e061048f203c7364",
    "papermill": {
     "duration": 0.009997,
     "end_time": "2020-09-08T13:41:57.241784",
     "exception": false,
     "start_time": "2020-09-08T13:41:57.231787",
     "status": "completed"
    },
    "tags": []
   },
   "source": [
    "Now our data are ready! lets apply our model which is going to be the Linear Regression because our Target variable 'AveragePrice'is continuous.\n",
    "Let's now begin to train out regression model! We will need to first split up our data into an X array that contains the features to train on, and a y array with the target variable"
   ]
  },
  {
   "cell_type": "code",
   "execution_count": 9,
   "metadata": {
    "_uuid": "830591f99de9715241e688bf9ce265e979401ff5",
    "execution": {
     "iopub.execute_input": "2020-09-08T13:41:57.269284Z",
     "iopub.status.busy": "2020-09-08T13:41:57.267457Z",
     "iopub.status.idle": "2020-09-08T13:41:57.284144Z",
     "shell.execute_reply": "2020-09-08T13:41:57.283526Z"
    },
    "jupyter": {
     "source_hidden": true
    },
    "papermill": {
     "duration": 0.031945,
     "end_time": "2020-09-08T13:41:57.284394",
     "exception": false,
     "start_time": "2020-09-08T13:41:57.252449",
     "status": "completed"
    },
    "tags": []
   },
   "outputs": [],
   "source": [
    "X=df_final.iloc[:,1:14]\n",
    "y=df_final['AveragePrice']\n",
    "from sklearn.model_selection import train_test_split\n",
    "X_train,X_test,y_train,y_test=train_test_split(X,y,test_size=0.2,random_state=42)"
   ]
  },
  {
   "cell_type": "markdown",
   "metadata": {
    "_uuid": "ea730c77a31cde9de98263079a189accb8b5772b",
    "papermill": {
     "duration": 0.012169,
     "end_time": "2020-09-08T13:41:57.308583",
     "exception": false,
     "start_time": "2020-09-08T13:41:57.296414",
     "status": "completed"
    },
    "tags": []
   },
   "source": [
    "Creating and Training the Model"
   ]
  },
  {
   "cell_type": "code",
   "execution_count": 10,
   "metadata": {
    "_uuid": "eb37015e78974e5fd2ae7e13d065c8ab0a9c6948",
    "execution": {
     "iopub.execute_input": "2020-09-08T13:41:57.341405Z",
     "iopub.status.busy": "2020-09-08T13:41:57.339996Z",
     "iopub.status.idle": "2020-09-08T13:42:11.974314Z",
     "shell.execute_reply": "2020-09-08T13:42:11.973519Z"
    },
    "jupyter": {
     "source_hidden": true
    },
    "papermill": {
     "duration": 14.65294,
     "end_time": "2020-09-08T13:42:11.974523",
     "exception": false,
     "start_time": "2020-09-08T13:41:57.321583",
     "status": "completed"
    },
    "tags": []
   },
   "outputs": [],
   "source": [
    "from sklearn.ensemble import RandomForestRegressor\n",
    "rdr = RandomForestRegressor(\n",
    "    n_estimators=n_estimators,\n",
    "    max_features=max_features\n",
    ")\n",
    "rdr.fit(X_train,y_train)\n",
    "pred=rdr.predict(X_test)"
   ]
  },
  {
   "cell_type": "code",
   "execution_count": 11,
   "metadata": {
    "_uuid": "7ed5b8d4e8abb44a4b548c13ac9fb2d65227d1c5",
    "execution": {
     "iopub.execute_input": "2020-09-08T13:42:11.998706Z",
     "iopub.status.busy": "2020-09-08T13:42:11.998024Z",
     "iopub.status.idle": "2020-09-08T13:42:12.001420Z",
     "shell.execute_reply": "2020-09-08T13:42:12.000696Z"
    },
    "jupyter": {
     "source_hidden": true
    },
    "papermill": {
     "duration": 0.01655,
     "end_time": "2020-09-08T13:42:12.001657",
     "exception": false,
     "start_time": "2020-09-08T13:42:11.985107",
     "status": "completed"
    },
    "tags": []
   },
   "outputs": [],
   "source": [
    "#%%capture cap --no-stderr\n",
    "#print(np.sqrt(mean_squared_error(y_test, pred)))"
   ]
  },
  {
   "cell_type": "code",
   "execution_count": 12,
   "metadata": {
    "execution": {
     "iopub.execute_input": "2020-09-08T13:42:12.027175Z",
     "iopub.status.busy": "2020-09-08T13:42:12.026491Z",
     "iopub.status.idle": "2020-09-08T13:42:12.030307Z",
     "shell.execute_reply": "2020-09-08T13:42:12.029665Z"
    },
    "jupyter": {
     "source_hidden": true
    },
    "papermill": {
     "duration": 0.018748,
     "end_time": "2020-09-08T13:42:12.030571",
     "exception": false,
     "start_time": "2020-09-08T13:42:12.011823",
     "status": "completed"
    },
    "tags": []
   },
   "outputs": [],
   "source": [
    "#with open(output_rmse, 'w') as f:\n",
    "#    f.write(cap.stdout)"
   ]
  },
  {
   "cell_type": "code",
   "execution_count": 13,
   "metadata": {
    "execution": {
     "iopub.execute_input": "2020-09-08T13:42:12.062287Z",
     "iopub.status.busy": "2020-09-08T13:42:12.061316Z",
     "iopub.status.idle": "2020-09-08T13:42:12.085491Z",
     "shell.execute_reply": "2020-09-08T13:42:12.084710Z"
    },
    "jupyter": {
     "source_hidden": true
    },
    "papermill": {
     "duration": 0.041481,
     "end_time": "2020-09-08T13:42:12.085732",
     "exception": false,
     "start_time": "2020-09-08T13:42:12.044251",
     "status": "completed"
    },
    "tags": []
   },
   "outputs": [
    {
     "data": {
      "text/plain": [
       "<sqlalchemy.engine.result.ResultProxy at 0x7f94a45c5910>"
      ]
     },
     "execution_count": 13,
     "metadata": {},
     "output_type": "execute_result"
    }
   ],
   "source": [
    "cnx.execute(\"\"\"\n",
    "    INSERT INTO ml.accuracies (ml_id, ml_date, accuracy) VALUES ('{0}', '{1}', {2}) \n",
    "    ON CONFLICT (ml_id, ml_date) \n",
    "    DO\n",
    "        UPDATE SET accuracy = {2};\n",
    "    \"\"\".format(ml_id, ml_date, np.sqrt(mean_squared_error(y_test, pred))))"
   ]
  }
 ],
 "metadata": {
  "kernelspec": {
   "display_name": "Python 3",
   "language": "python",
   "name": "python3"
  },
  "language_info": {
   "codemirror_mode": {
    "name": "ipython",
    "version": 3
   },
   "file_extension": ".py",
   "mimetype": "text/x-python",
   "name": "python",
   "nbconvert_exporter": "python",
   "pygments_lexer": "ipython3",
   "version": "3.7.8"
  },
  "papermill": {
   "duration": 19.366735,
   "end_time": "2020-09-08T13:42:13.617992",
   "environment_variables": {},
   "exception": null,
   "input_path": "/usr/local/airflow/include/notebooks/avocado_prediction.ipynb",
   "output_path": "/tmp/out-model-avocado-prediction-auto_150.ipynb",
   "parameters": {
    "filepath": "/tmp/avocado.csv",
    "max_features": "auto",
    "ml_id": "auto_150",
    "n_estimators": 150
   },
   "start_time": "2020-09-08T13:41:54.251257",
   "version": "2.1.2"
  }
 },
 "nbformat": 4,
 "nbformat_minor": 4
}