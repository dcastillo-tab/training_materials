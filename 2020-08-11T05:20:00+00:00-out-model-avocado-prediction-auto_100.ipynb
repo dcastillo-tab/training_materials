{
 "cells": [
  {
   "cell_type": "code",
   "execution_count": 1,
   "metadata": {
    "_cell_guid": "79c7e3d0-c299-4dcb-8224-4455121ee9b0",
    "_uuid": "d629ff2d2480ee46fbb7e2d37f6b5fab8052498a",
    "execution": {
     "iopub.execute_input": "2020-08-11T07:53:37.430104Z",
     "iopub.status.busy": "2020-08-11T07:53:37.425277Z",
     "iopub.status.idle": "2020-08-11T07:53:39.276902Z",
     "shell.execute_reply": "2020-08-11T07:53:39.278994Z"
    },
    "jupyter": {
     "source_hidden": true
    },
    "papermill": {
     "duration": 1.897439,
     "end_time": "2020-08-11T07:53:39.279905",
     "exception": false,
     "start_time": "2020-08-11T07:53:37.382466",
     "status": "completed"
    },
    "tags": []
   },
   "outputs": [],
   "source": [
    "import pandas as pd\n",
    "import numpy as np\n",
    "from sqlalchemy import create_engine\n",
    "from datetime import date\n",
    "from sklearn.metrics import mean_squared_error"
   ]
  },
  {
   "cell_type": "code",
   "execution_count": 2,
   "metadata": {
    "execution": {
     "iopub.execute_input": "2020-08-11T07:53:39.366270Z",
     "iopub.status.busy": "2020-08-11T07:53:39.363914Z",
     "iopub.status.idle": "2020-08-11T07:53:39.452848Z",
     "shell.execute_reply": "2020-08-11T07:53:39.454472Z"
    },
    "jupyter": {
     "source_hidden": true
    },
    "papermill": {
     "duration": 0.139498,
     "end_time": "2020-08-11T07:53:39.455233",
     "exception": false,
     "start_time": "2020-08-11T07:53:39.315735",
     "status": "completed"
    },
    "tags": []
   },
   "outputs": [],
   "source": [
    "# THIS IS PURELY FOR TEST PURPOSE NEVER DO THAT IN PRODUCTION\n",
    "POSTGRES_ADDRESS='postgres'\n",
    "POSTGRES_PORT='5432'\n",
    "POSTGRES_USERNAME='postgres'\n",
    "POSTGRES_PASSWORD='postgres'\n",
    "\n",
    "postgres_conn = 'postgresql://{0}:{1}@{2}:{3}/'.format(POSTGRES_USERNAME, POSTGRES_PASSWORD, POSTGRES_ADDRESS, POSTGRES_PORT)\n",
    "\n",
    "# Create the connection\n",
    "cnx = create_engine(postgres_conn)\n"
   ]
  },
  {
   "cell_type": "markdown",
   "metadata": {
    "_uuid": "1998755ef10683262b29765345cff1c1c7d10b15",
    "papermill": {
     "duration": 0.027778,
     "end_time": "2020-08-11T07:53:39.511074",
     "exception": false,
     "start_time": "2020-08-11T07:53:39.483296",
     "status": "completed"
    },
    "tags": []
   },
   "source": [
    "Read in the Avocado Prices csv file as a DataFrame called df"
   ]
  },
  {
   "cell_type": "code",
   "execution_count": 3,
   "metadata": {
    "execution": {
     "iopub.execute_input": "2020-08-11T07:53:39.589267Z",
     "iopub.status.busy": "2020-08-11T07:53:39.587513Z",
     "iopub.status.idle": "2020-08-11T07:53:39.596555Z",
     "shell.execute_reply": "2020-08-11T07:53:39.598327Z"
    },
    "jupyter": {
     "source_hidden": true
    },
    "papermill": {
     "duration": 0.060139,
     "end_time": "2020-08-11T07:53:39.599121",
     "exception": false,
     "start_time": "2020-08-11T07:53:39.538982",
     "status": "completed"
    },
    "tags": [
     "parameters"
    ]
   },
   "outputs": [],
   "source": [
    "# Parameterized\n",
    "\n",
    "filepath='avocado.csv'\n",
    "ml_id='auto_100'\n",
    "ml_date=date.today()\n",
    "n_estimators = 100\n",
    "max_features = 'auto'"
   ]
  },
  {
   "cell_type": "code",
   "execution_count": 4,
   "metadata": {
    "execution": {
     "iopub.execute_input": "2020-08-11T07:53:39.673796Z",
     "iopub.status.busy": "2020-08-11T07:53:39.671651Z",
     "iopub.status.idle": "2020-08-11T07:53:39.680007Z",
     "shell.execute_reply": "2020-08-11T07:53:39.678316Z"
    },
    "jupyter": {
     "source_hidden": true
    },
    "papermill": {
     "duration": 0.048743,
     "end_time": "2020-08-11T07:53:39.680578",
     "exception": false,
     "start_time": "2020-08-11T07:53:39.631835",
     "status": "completed"
    },
    "tags": [
     "injected-parameters"
    ]
   },
   "outputs": [],
   "source": [
    "# Parameters\n",
    "filepath = \"/tmp/avocado.csv\"\n",
    "n_estimators = 100\n",
    "max_features = \"auto\"\n",
    "ml_id = \"auto_100\"\n"
   ]
  },
  {
   "cell_type": "code",
   "execution_count": 5,
   "metadata": {
    "_uuid": "55d0e719eb8b91d763c1eacaf0f51ee0586486fc",
    "execution": {
     "iopub.execute_input": "2020-08-11T07:53:39.760972Z",
     "iopub.status.busy": "2020-08-11T07:53:39.757676Z",
     "iopub.status.idle": "2020-08-11T07:53:39.853394Z",
     "shell.execute_reply": "2020-08-11T07:53:39.851856Z"
    },
    "jupyter": {
     "source_hidden": true
    },
    "papermill": {
     "duration": 0.144892,
     "end_time": "2020-08-11T07:53:39.854074",
     "exception": false,
     "start_time": "2020-08-11T07:53:39.709182",
     "status": "completed"
    },
    "tags": []
   },
   "outputs": [],
   "source": [
    "df= pd.read_csv(filepath)"
   ]
  },
  {
   "cell_type": "markdown",
   "metadata": {
    "_uuid": "434e0457f550e2200424e5ec26162e1aa5904005",
    "papermill": {
     "duration": 0.037549,
     "end_time": "2020-08-11T07:53:39.920730",
     "exception": false,
     "start_time": "2020-08-11T07:53:39.883181",
     "status": "completed"
    },
    "tags": []
   },
   "source": [
    "The Feature \"Unnamed:0\" is just a representation of the indexes, so it's useless to keep it, lets remove it !"
   ]
  },
  {
   "cell_type": "code",
   "execution_count": 6,
   "metadata": {
    "_uuid": "9875398e37728dc3141fed4228be337a4735beb6",
    "execution": {
     "iopub.execute_input": "2020-08-11T07:53:40.004700Z",
     "iopub.status.busy": "2020-08-11T07:53:40.000186Z",
     "iopub.status.idle": "2020-08-11T07:53:40.014287Z",
     "shell.execute_reply": "2020-08-11T07:53:40.015783Z"
    },
    "jupyter": {
     "source_hidden": true
    },
    "papermill": {
     "duration": 0.064892,
     "end_time": "2020-08-11T07:53:40.016549",
     "exception": false,
     "start_time": "2020-08-11T07:53:39.951657",
     "status": "completed"
    },
    "tags": []
   },
   "outputs": [],
   "source": [
    "df.drop('Unnamed: 0',axis=1,inplace=True)"
   ]
  },
  {
   "cell_type": "markdown",
   "metadata": {
    "_uuid": "12e94ad381e4cb8d2c8a9bbe08ce07ab5d49c040",
    "papermill": {
     "duration": 0.031438,
     "end_time": "2020-08-11T07:53:40.080772",
     "exception": false,
     "start_time": "2020-08-11T07:53:40.049334",
     "status": "completed"
    },
    "tags": []
   },
   "source": [
    "well as a first observation we can see that we are lucky, we dont have any missing values (18249 complete data) and 13 columns.\n",
    "Now let's do some Feature Engineering on the Date Feature so we can be able to use the day and the month columns in building our machine learning model later. ( I didn't mention the year because its already there in data frame)"
   ]
  },
  {
   "cell_type": "code",
   "execution_count": 7,
   "metadata": {
    "_uuid": "f031639ce794656e877484d1c9c356df7028177f",
    "execution": {
     "iopub.execute_input": "2020-08-11T07:53:40.219821Z",
     "iopub.status.busy": "2020-08-11T07:53:40.217367Z",
     "iopub.status.idle": "2020-08-11T07:53:40.616424Z",
     "shell.execute_reply": "2020-08-11T07:53:40.618403Z"
    },
    "jupyter": {
     "source_hidden": true
    },
    "papermill": {
     "duration": 0.509885,
     "end_time": "2020-08-11T07:53:40.619187",
     "exception": false,
     "start_time": "2020-08-11T07:53:40.109302",
     "status": "completed"
    },
    "tags": []
   },
   "outputs": [],
   "source": [
    "df['Date']=pd.to_datetime(df['Date'])\n",
    "df['Month']=df['Date'].apply(lambda x:x.month)\n",
    "df['Day']=df['Date'].apply(lambda x:x.day)"
   ]
  },
  {
   "cell_type": "markdown",
   "metadata": {
    "_uuid": "ebdcac9924ce3e366fd3a75170682f7113385b7a",
    "papermill": {
     "duration": 0.032244,
     "end_time": "2020-08-11T07:53:40.681893",
     "exception": false,
     "start_time": "2020-08-11T07:53:40.649649",
     "status": "completed"
    },
    "tags": []
   },
   "source": [
    "as we can see we have 54 regions and 2 unique types, so it's going to be easy to to transform the type feature to dummies, but for the region its going to be a bit complexe so I decided to drop the entire column.\n",
    "I will drop the Date Feature as well because I already have 3 other columns for the Year, Month and Day."
   ]
  },
  {
   "cell_type": "code",
   "execution_count": 8,
   "metadata": {
    "_uuid": "a798682da34327b731ef262985fd50ba68e06460",
    "execution": {
     "iopub.execute_input": "2020-08-11T07:53:40.778177Z",
     "iopub.status.busy": "2020-08-11T07:53:40.752561Z",
     "iopub.status.idle": "2020-08-11T07:53:40.800515Z",
     "shell.execute_reply": "2020-08-11T07:53:40.801899Z"
    },
    "jupyter": {
     "source_hidden": true
    },
    "papermill": {
     "duration": 0.090594,
     "end_time": "2020-08-11T07:53:40.802515",
     "exception": false,
     "start_time": "2020-08-11T07:53:40.711921",
     "status": "completed"
    },
    "tags": []
   },
   "outputs": [],
   "source": [
    "df_final=pd.get_dummies(df.drop(['region','Date'],axis=1),drop_first=True)"
   ]
  },
  {
   "cell_type": "markdown",
   "metadata": {
    "_uuid": "8b74a6b88cb3e9b3e1d1e987e061048f203c7364",
    "papermill": {
     "duration": 0.029593,
     "end_time": "2020-08-11T07:53:40.860958",
     "exception": false,
     "start_time": "2020-08-11T07:53:40.831365",
     "status": "completed"
    },
    "tags": []
   },
   "source": [
    "Now our data are ready! lets apply our model which is going to be the Linear Regression because our Target variable 'AveragePrice'is continuous.\n",
    "Let's now begin to train out regression model! We will need to first split up our data into an X array that contains the features to train on, and a y array with the target variable"
   ]
  },
  {
   "cell_type": "code",
   "execution_count": 9,
   "metadata": {
    "_uuid": "830591f99de9715241e688bf9ce265e979401ff5",
    "execution": {
     "iopub.execute_input": "2020-08-11T07:53:40.944657Z",
     "iopub.status.busy": "2020-08-11T07:53:40.942523Z",
     "iopub.status.idle": "2020-08-11T07:53:40.977286Z",
     "shell.execute_reply": "2020-08-11T07:53:40.974834Z"
    },
    "jupyter": {
     "source_hidden": true
    },
    "papermill": {
     "duration": 0.087291,
     "end_time": "2020-08-11T07:53:40.977999",
     "exception": false,
     "start_time": "2020-08-11T07:53:40.890708",
     "status": "completed"
    },
    "tags": []
   },
   "outputs": [],
   "source": [
    "X=df_final.iloc[:,1:14]\n",
    "y=df_final['AveragePrice']\n",
    "from sklearn.model_selection import train_test_split\n",
    "X_train,X_test,y_train,y_test=train_test_split(X,y,test_size=0.2,random_state=42)"
   ]
  },
  {
   "cell_type": "markdown",
   "metadata": {
    "_uuid": "ea730c77a31cde9de98263079a189accb8b5772b",
    "papermill": {
     "duration": 0.029429,
     "end_time": "2020-08-11T07:53:41.037175",
     "exception": false,
     "start_time": "2020-08-11T07:53:41.007746",
     "status": "completed"
    },
    "tags": []
   },
   "source": [
    "Creating and Training the Model"
   ]
  },
  {
   "cell_type": "code",
   "execution_count": 10,
   "metadata": {
    "_uuid": "eb37015e78974e5fd2ae7e13d065c8ab0a9c6948",
    "execution": {
     "iopub.execute_input": "2020-08-11T07:53:41.115589Z",
     "iopub.status.busy": "2020-08-11T07:53:41.113255Z",
     "iopub.status.idle": "2020-08-11T07:54:07.921822Z",
     "shell.execute_reply": "2020-08-11T07:54:07.920223Z"
    },
    "jupyter": {
     "source_hidden": true
    },
    "papermill": {
     "duration": 26.855159,
     "end_time": "2020-08-11T07:54:07.922512",
     "exception": false,
     "start_time": "2020-08-11T07:53:41.067353",
     "status": "completed"
    },
    "tags": []
   },
   "outputs": [],
   "source": [
    "from sklearn.ensemble import RandomForestRegressor\n",
    "rdr = RandomForestRegressor(\n",
    "    n_estimators=n_estimators,\n",
    "    max_features=max_features\n",
    ")\n",
    "rdr.fit(X_train,y_train)\n",
    "pred=rdr.predict(X_test)"
   ]
  },
  {
   "cell_type": "code",
   "execution_count": 11,
   "metadata": {
    "_uuid": "7ed5b8d4e8abb44a4b548c13ac9fb2d65227d1c5",
    "execution": {
     "iopub.execute_input": "2020-08-11T07:54:07.994138Z",
     "iopub.status.busy": "2020-08-11T07:54:07.992285Z",
     "iopub.status.idle": "2020-08-11T07:54:08.000155Z",
     "shell.execute_reply": "2020-08-11T07:54:08.001707Z"
    },
    "jupyter": {
     "source_hidden": true
    },
    "papermill": {
     "duration": 0.049483,
     "end_time": "2020-08-11T07:54:08.002496",
     "exception": false,
     "start_time": "2020-08-11T07:54:07.953013",
     "status": "completed"
    },
    "tags": []
   },
   "outputs": [],
   "source": [
    "#%%capture cap --no-stderr\n",
    "#print(np.sqrt(mean_squared_error(y_test, pred)))"
   ]
  },
  {
   "cell_type": "code",
   "execution_count": 12,
   "metadata": {
    "execution": {
     "iopub.execute_input": "2020-08-11T07:54:08.074493Z",
     "iopub.status.busy": "2020-08-11T07:54:08.072497Z",
     "iopub.status.idle": "2020-08-11T07:54:08.082706Z",
     "shell.execute_reply": "2020-08-11T07:54:08.080575Z"
    },
    "jupyter": {
     "source_hidden": true
    },
    "papermill": {
     "duration": 0.05059,
     "end_time": "2020-08-11T07:54:08.083288",
     "exception": false,
     "start_time": "2020-08-11T07:54:08.032698",
     "status": "completed"
    },
    "tags": []
   },
   "outputs": [],
   "source": [
    "#with open(output_rmse, 'w') as f:\n",
    "#    f.write(cap.stdout)"
   ]
  },
  {
   "cell_type": "code",
   "execution_count": 13,
   "metadata": {
    "execution": {
     "iopub.execute_input": "2020-08-11T07:54:08.169424Z",
     "iopub.status.busy": "2020-08-11T07:54:08.160696Z",
     "iopub.status.idle": "2020-08-11T07:54:08.219829Z",
     "shell.execute_reply": "2020-08-11T07:54:08.218206Z"
    },
    "jupyter": {
     "source_hidden": true
    },
    "papermill": {
     "duration": 0.105431,
     "end_time": "2020-08-11T07:54:08.220515",
     "exception": false,
     "start_time": "2020-08-11T07:54:08.115084",
     "status": "completed"
    },
    "tags": []
   },
   "outputs": [
    {
     "data": {
      "text/plain": [
       "<sqlalchemy.engine.result.ResultProxy at 0x7fada9c4da10>"
      ]
     },
     "execution_count": 13,
     "metadata": {},
     "output_type": "execute_result"
    }
   ],
   "source": [
    "cnx.execute(\"\"\"\n",
    "    INSERT INTO ml.accuracies (ml_id, ml_date, accuracy) VALUES ('{0}', '{1}', {2}) \n",
    "    ON CONFLICT (ml_id, ml_date) \n",
    "    DO\n",
    "        UPDATE SET accuracy = {2};\n",
    "    \"\"\".format(ml_id, ml_date, np.sqrt(mean_squared_error(y_test, pred))))"
   ]
  }
 ],
 "metadata": {
  "kernelspec": {
   "display_name": "Python 3",
   "language": "python",
   "name": "python3"
  },
  "language_info": {
   "codemirror_mode": {
    "name": "ipython",
    "version": 3
   },
   "file_extension": ".py",
   "mimetype": "text/x-python",
   "name": "python",
   "nbconvert_exporter": "python",
   "pygments_lexer": "ipython3",
   "version": "3.7.7"
  },
  "papermill": {
   "duration": 34.982093,
   "end_time": "2020-08-11T07:54:09.606223",
   "environment_variables": {},
   "exception": null,
   "input_path": "/usr/local/airflow/include/notebooks/avocado_prediction.ipynb",
   "output_path": "/tmp/out-model-avocado-prediction-auto_100.ipynb",
   "parameters": {
    "filepath": "/tmp/avocado.csv",
    "max_features": "auto",
    "ml_id": "auto_100",
    "n_estimators": 100
   },
   "start_time": "2020-08-11T07:53:34.624130",
   "version": "2.1.2"
  }
 },
 "nbformat": 4,
 "nbformat_minor": 4
}